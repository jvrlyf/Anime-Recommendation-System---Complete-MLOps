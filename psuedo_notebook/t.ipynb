{
 "cells": [
  {
   "cell_type": "code",
   "execution_count": 18,
   "metadata": {},
   "outputs": [],
   "source": [
    "import pandas as pd\n",
    "df=pd.read_csv(r\"C:\\Users\\Anurag\\OneDrive\\Desktop\\macine_operation\\Recommendation_CICD\\DATA\\animess.csv\")"
   ]
  },
  {
   "cell_type": "code",
   "execution_count": 19,
   "metadata": {},
   "outputs": [],
   "source": [
    "df.dropna(inplace=True)"
   ]
  },
  {
   "cell_type": "code",
   "execution_count": 20,
   "metadata": {},
   "outputs": [
    {
     "data": {
      "application/vnd.microsoft.datawrangler.viewer.v0+json": {
       "columns": [
        {
         "name": "index",
         "rawType": "int64",
         "type": "integer"
        },
        {
         "name": "ID",
         "rawType": "int64",
         "type": "integer"
        },
        {
         "name": "Title",
         "rawType": "object",
         "type": "string"
        },
        {
         "name": "Synonyms",
         "rawType": "object",
         "type": "string"
        },
        {
         "name": "Japanese",
         "rawType": "object",
         "type": "string"
        },
        {
         "name": "English",
         "rawType": "object",
         "type": "string"
        },
        {
         "name": "Synopsis",
         "rawType": "object",
         "type": "string"
        },
        {
         "name": "Type",
         "rawType": "object",
         "type": "string"
        },
        {
         "name": "Episodes",
         "rawType": "float64",
         "type": "float"
        },
        {
         "name": "Status",
         "rawType": "object",
         "type": "string"
        },
        {
         "name": "Start_Aired",
         "rawType": "object",
         "type": "string"
        },
        {
         "name": "End_Aired",
         "rawType": "object",
         "type": "string"
        },
        {
         "name": "Premiered",
         "rawType": "object",
         "type": "string"
        },
        {
         "name": "Broadcast",
         "rawType": "object",
         "type": "string"
        },
        {
         "name": "Producers",
         "rawType": "object",
         "type": "string"
        },
        {
         "name": "Licensors",
         "rawType": "object",
         "type": "string"
        },
        {
         "name": "Studios",
         "rawType": "object",
         "type": "string"
        },
        {
         "name": "Source",
         "rawType": "object",
         "type": "string"
        },
        {
         "name": "Genres",
         "rawType": "object",
         "type": "string"
        },
        {
         "name": "Themes",
         "rawType": "object",
         "type": "string"
        },
        {
         "name": "Demographics",
         "rawType": "object",
         "type": "string"
        },
        {
         "name": "Duration_Minutes",
         "rawType": "float64",
         "type": "float"
        },
        {
         "name": "Rating",
         "rawType": "object",
         "type": "string"
        },
        {
         "name": "Score",
         "rawType": "float64",
         "type": "float"
        },
        {
         "name": "Scored_Users",
         "rawType": "float64",
         "type": "float"
        },
        {
         "name": "Ranked",
         "rawType": "float64",
         "type": "float"
        },
        {
         "name": "Popularity",
         "rawType": "int64",
         "type": "integer"
        },
        {
         "name": "Members",
         "rawType": "int64",
         "type": "integer"
        },
        {
         "name": "Favorites",
         "rawType": "int64",
         "type": "integer"
        }
       ],
       "conversionMethod": "pd.DataFrame",
       "ref": "ca5fe8a6-5ca2-47c4-9943-cbbc5f4361e2",
       "rows": [
        [
         "0",
         "16498",
         "Shingeki no Kyojin",
         "AoT, SnK",
         "進撃の巨人",
         "Attack on Titan",
         "Centuries ago, mankind was slaughtered to near extinction by monstrous humanoid creatures called Titans, forcing humans to hide in fear behind enormous concentric walls. What makes these giants truly terrifying is that their taste for human flesh is not born out of hunger but what appears to be out of pleasure. To ensure their survival, the remnants of humanity began living within defensive barriers, resulting in one hundred years without a single titan encounter. However, that fragile calm is soon shattered when a colossal Titan manages to breach the supposedly impregnable outer wall, reigniting the fight for survival against the man-eating abominations.\n\r\nAfter witnessing a horrific personal loss at the hands of the invading creatures, Eren Yeager dedicates his life to their eradication by enlisting into the Survey Corps, an elite military unit that combats the merciless humanoids outside the protection of the walls. Eren, his adopted sister Mikasa Ackerman, and his childhood friend Armin Arlert join the brutal war against the Titans and race to discover a way of defeating them before the last walls are breached.\n\r\n[Written by MAL Rewrite]",
         "TV",
         "25.0",
         "Finished Airing",
         "Apr 7, 2013",
         "Sep 29, 2013",
         "Spring 2013",
         "Sundays at 0158 (JST)",
         "Production I.G, Dentsu, Mainichi Broadcasting System, Pony Canyon, Kodansha, Mad Box, Pony Canyon Enterprise",
         "Funimation",
         "Wit Studio",
         "Manga",
         "Action, Drama",
         "Gore, Military, Survival",
         "Shounen",
         "24.0",
         "R - 17+ (violence & profanity)",
         "8.531",
         "519803.0",
         "1002.0",
         "1",
         "3524109",
         "155695"
        ],
        [
         "1",
         "1535",
         "Death Note",
         "DN",
         "デスノート",
         "Death Note",
         "Brutal murders, petty thefts, and senseless violence pollute the human world. In contrast, the realm of death gods is a humdrum, unchanging gambling den. The ingenious 17-year-old Japanese student Light Yagami and sadistic god of death Ryuk share one belief: their worlds are rotten.\n\r\nFor his own amusement, Ryuk drops his \"Death Note\" into the human world. Light stumbles upon it, deeming the first of its rules ridiculous: the human whose name is written in this note shall die. However, the temptation is too great, and Light experiments by writing a felon's name, which disturbingly enacts his first murder.\n\r\nAware of the terrifying godlike power that has fallen into his hands, Light—under the alias \"Kira\"—follows his wicked sense of justice with the ultimate goal of cleansing the world of all evil-doers. The meticulous mastermind detective L is already on his trail, but as Light's brilliance rivals L's, the grand chase for Kira turns into an intense battle of wits that can only end when one of them is dead.\n\r\n[Written by MAL Rewrite]\n",
         "TV",
         "37.0",
         "Finished Airing",
         "Oct 4, 2006",
         "Jun 27, 2007",
         "Fall 2006",
         "Wednesdays at 0056 (JST)",
         "VAP, Konami, Ashi Productions, Nippon Television Network, Shueisha",
         "VIZ Media",
         "Madhouse",
         "Manga",
         "Supernatural, Suspense",
         "Psychological",
         "Shounen",
         "23.0",
         "R - 17+ (violence & profanity)",
         "8.621",
         "485487.0",
         "732.0",
         "2",
         "3504535",
         "159701"
        ],
        [
         "2",
         "5114",
         "Fullmetal Alchemist: Brotherhood",
         "Hagane no Renkinjutsushi Fullmetal Alchemist, Fullmetal Alchemist (2009), FMA, FMAB",
         "鋼の錬金術師 FULLMETAL ALCHEMIST",
         "Fullmetal Alchemist Brotherhood",
         "After a horrific alchemy experiment goes wrong in the Elric household, brothers Edward and Alphonse are left in a catastrophic new reality. Ignoring the alchemical principle banning human transmutation, the boys attempted to bring their recently deceased mother back to life. Instead, they suffered brutal personal loss: Alphonse's body disintegrated while Edward lost a leg and then sacrificed an arm to keep Alphonse's soul in the physical realm by binding it to a hulking suit of armor.\n\r\nThe brothers are rescued by their neighbor Pinako Rockbell and her granddaughter Winry. Known as a bio-mechanical engineering prodigy, Winry creates prosthetic limbs for Edward by utilizing \"automail,\" a tough, versatile metal used in robots and combat armor. After years of training, the Elric brothers set off on a quest to restore their bodies by locating the Philosopher's Stone—a powerful gem that allows an alchemist to defy the traditional laws of Equivalent Exchange.\n\r\nAs Edward becomes an infamous alchemist and gains the nickname \"Fullmetal,\" the boys' journey embroils them in a growing conspiracy that threatens the fate of the world.\n\r\n[Written by MAL Rewrite]",
         "TV",
         "64.0",
         "Finished Airing",
         "Apr 5, 2009",
         "Jul 4, 2010",
         "Spring 2009",
         "Sundays at 1700 (JST)",
         "Aniplex, Square Enix, Mainichi Broadcasting System, Studio Moriken",
         "Funimation, Aniplex of America",
         "Bones",
         "Manga",
         "Action, Adventure, Drama, Fantasy",
         "Military",
         "Shounen",
         "24.0",
         "R - 17+ (violence & profanity)",
         "9.131",
         "900398.0",
         "12.0",
         "3",
         "2978455",
         "207772"
        ],
        [
         "3",
         "30276",
         "One Punch Man",
         "One Punch-Man, One-Punch Man, OPM",
         "ワンパンマン",
         "One Punch Man",
         "The seemingly unimpressive Saitama has a rather unique hobby: being a hero. In order to pursue his childhood dream, Saitama relentlessly trained for three years, losing all of his hair in the process. Now, Saitama is so powerful, he can defeat any enemy with just one punch. However, having no one capable of matching his strength has led Saitama to an unexpected problem—he is no longer able to enjoy the thrill of battling and has become quite bored.\n\r\nOne day, Saitama catches the attention of 19-year-old cyborg Genos, who witnesses his power and wishes to become Saitama's disciple. Genos proposes that the two join the Hero Association in order to become certified heroes that will be recognized for their positive contributions to society. Saitama, who is shocked that no one knows who he is, quickly agrees. Meeting new allies and taking on new foes, Saitama embarks on a new journey as a member of the Hero Association to experience the excitement of battle he once felt.\n\r\n[Written by MAL Rewrite]",
         "TV",
         "12.0",
         "Finished Airing",
         "Oct 5, 2015",
         "Dec 21, 2015",
         "Fall 2015",
         "Mondays at 0105 (JST)",
         "TV Tokyo, Bandai Visual, Lantis, Asatsu DK, Banpresto, Good Smile Company, Shueisha, JR East Marketing & Communications",
         "VIZ Media",
         "Madhouse",
         "Web manga",
         "Action, Comedy",
         "Parody, Super Power",
         "Seinen",
         "24.0",
         "R - 17+ (violence & profanity)",
         "8.511",
         "19066.0",
         "1112.0",
         "4",
         "2879907",
         "59651"
        ],
        [
         "4",
         "11757",
         "Sword Art Online",
         "S.A.O, SAO",
         "ソードアート・オンライン",
         "Sword Art Online",
         "Ever since the release of the innovative NerveGear, gamers from all around the globe have been given the opportunity to experience a completely immersive virtual reality. Sword Art Online (SAO), one of the most recent games on the console, offers a gateway into the wondrous world of Aincrad, a vivid, medieval landscape where users can do anything within the limits of imagination. With the release of this worldwide sensation, gaming has never felt more lifelike.\n\r\nHowever, the idyllic fantasy rapidly becomes a brutal nightmare when SAO's creator traps thousands of players inside the game. The \"log-out\" function has been removed, with the only method of escape involving beating all of Aincrad's one hundred increasingly difficult levels. Adding to the struggle, any in-game death becomes permanent, ending the player's life in the real world.\n\r\nWhile Kazuto \"Kirito\" Kirigaya was fortunate enough to be a beta-tester for the game, he quickly finds that despite his advantages, he cannot overcome SAO's challenges alone. Teaming up with Asuna Yuuki and other talented players, Kirito makes an effort to face the seemingly insurmountable trials head-on. But with difficult bosses and threatening dark cults impeding his progress, Kirito finds that such tasks are much easier said than done.\n\r\n[Written by MAL Rewrite]\n",
         "TV",
         "25.0",
         "Finished Airing",
         "Jul 8, 2012",
         "Dec 23, 2012",
         "Summer 2012",
         "Sundays at 0000 (JST)",
         "Aniplex, Genco, DAX Production, ASCII Media Works, Bandai Namco Games",
         "Aniplex of America",
         "A-1 Pictures",
         "Light novel",
         "Action, Adventure, Fantasy, Romance",
         "Love Polygon, Video Game",
         "Unknown",
         "23.0",
         "PG-13 - Teens 13 or older",
         "7.201",
         "990254.0",
         "29562.0",
         "5",
         "2813565",
         "64997"
        ]
       ],
       "shape": {
        "columns": 28,
        "rows": 5
       }
      },
      "text/html": [
       "<div>\n",
       "<style scoped>\n",
       "    .dataframe tbody tr th:only-of-type {\n",
       "        vertical-align: middle;\n",
       "    }\n",
       "\n",
       "    .dataframe tbody tr th {\n",
       "        vertical-align: top;\n",
       "    }\n",
       "\n",
       "    .dataframe thead th {\n",
       "        text-align: right;\n",
       "    }\n",
       "</style>\n",
       "<table border=\"1\" class=\"dataframe\">\n",
       "  <thead>\n",
       "    <tr style=\"text-align: right;\">\n",
       "      <th></th>\n",
       "      <th>ID</th>\n",
       "      <th>Title</th>\n",
       "      <th>Synonyms</th>\n",
       "      <th>Japanese</th>\n",
       "      <th>English</th>\n",
       "      <th>Synopsis</th>\n",
       "      <th>Type</th>\n",
       "      <th>Episodes</th>\n",
       "      <th>Status</th>\n",
       "      <th>Start_Aired</th>\n",
       "      <th>...</th>\n",
       "      <th>Themes</th>\n",
       "      <th>Demographics</th>\n",
       "      <th>Duration_Minutes</th>\n",
       "      <th>Rating</th>\n",
       "      <th>Score</th>\n",
       "      <th>Scored_Users</th>\n",
       "      <th>Ranked</th>\n",
       "      <th>Popularity</th>\n",
       "      <th>Members</th>\n",
       "      <th>Favorites</th>\n",
       "    </tr>\n",
       "  </thead>\n",
       "  <tbody>\n",
       "    <tr>\n",
       "      <th>0</th>\n",
       "      <td>16498</td>\n",
       "      <td>Shingeki no Kyojin</td>\n",
       "      <td>AoT, SnK</td>\n",
       "      <td>進撃の巨人</td>\n",
       "      <td>Attack on Titan</td>\n",
       "      <td>Centuries ago, mankind was slaughtered to near...</td>\n",
       "      <td>TV</td>\n",
       "      <td>25.0</td>\n",
       "      <td>Finished Airing</td>\n",
       "      <td>Apr 7, 2013</td>\n",
       "      <td>...</td>\n",
       "      <td>Gore, Military, Survival</td>\n",
       "      <td>Shounen</td>\n",
       "      <td>24.0</td>\n",
       "      <td>R - 17+ (violence &amp; profanity)</td>\n",
       "      <td>8.531</td>\n",
       "      <td>519803.0</td>\n",
       "      <td>1002.0</td>\n",
       "      <td>1</td>\n",
       "      <td>3524109</td>\n",
       "      <td>155695</td>\n",
       "    </tr>\n",
       "    <tr>\n",
       "      <th>1</th>\n",
       "      <td>1535</td>\n",
       "      <td>Death Note</td>\n",
       "      <td>DN</td>\n",
       "      <td>デスノート</td>\n",
       "      <td>Death Note</td>\n",
       "      <td>Brutal murders, petty thefts, and senseless vi...</td>\n",
       "      <td>TV</td>\n",
       "      <td>37.0</td>\n",
       "      <td>Finished Airing</td>\n",
       "      <td>Oct 4, 2006</td>\n",
       "      <td>...</td>\n",
       "      <td>Psychological</td>\n",
       "      <td>Shounen</td>\n",
       "      <td>23.0</td>\n",
       "      <td>R - 17+ (violence &amp; profanity)</td>\n",
       "      <td>8.621</td>\n",
       "      <td>485487.0</td>\n",
       "      <td>732.0</td>\n",
       "      <td>2</td>\n",
       "      <td>3504535</td>\n",
       "      <td>159701</td>\n",
       "    </tr>\n",
       "    <tr>\n",
       "      <th>2</th>\n",
       "      <td>5114</td>\n",
       "      <td>Fullmetal Alchemist: Brotherhood</td>\n",
       "      <td>Hagane no Renkinjutsushi Fullmetal Alchemist, ...</td>\n",
       "      <td>鋼の錬金術師 FULLMETAL ALCHEMIST</td>\n",
       "      <td>Fullmetal Alchemist Brotherhood</td>\n",
       "      <td>After a horrific alchemy experiment goes wrong...</td>\n",
       "      <td>TV</td>\n",
       "      <td>64.0</td>\n",
       "      <td>Finished Airing</td>\n",
       "      <td>Apr 5, 2009</td>\n",
       "      <td>...</td>\n",
       "      <td>Military</td>\n",
       "      <td>Shounen</td>\n",
       "      <td>24.0</td>\n",
       "      <td>R - 17+ (violence &amp; profanity)</td>\n",
       "      <td>9.131</td>\n",
       "      <td>900398.0</td>\n",
       "      <td>12.0</td>\n",
       "      <td>3</td>\n",
       "      <td>2978455</td>\n",
       "      <td>207772</td>\n",
       "    </tr>\n",
       "    <tr>\n",
       "      <th>3</th>\n",
       "      <td>30276</td>\n",
       "      <td>One Punch Man</td>\n",
       "      <td>One Punch-Man, One-Punch Man, OPM</td>\n",
       "      <td>ワンパンマン</td>\n",
       "      <td>One Punch Man</td>\n",
       "      <td>The seemingly unimpressive Saitama has a rathe...</td>\n",
       "      <td>TV</td>\n",
       "      <td>12.0</td>\n",
       "      <td>Finished Airing</td>\n",
       "      <td>Oct 5, 2015</td>\n",
       "      <td>...</td>\n",
       "      <td>Parody, Super Power</td>\n",
       "      <td>Seinen</td>\n",
       "      <td>24.0</td>\n",
       "      <td>R - 17+ (violence &amp; profanity)</td>\n",
       "      <td>8.511</td>\n",
       "      <td>19066.0</td>\n",
       "      <td>1112.0</td>\n",
       "      <td>4</td>\n",
       "      <td>2879907</td>\n",
       "      <td>59651</td>\n",
       "    </tr>\n",
       "    <tr>\n",
       "      <th>4</th>\n",
       "      <td>11757</td>\n",
       "      <td>Sword Art Online</td>\n",
       "      <td>S.A.O, SAO</td>\n",
       "      <td>ソードアート・オンライン</td>\n",
       "      <td>Sword Art Online</td>\n",
       "      <td>Ever since the release of the innovative Nerve...</td>\n",
       "      <td>TV</td>\n",
       "      <td>25.0</td>\n",
       "      <td>Finished Airing</td>\n",
       "      <td>Jul 8, 2012</td>\n",
       "      <td>...</td>\n",
       "      <td>Love Polygon, Video Game</td>\n",
       "      <td>Unknown</td>\n",
       "      <td>23.0</td>\n",
       "      <td>PG-13 - Teens 13 or older</td>\n",
       "      <td>7.201</td>\n",
       "      <td>990254.0</td>\n",
       "      <td>29562.0</td>\n",
       "      <td>5</td>\n",
       "      <td>2813565</td>\n",
       "      <td>64997</td>\n",
       "    </tr>\n",
       "  </tbody>\n",
       "</table>\n",
       "<p>5 rows × 28 columns</p>\n",
       "</div>"
      ],
      "text/plain": [
       "      ID                             Title  \\\n",
       "0  16498                Shingeki no Kyojin   \n",
       "1   1535                        Death Note   \n",
       "2   5114  Fullmetal Alchemist: Brotherhood   \n",
       "3  30276                     One Punch Man   \n",
       "4  11757                  Sword Art Online   \n",
       "\n",
       "                                            Synonyms  \\\n",
       "0                                           AoT, SnK   \n",
       "1                                                 DN   \n",
       "2  Hagane no Renkinjutsushi Fullmetal Alchemist, ...   \n",
       "3                  One Punch-Man, One-Punch Man, OPM   \n",
       "4                                         S.A.O, SAO   \n",
       "\n",
       "                     Japanese                          English  \\\n",
       "0                       進撃の巨人                  Attack on Titan   \n",
       "1                       デスノート                       Death Note   \n",
       "2  鋼の錬金術師 FULLMETAL ALCHEMIST  Fullmetal Alchemist Brotherhood   \n",
       "3                      ワンパンマン                    One Punch Man   \n",
       "4                ソードアート・オンライン                 Sword Art Online   \n",
       "\n",
       "                                            Synopsis Type  Episodes  \\\n",
       "0  Centuries ago, mankind was slaughtered to near...   TV      25.0   \n",
       "1  Brutal murders, petty thefts, and senseless vi...   TV      37.0   \n",
       "2  After a horrific alchemy experiment goes wrong...   TV      64.0   \n",
       "3  The seemingly unimpressive Saitama has a rathe...   TV      12.0   \n",
       "4  Ever since the release of the innovative Nerve...   TV      25.0   \n",
       "\n",
       "            Status  Start_Aired  ...                    Themes Demographics  \\\n",
       "0  Finished Airing  Apr 7, 2013  ...  Gore, Military, Survival      Shounen   \n",
       "1  Finished Airing  Oct 4, 2006  ...             Psychological      Shounen   \n",
       "2  Finished Airing  Apr 5, 2009  ...                  Military      Shounen   \n",
       "3  Finished Airing  Oct 5, 2015  ...       Parody, Super Power       Seinen   \n",
       "4  Finished Airing  Jul 8, 2012  ...  Love Polygon, Video Game      Unknown   \n",
       "\n",
       "  Duration_Minutes                          Rating  Score Scored_Users  \\\n",
       "0             24.0  R - 17+ (violence & profanity)  8.531     519803.0   \n",
       "1             23.0  R - 17+ (violence & profanity)  8.621     485487.0   \n",
       "2             24.0  R - 17+ (violence & profanity)  9.131     900398.0   \n",
       "3             24.0  R - 17+ (violence & profanity)  8.511      19066.0   \n",
       "4             23.0       PG-13 - Teens 13 or older  7.201     990254.0   \n",
       "\n",
       "    Ranked Popularity  Members Favorites  \n",
       "0   1002.0          1  3524109    155695  \n",
       "1    732.0          2  3504535    159701  \n",
       "2     12.0          3  2978455    207772  \n",
       "3   1112.0          4  2879907     59651  \n",
       "4  29562.0          5  2813565     64997  \n",
       "\n",
       "[5 rows x 28 columns]"
      ]
     },
     "execution_count": 20,
     "metadata": {},
     "output_type": "execute_result"
    }
   ],
   "source": [
    "df.head()"
   ]
  },
  {
   "cell_type": "code",
   "execution_count": 21,
   "metadata": {},
   "outputs": [],
   "source": [
    "df=df.loc[df['English']!='Unknown']"
   ]
  },
  {
   "cell_type": "code",
   "execution_count": 22,
   "metadata": {},
   "outputs": [
    {
     "name": "stdout",
     "output_type": "stream",
     "text": [
      "<class 'pandas.core.frame.DataFrame'>\n",
      "Index: 6790 entries, 0 to 17720\n",
      "Data columns (total 28 columns):\n",
      " #   Column            Non-Null Count  Dtype  \n",
      "---  ------            --------------  -----  \n",
      " 0   ID                6790 non-null   int64  \n",
      " 1   Title             6790 non-null   object \n",
      " 2   Synonyms          6790 non-null   object \n",
      " 3   Japanese          6790 non-null   object \n",
      " 4   English           6790 non-null   object \n",
      " 5   Synopsis          6790 non-null   object \n",
      " 6   Type              6790 non-null   object \n",
      " 7   Episodes          6790 non-null   float64\n",
      " 8   Status            6790 non-null   object \n",
      " 9   Start_Aired       6790 non-null   object \n",
      " 10  End_Aired         6790 non-null   object \n",
      " 11  Premiered         6790 non-null   object \n",
      " 12  Broadcast         6790 non-null   object \n",
      " 13  Producers         6790 non-null   object \n",
      " 14  Licensors         6790 non-null   object \n",
      " 15  Studios           6790 non-null   object \n",
      " 16  Source            6790 non-null   object \n",
      " 17  Genres            6790 non-null   object \n",
      " 18  Themes            6790 non-null   object \n",
      " 19  Demographics      6790 non-null   object \n",
      " 20  Duration_Minutes  6790 non-null   float64\n",
      " 21  Rating            6790 non-null   object \n",
      " 22  Score             6790 non-null   float64\n",
      " 23  Scored_Users      6790 non-null   float64\n",
      " 24  Ranked            6790 non-null   float64\n",
      " 25  Popularity        6790 non-null   int64  \n",
      " 26  Members           6790 non-null   int64  \n",
      " 27  Favorites         6790 non-null   int64  \n",
      "dtypes: float64(5), int64(4), object(19)\n",
      "memory usage: 1.5+ MB\n"
     ]
    }
   ],
   "source": [
    "df.info()"
   ]
  },
  {
   "cell_type": "code",
   "execution_count": 23,
   "metadata": {},
   "outputs": [
    {
     "data": {
      "text/plain": [
       "(6790, 28)"
      ]
     },
     "execution_count": 23,
     "metadata": {},
     "output_type": "execute_result"
    }
   ],
   "source": [
    "df.shape"
   ]
  },
  {
   "cell_type": "code",
   "execution_count": 24,
   "metadata": {},
   "outputs": [],
   "source": [
    "df=df.head(3000)"
   ]
  },
  {
   "cell_type": "code",
   "execution_count": 25,
   "metadata": {},
   "outputs": [],
   "source": [
    "df.to_csv(r\"C:\\Users\\Anurag\\OneDrive\\Desktop\\macine_operation\\Recommendation_CICD\\Data_Versioning\\raw_data\\Sample_df.csv\")"
   ]
  },
  {
   "cell_type": "code",
   "execution_count": null,
   "metadata": {},
   "outputs": [],
   "source": []
  },
  {
   "cell_type": "code",
   "execution_count": 26,
   "metadata": {},
   "outputs": [
    {
     "data": {
      "application/vnd.microsoft.datawrangler.viewer.v0+json": {
       "columns": [
        {
         "name": "index",
         "rawType": "int64",
         "type": "integer"
        },
        {
         "name": "ID",
         "rawType": "int64",
         "type": "integer"
        },
        {
         "name": "Title",
         "rawType": "object",
         "type": "string"
        },
        {
         "name": "Synonyms",
         "rawType": "object",
         "type": "string"
        },
        {
         "name": "Japanese",
         "rawType": "object",
         "type": "string"
        },
        {
         "name": "English",
         "rawType": "object",
         "type": "string"
        },
        {
         "name": "Synopsis",
         "rawType": "object",
         "type": "string"
        },
        {
         "name": "Type",
         "rawType": "object",
         "type": "string"
        },
        {
         "name": "Episodes",
         "rawType": "float64",
         "type": "float"
        },
        {
         "name": "Status",
         "rawType": "object",
         "type": "string"
        },
        {
         "name": "Start_Aired",
         "rawType": "object",
         "type": "string"
        },
        {
         "name": "End_Aired",
         "rawType": "object",
         "type": "string"
        },
        {
         "name": "Premiered",
         "rawType": "object",
         "type": "string"
        },
        {
         "name": "Broadcast",
         "rawType": "object",
         "type": "string"
        },
        {
         "name": "Producers",
         "rawType": "object",
         "type": "string"
        },
        {
         "name": "Licensors",
         "rawType": "object",
         "type": "string"
        },
        {
         "name": "Studios",
         "rawType": "object",
         "type": "string"
        },
        {
         "name": "Source",
         "rawType": "object",
         "type": "string"
        },
        {
         "name": "Genres",
         "rawType": "object",
         "type": "string"
        },
        {
         "name": "Themes",
         "rawType": "object",
         "type": "string"
        },
        {
         "name": "Demographics",
         "rawType": "object",
         "type": "string"
        },
        {
         "name": "Duration_Minutes",
         "rawType": "float64",
         "type": "float"
        },
        {
         "name": "Rating",
         "rawType": "object",
         "type": "string"
        },
        {
         "name": "Score",
         "rawType": "float64",
         "type": "float"
        },
        {
         "name": "Scored_Users",
         "rawType": "float64",
         "type": "float"
        },
        {
         "name": "Ranked",
         "rawType": "float64",
         "type": "float"
        },
        {
         "name": "Popularity",
         "rawType": "int64",
         "type": "integer"
        },
        {
         "name": "Members",
         "rawType": "int64",
         "type": "integer"
        },
        {
         "name": "Favorites",
         "rawType": "int64",
         "type": "integer"
        }
       ],
       "conversionMethod": "pd.DataFrame",
       "ref": "816acea2-8fce-4c4e-8108-55bee72db5a9",
       "rows": [
        [
         "0",
         "16498",
         "Shingeki no Kyojin",
         "AoT, SnK",
         "進撃の巨人",
         "Attack on Titan",
         "Centuries ago, mankind was slaughtered to near extinction by monstrous humanoid creatures called Titans, forcing humans to hide in fear behind enormous concentric walls. What makes these giants truly terrifying is that their taste for human flesh is not born out of hunger but what appears to be out of pleasure. To ensure their survival, the remnants of humanity began living within defensive barriers, resulting in one hundred years without a single titan encounter. However, that fragile calm is soon shattered when a colossal Titan manages to breach the supposedly impregnable outer wall, reigniting the fight for survival against the man-eating abominations.\n\r\nAfter witnessing a horrific personal loss at the hands of the invading creatures, Eren Yeager dedicates his life to their eradication by enlisting into the Survey Corps, an elite military unit that combats the merciless humanoids outside the protection of the walls. Eren, his adopted sister Mikasa Ackerman, and his childhood friend Armin Arlert join the brutal war against the Titans and race to discover a way of defeating them before the last walls are breached.\n\r\n[Written by MAL Rewrite]",
         "TV",
         "25.0",
         "Finished Airing",
         "Apr 7, 2013",
         "Sep 29, 2013",
         "Spring 2013",
         "Sundays at 0158 (JST)",
         "Production I.G, Dentsu, Mainichi Broadcasting System, Pony Canyon, Kodansha, Mad Box, Pony Canyon Enterprise",
         "Funimation",
         "Wit Studio",
         "Manga",
         "Action, Drama",
         "Gore, Military, Survival",
         "Shounen",
         "24.0",
         "R - 17+ (violence & profanity)",
         "8.531",
         "519803.0",
         "1002.0",
         "1",
         "3524109",
         "155695"
        ],
        [
         "1",
         "1535",
         "Death Note",
         "DN",
         "デスノート",
         "Death Note",
         "Brutal murders, petty thefts, and senseless violence pollute the human world. In contrast, the realm of death gods is a humdrum, unchanging gambling den. The ingenious 17-year-old Japanese student Light Yagami and sadistic god of death Ryuk share one belief: their worlds are rotten.\n\r\nFor his own amusement, Ryuk drops his \"Death Note\" into the human world. Light stumbles upon it, deeming the first of its rules ridiculous: the human whose name is written in this note shall die. However, the temptation is too great, and Light experiments by writing a felon's name, which disturbingly enacts his first murder.\n\r\nAware of the terrifying godlike power that has fallen into his hands, Light—under the alias \"Kira\"—follows his wicked sense of justice with the ultimate goal of cleansing the world of all evil-doers. The meticulous mastermind detective L is already on his trail, but as Light's brilliance rivals L's, the grand chase for Kira turns into an intense battle of wits that can only end when one of them is dead.\n\r\n[Written by MAL Rewrite]\n",
         "TV",
         "37.0",
         "Finished Airing",
         "Oct 4, 2006",
         "Jun 27, 2007",
         "Fall 2006",
         "Wednesdays at 0056 (JST)",
         "VAP, Konami, Ashi Productions, Nippon Television Network, Shueisha",
         "VIZ Media",
         "Madhouse",
         "Manga",
         "Supernatural, Suspense",
         "Psychological",
         "Shounen",
         "23.0",
         "R - 17+ (violence & profanity)",
         "8.621",
         "485487.0",
         "732.0",
         "2",
         "3504535",
         "159701"
        ],
        [
         "2",
         "5114",
         "Fullmetal Alchemist: Brotherhood",
         "Hagane no Renkinjutsushi Fullmetal Alchemist, Fullmetal Alchemist (2009), FMA, FMAB",
         "鋼の錬金術師 FULLMETAL ALCHEMIST",
         "Fullmetal Alchemist Brotherhood",
         "After a horrific alchemy experiment goes wrong in the Elric household, brothers Edward and Alphonse are left in a catastrophic new reality. Ignoring the alchemical principle banning human transmutation, the boys attempted to bring their recently deceased mother back to life. Instead, they suffered brutal personal loss: Alphonse's body disintegrated while Edward lost a leg and then sacrificed an arm to keep Alphonse's soul in the physical realm by binding it to a hulking suit of armor.\n\r\nThe brothers are rescued by their neighbor Pinako Rockbell and her granddaughter Winry. Known as a bio-mechanical engineering prodigy, Winry creates prosthetic limbs for Edward by utilizing \"automail,\" a tough, versatile metal used in robots and combat armor. After years of training, the Elric brothers set off on a quest to restore their bodies by locating the Philosopher's Stone—a powerful gem that allows an alchemist to defy the traditional laws of Equivalent Exchange.\n\r\nAs Edward becomes an infamous alchemist and gains the nickname \"Fullmetal,\" the boys' journey embroils them in a growing conspiracy that threatens the fate of the world.\n\r\n[Written by MAL Rewrite]",
         "TV",
         "64.0",
         "Finished Airing",
         "Apr 5, 2009",
         "Jul 4, 2010",
         "Spring 2009",
         "Sundays at 1700 (JST)",
         "Aniplex, Square Enix, Mainichi Broadcasting System, Studio Moriken",
         "Funimation, Aniplex of America",
         "Bones",
         "Manga",
         "Action, Adventure, Drama, Fantasy",
         "Military",
         "Shounen",
         "24.0",
         "R - 17+ (violence & profanity)",
         "9.131",
         "900398.0",
         "12.0",
         "3",
         "2978455",
         "207772"
        ]
       ],
       "shape": {
        "columns": 28,
        "rows": 3
       }
      },
      "text/html": [
       "<div>\n",
       "<style scoped>\n",
       "    .dataframe tbody tr th:only-of-type {\n",
       "        vertical-align: middle;\n",
       "    }\n",
       "\n",
       "    .dataframe tbody tr th {\n",
       "        vertical-align: top;\n",
       "    }\n",
       "\n",
       "    .dataframe thead th {\n",
       "        text-align: right;\n",
       "    }\n",
       "</style>\n",
       "<table border=\"1\" class=\"dataframe\">\n",
       "  <thead>\n",
       "    <tr style=\"text-align: right;\">\n",
       "      <th></th>\n",
       "      <th>ID</th>\n",
       "      <th>Title</th>\n",
       "      <th>Synonyms</th>\n",
       "      <th>Japanese</th>\n",
       "      <th>English</th>\n",
       "      <th>Synopsis</th>\n",
       "      <th>Type</th>\n",
       "      <th>Episodes</th>\n",
       "      <th>Status</th>\n",
       "      <th>Start_Aired</th>\n",
       "      <th>...</th>\n",
       "      <th>Themes</th>\n",
       "      <th>Demographics</th>\n",
       "      <th>Duration_Minutes</th>\n",
       "      <th>Rating</th>\n",
       "      <th>Score</th>\n",
       "      <th>Scored_Users</th>\n",
       "      <th>Ranked</th>\n",
       "      <th>Popularity</th>\n",
       "      <th>Members</th>\n",
       "      <th>Favorites</th>\n",
       "    </tr>\n",
       "  </thead>\n",
       "  <tbody>\n",
       "    <tr>\n",
       "      <th>0</th>\n",
       "      <td>16498</td>\n",
       "      <td>Shingeki no Kyojin</td>\n",
       "      <td>AoT, SnK</td>\n",
       "      <td>進撃の巨人</td>\n",
       "      <td>Attack on Titan</td>\n",
       "      <td>Centuries ago, mankind was slaughtered to near...</td>\n",
       "      <td>TV</td>\n",
       "      <td>25.0</td>\n",
       "      <td>Finished Airing</td>\n",
       "      <td>Apr 7, 2013</td>\n",
       "      <td>...</td>\n",
       "      <td>Gore, Military, Survival</td>\n",
       "      <td>Shounen</td>\n",
       "      <td>24.0</td>\n",
       "      <td>R - 17+ (violence &amp; profanity)</td>\n",
       "      <td>8.531</td>\n",
       "      <td>519803.0</td>\n",
       "      <td>1002.0</td>\n",
       "      <td>1</td>\n",
       "      <td>3524109</td>\n",
       "      <td>155695</td>\n",
       "    </tr>\n",
       "    <tr>\n",
       "      <th>1</th>\n",
       "      <td>1535</td>\n",
       "      <td>Death Note</td>\n",
       "      <td>DN</td>\n",
       "      <td>デスノート</td>\n",
       "      <td>Death Note</td>\n",
       "      <td>Brutal murders, petty thefts, and senseless vi...</td>\n",
       "      <td>TV</td>\n",
       "      <td>37.0</td>\n",
       "      <td>Finished Airing</td>\n",
       "      <td>Oct 4, 2006</td>\n",
       "      <td>...</td>\n",
       "      <td>Psychological</td>\n",
       "      <td>Shounen</td>\n",
       "      <td>23.0</td>\n",
       "      <td>R - 17+ (violence &amp; profanity)</td>\n",
       "      <td>8.621</td>\n",
       "      <td>485487.0</td>\n",
       "      <td>732.0</td>\n",
       "      <td>2</td>\n",
       "      <td>3504535</td>\n",
       "      <td>159701</td>\n",
       "    </tr>\n",
       "    <tr>\n",
       "      <th>2</th>\n",
       "      <td>5114</td>\n",
       "      <td>Fullmetal Alchemist: Brotherhood</td>\n",
       "      <td>Hagane no Renkinjutsushi Fullmetal Alchemist, ...</td>\n",
       "      <td>鋼の錬金術師 FULLMETAL ALCHEMIST</td>\n",
       "      <td>Fullmetal Alchemist Brotherhood</td>\n",
       "      <td>After a horrific alchemy experiment goes wrong...</td>\n",
       "      <td>TV</td>\n",
       "      <td>64.0</td>\n",
       "      <td>Finished Airing</td>\n",
       "      <td>Apr 5, 2009</td>\n",
       "      <td>...</td>\n",
       "      <td>Military</td>\n",
       "      <td>Shounen</td>\n",
       "      <td>24.0</td>\n",
       "      <td>R - 17+ (violence &amp; profanity)</td>\n",
       "      <td>9.131</td>\n",
       "      <td>900398.0</td>\n",
       "      <td>12.0</td>\n",
       "      <td>3</td>\n",
       "      <td>2978455</td>\n",
       "      <td>207772</td>\n",
       "    </tr>\n",
       "  </tbody>\n",
       "</table>\n",
       "<p>3 rows × 28 columns</p>\n",
       "</div>"
      ],
      "text/plain": [
       "      ID                             Title  \\\n",
       "0  16498                Shingeki no Kyojin   \n",
       "1   1535                        Death Note   \n",
       "2   5114  Fullmetal Alchemist: Brotherhood   \n",
       "\n",
       "                                            Synonyms  \\\n",
       "0                                           AoT, SnK   \n",
       "1                                                 DN   \n",
       "2  Hagane no Renkinjutsushi Fullmetal Alchemist, ...   \n",
       "\n",
       "                     Japanese                          English  \\\n",
       "0                       進撃の巨人                  Attack on Titan   \n",
       "1                       デスノート                       Death Note   \n",
       "2  鋼の錬金術師 FULLMETAL ALCHEMIST  Fullmetal Alchemist Brotherhood   \n",
       "\n",
       "                                            Synopsis Type  Episodes  \\\n",
       "0  Centuries ago, mankind was slaughtered to near...   TV      25.0   \n",
       "1  Brutal murders, petty thefts, and senseless vi...   TV      37.0   \n",
       "2  After a horrific alchemy experiment goes wrong...   TV      64.0   \n",
       "\n",
       "            Status  Start_Aired  ...                    Themes Demographics  \\\n",
       "0  Finished Airing  Apr 7, 2013  ...  Gore, Military, Survival      Shounen   \n",
       "1  Finished Airing  Oct 4, 2006  ...             Psychological      Shounen   \n",
       "2  Finished Airing  Apr 5, 2009  ...                  Military      Shounen   \n",
       "\n",
       "  Duration_Minutes                          Rating  Score Scored_Users  \\\n",
       "0             24.0  R - 17+ (violence & profanity)  8.531     519803.0   \n",
       "1             23.0  R - 17+ (violence & profanity)  8.621     485487.0   \n",
       "2             24.0  R - 17+ (violence & profanity)  9.131     900398.0   \n",
       "\n",
       "   Ranked Popularity  Members Favorites  \n",
       "0  1002.0          1  3524109    155695  \n",
       "1   732.0          2  3504535    159701  \n",
       "2    12.0          3  2978455    207772  \n",
       "\n",
       "[3 rows x 28 columns]"
      ]
     },
     "execution_count": 26,
     "metadata": {},
     "output_type": "execute_result"
    }
   ],
   "source": [
    "df.head(3)"
   ]
  },
  {
   "cell_type": "code",
   "execution_count": 27,
   "metadata": {},
   "outputs": [
    {
     "data": {
      "text/plain": [
       "'Centuries ago, mankind was slaughtered to near extinction by monstrous humanoid creatures called Titans, forcing humans to hide in fear behind enormous concentric walls. What makes these giants truly terrifying is that their taste for human flesh is not born out of hunger but what appears to be out of pleasure. To ensure their survival, the remnants of humanity began living within defensive barriers, resulting in one hundred years without a single titan encounter. However, that fragile calm is soon shattered when a colossal Titan manages to breach the supposedly impregnable outer wall, reigniting the fight for survival against the man-eating abominations.\\n\\r\\nAfter witnessing a horrific personal loss at the hands of the invading creatures, Eren Yeager dedicates his life to their eradication by enlisting into the Survey Corps, an elite military unit that combats the merciless humanoids outside the protection of the walls. Eren, his adopted sister Mikasa Ackerman, and his childhood friend Armin Arlert join the brutal war against the Titans and race to discover a way of defeating them before the last walls are breached.\\n\\r\\n[Written by MAL Rewrite]'"
      ]
     },
     "execution_count": 27,
     "metadata": {},
     "output_type": "execute_result"
    }
   ],
   "source": [
    "df['Synopsis'][0]"
   ]
  },
  {
   "cell_type": "code",
   "execution_count": 28,
   "metadata": {},
   "outputs": [
    {
     "data": {
      "text/plain": [
       "array(['R - 17+ (violence & profanity)', 'PG-13 - Teens 13 or older',\n",
       "       'R+ - Mild Nudity', 'PG - Children', 'G - All Ages'], dtype=object)"
      ]
     },
     "execution_count": 28,
     "metadata": {},
     "output_type": "execute_result"
    }
   ],
   "source": [
    "df['Rating'].unique()"
   ]
  },
  {
   "cell_type": "code",
   "execution_count": 29,
   "metadata": {},
   "outputs": [
    {
     "data": {
      "text/plain": [
       "array(['Manga', 'Web manga', 'Light novel', 'Original', 'Visual novel',\n",
       "       'Novel', '4-koma manga', 'Game', 'Music', 'Mixed media', 'Other',\n",
       "       'Card game', 'Web novel', 'Book', 'Unknown'], dtype=object)"
      ]
     },
     "execution_count": 29,
     "metadata": {},
     "output_type": "execute_result"
    }
   ],
   "source": [
    "df[\"Source\"].unique()"
   ]
  },
  {
   "cell_type": "code",
   "execution_count": 30,
   "metadata": {},
   "outputs": [
    {
     "data": {
      "text/plain": [
       "array(['Shounen', 'Seinen', 'Unknown', 'Shoujo', 'Kids', 'Josei',\n",
       "       'Kids, Shounen'], dtype=object)"
      ]
     },
     "execution_count": 30,
     "metadata": {},
     "output_type": "execute_result"
    }
   ],
   "source": [
    "df[\"Demographics\"].unique()"
   ]
  },
  {
   "cell_type": "code",
   "execution_count": 31,
   "metadata": {},
   "outputs": [
    {
     "data": {
      "text/plain": [
       "array(['TV', 'Movie', 'ONA', 'OVA', 'Special', 'Music'], dtype=object)"
      ]
     },
     "execution_count": 31,
     "metadata": {},
     "output_type": "execute_result"
    }
   ],
   "source": [
    "df['Type'].unique()"
   ]
  },
  {
   "cell_type": "code",
   "execution_count": 32,
   "metadata": {},
   "outputs": [
    {
     "data": {
      "text/plain": [
       "'Production I.G, Dentsu, Mainichi Broadcasting System, Pony Canyon, Kodansha, Mad Box, Pony Canyon Enterprise'"
      ]
     },
     "execution_count": 32,
     "metadata": {},
     "output_type": "execute_result"
    }
   ],
   "source": [
    "df['Producers'][0]"
   ]
  },
  {
   "cell_type": "code",
   "execution_count": 33,
   "metadata": {},
   "outputs": [],
   "source": [
    "col=[\"Title\",\"English\",\"Synopsis\",\"Type\",\"Epsiode\",\"Premiered\",\"Producers\",\"Studios\",\"Source\",\"Genres\",\"Themes\",\"Demographics\",\"Rating\",\"Score\"]"
   ]
  },
  {
   "cell_type": "code",
   "execution_count": 34,
   "metadata": {},
   "outputs": [
    {
     "data": {
      "text/plain": [
       "(3000, 28)"
      ]
     },
     "execution_count": 34,
     "metadata": {},
     "output_type": "execute_result"
    }
   ],
   "source": [
    "df.shape"
   ]
  },
  {
   "cell_type": "code",
   "execution_count": 35,
   "metadata": {},
   "outputs": [],
   "source": [
    "for i in df.columns:\n",
    "    if i not in col:\n",
    "        df.drop(i,axis=1,inplace=True)\n",
    "    "
   ]
  },
  {
   "cell_type": "code",
   "execution_count": 36,
   "metadata": {},
   "outputs": [
    {
     "data": {
      "application/vnd.microsoft.datawrangler.viewer.v0+json": {
       "columns": [
        {
         "name": "index",
         "rawType": "int64",
         "type": "integer"
        },
        {
         "name": "Title",
         "rawType": "object",
         "type": "string"
        },
        {
         "name": "English",
         "rawType": "object",
         "type": "string"
        },
        {
         "name": "Synopsis",
         "rawType": "object",
         "type": "string"
        },
        {
         "name": "Type",
         "rawType": "object",
         "type": "string"
        },
        {
         "name": "Premiered",
         "rawType": "object",
         "type": "string"
        },
        {
         "name": "Producers",
         "rawType": "object",
         "type": "string"
        },
        {
         "name": "Studios",
         "rawType": "object",
         "type": "string"
        },
        {
         "name": "Source",
         "rawType": "object",
         "type": "string"
        },
        {
         "name": "Genres",
         "rawType": "object",
         "type": "string"
        },
        {
         "name": "Themes",
         "rawType": "object",
         "type": "string"
        },
        {
         "name": "Demographics",
         "rawType": "object",
         "type": "string"
        },
        {
         "name": "Rating",
         "rawType": "object",
         "type": "string"
        },
        {
         "name": "Score",
         "rawType": "float64",
         "type": "float"
        }
       ],
       "conversionMethod": "pd.DataFrame",
       "ref": "36d0d838-e76d-456a-8196-d449e38497e8",
       "rows": [
        [
         "0",
         "Shingeki no Kyojin",
         "Attack on Titan",
         "Centuries ago, mankind was slaughtered to near extinction by monstrous humanoid creatures called Titans, forcing humans to hide in fear behind enormous concentric walls. What makes these giants truly terrifying is that their taste for human flesh is not born out of hunger but what appears to be out of pleasure. To ensure their survival, the remnants of humanity began living within defensive barriers, resulting in one hundred years without a single titan encounter. However, that fragile calm is soon shattered when a colossal Titan manages to breach the supposedly impregnable outer wall, reigniting the fight for survival against the man-eating abominations.\n\r\nAfter witnessing a horrific personal loss at the hands of the invading creatures, Eren Yeager dedicates his life to their eradication by enlisting into the Survey Corps, an elite military unit that combats the merciless humanoids outside the protection of the walls. Eren, his adopted sister Mikasa Ackerman, and his childhood friend Armin Arlert join the brutal war against the Titans and race to discover a way of defeating them before the last walls are breached.\n\r\n[Written by MAL Rewrite]",
         "TV",
         "Spring 2013",
         "Production I.G, Dentsu, Mainichi Broadcasting System, Pony Canyon, Kodansha, Mad Box, Pony Canyon Enterprise",
         "Wit Studio",
         "Manga",
         "Action, Drama",
         "Gore, Military, Survival",
         "Shounen",
         "R - 17+ (violence & profanity)",
         "8.531"
        ],
        [
         "1",
         "Death Note",
         "Death Note",
         "Brutal murders, petty thefts, and senseless violence pollute the human world. In contrast, the realm of death gods is a humdrum, unchanging gambling den. The ingenious 17-year-old Japanese student Light Yagami and sadistic god of death Ryuk share one belief: their worlds are rotten.\n\r\nFor his own amusement, Ryuk drops his \"Death Note\" into the human world. Light stumbles upon it, deeming the first of its rules ridiculous: the human whose name is written in this note shall die. However, the temptation is too great, and Light experiments by writing a felon's name, which disturbingly enacts his first murder.\n\r\nAware of the terrifying godlike power that has fallen into his hands, Light—under the alias \"Kira\"—follows his wicked sense of justice with the ultimate goal of cleansing the world of all evil-doers. The meticulous mastermind detective L is already on his trail, but as Light's brilliance rivals L's, the grand chase for Kira turns into an intense battle of wits that can only end when one of them is dead.\n\r\n[Written by MAL Rewrite]\n",
         "TV",
         "Fall 2006",
         "VAP, Konami, Ashi Productions, Nippon Television Network, Shueisha",
         "Madhouse",
         "Manga",
         "Supernatural, Suspense",
         "Psychological",
         "Shounen",
         "R - 17+ (violence & profanity)",
         "8.621"
        ],
        [
         "2",
         "Fullmetal Alchemist: Brotherhood",
         "Fullmetal Alchemist Brotherhood",
         "After a horrific alchemy experiment goes wrong in the Elric household, brothers Edward and Alphonse are left in a catastrophic new reality. Ignoring the alchemical principle banning human transmutation, the boys attempted to bring their recently deceased mother back to life. Instead, they suffered brutal personal loss: Alphonse's body disintegrated while Edward lost a leg and then sacrificed an arm to keep Alphonse's soul in the physical realm by binding it to a hulking suit of armor.\n\r\nThe brothers are rescued by their neighbor Pinako Rockbell and her granddaughter Winry. Known as a bio-mechanical engineering prodigy, Winry creates prosthetic limbs for Edward by utilizing \"automail,\" a tough, versatile metal used in robots and combat armor. After years of training, the Elric brothers set off on a quest to restore their bodies by locating the Philosopher's Stone—a powerful gem that allows an alchemist to defy the traditional laws of Equivalent Exchange.\n\r\nAs Edward becomes an infamous alchemist and gains the nickname \"Fullmetal,\" the boys' journey embroils them in a growing conspiracy that threatens the fate of the world.\n\r\n[Written by MAL Rewrite]",
         "TV",
         "Spring 2009",
         "Aniplex, Square Enix, Mainichi Broadcasting System, Studio Moriken",
         "Bones",
         "Manga",
         "Action, Adventure, Drama, Fantasy",
         "Military",
         "Shounen",
         "R - 17+ (violence & profanity)",
         "9.131"
        ]
       ],
       "shape": {
        "columns": 13,
        "rows": 3
       }
      },
      "text/html": [
       "<div>\n",
       "<style scoped>\n",
       "    .dataframe tbody tr th:only-of-type {\n",
       "        vertical-align: middle;\n",
       "    }\n",
       "\n",
       "    .dataframe tbody tr th {\n",
       "        vertical-align: top;\n",
       "    }\n",
       "\n",
       "    .dataframe thead th {\n",
       "        text-align: right;\n",
       "    }\n",
       "</style>\n",
       "<table border=\"1\" class=\"dataframe\">\n",
       "  <thead>\n",
       "    <tr style=\"text-align: right;\">\n",
       "      <th></th>\n",
       "      <th>Title</th>\n",
       "      <th>English</th>\n",
       "      <th>Synopsis</th>\n",
       "      <th>Type</th>\n",
       "      <th>Premiered</th>\n",
       "      <th>Producers</th>\n",
       "      <th>Studios</th>\n",
       "      <th>Source</th>\n",
       "      <th>Genres</th>\n",
       "      <th>Themes</th>\n",
       "      <th>Demographics</th>\n",
       "      <th>Rating</th>\n",
       "      <th>Score</th>\n",
       "    </tr>\n",
       "  </thead>\n",
       "  <tbody>\n",
       "    <tr>\n",
       "      <th>0</th>\n",
       "      <td>Shingeki no Kyojin</td>\n",
       "      <td>Attack on Titan</td>\n",
       "      <td>Centuries ago, mankind was slaughtered to near...</td>\n",
       "      <td>TV</td>\n",
       "      <td>Spring 2013</td>\n",
       "      <td>Production I.G, Dentsu, Mainichi Broadcasting ...</td>\n",
       "      <td>Wit Studio</td>\n",
       "      <td>Manga</td>\n",
       "      <td>Action, Drama</td>\n",
       "      <td>Gore, Military, Survival</td>\n",
       "      <td>Shounen</td>\n",
       "      <td>R - 17+ (violence &amp; profanity)</td>\n",
       "      <td>8.531</td>\n",
       "    </tr>\n",
       "    <tr>\n",
       "      <th>1</th>\n",
       "      <td>Death Note</td>\n",
       "      <td>Death Note</td>\n",
       "      <td>Brutal murders, petty thefts, and senseless vi...</td>\n",
       "      <td>TV</td>\n",
       "      <td>Fall 2006</td>\n",
       "      <td>VAP, Konami, Ashi Productions, Nippon Televisi...</td>\n",
       "      <td>Madhouse</td>\n",
       "      <td>Manga</td>\n",
       "      <td>Supernatural, Suspense</td>\n",
       "      <td>Psychological</td>\n",
       "      <td>Shounen</td>\n",
       "      <td>R - 17+ (violence &amp; profanity)</td>\n",
       "      <td>8.621</td>\n",
       "    </tr>\n",
       "    <tr>\n",
       "      <th>2</th>\n",
       "      <td>Fullmetal Alchemist: Brotherhood</td>\n",
       "      <td>Fullmetal Alchemist Brotherhood</td>\n",
       "      <td>After a horrific alchemy experiment goes wrong...</td>\n",
       "      <td>TV</td>\n",
       "      <td>Spring 2009</td>\n",
       "      <td>Aniplex, Square Enix, Mainichi Broadcasting Sy...</td>\n",
       "      <td>Bones</td>\n",
       "      <td>Manga</td>\n",
       "      <td>Action, Adventure, Drama, Fantasy</td>\n",
       "      <td>Military</td>\n",
       "      <td>Shounen</td>\n",
       "      <td>R - 17+ (violence &amp; profanity)</td>\n",
       "      <td>9.131</td>\n",
       "    </tr>\n",
       "  </tbody>\n",
       "</table>\n",
       "</div>"
      ],
      "text/plain": [
       "                              Title                          English  \\\n",
       "0                Shingeki no Kyojin                  Attack on Titan   \n",
       "1                        Death Note                       Death Note   \n",
       "2  Fullmetal Alchemist: Brotherhood  Fullmetal Alchemist Brotherhood   \n",
       "\n",
       "                                            Synopsis Type    Premiered  \\\n",
       "0  Centuries ago, mankind was slaughtered to near...   TV  Spring 2013   \n",
       "1  Brutal murders, petty thefts, and senseless vi...   TV    Fall 2006   \n",
       "2  After a horrific alchemy experiment goes wrong...   TV  Spring 2009   \n",
       "\n",
       "                                           Producers     Studios Source  \\\n",
       "0  Production I.G, Dentsu, Mainichi Broadcasting ...  Wit Studio  Manga   \n",
       "1  VAP, Konami, Ashi Productions, Nippon Televisi...    Madhouse  Manga   \n",
       "2  Aniplex, Square Enix, Mainichi Broadcasting Sy...       Bones  Manga   \n",
       "\n",
       "                              Genres                    Themes Demographics  \\\n",
       "0                      Action, Drama  Gore, Military, Survival      Shounen   \n",
       "1             Supernatural, Suspense             Psychological      Shounen   \n",
       "2  Action, Adventure, Drama, Fantasy                  Military      Shounen   \n",
       "\n",
       "                           Rating  Score  \n",
       "0  R - 17+ (violence & profanity)  8.531  \n",
       "1  R - 17+ (violence & profanity)  8.621  \n",
       "2  R - 17+ (violence & profanity)  9.131  "
      ]
     },
     "execution_count": 36,
     "metadata": {},
     "output_type": "execute_result"
    }
   ],
   "source": [
    "df.head(3)"
   ]
  },
  {
   "cell_type": "code",
   "execution_count": 37,
   "metadata": {},
   "outputs": [
    {
     "data": {
      "text/plain": [
       "(3000, 13)"
      ]
     },
     "execution_count": 37,
     "metadata": {},
     "output_type": "execute_result"
    }
   ],
   "source": [
    "df.shape"
   ]
  },
  {
   "cell_type": "code",
   "execution_count": 38,
   "metadata": {},
   "outputs": [
    {
     "data": {
      "text/plain": [
       "'Naruto: Shippuuden'"
      ]
     },
     "execution_count": 38,
     "metadata": {},
     "output_type": "execute_result"
    }
   ],
   "source": [
    "df['Title'][15]"
   ]
  },
  {
   "cell_type": "code",
   "execution_count": 39,
   "metadata": {},
   "outputs": [
    {
     "data": {
      "text/plain": [
       "'!\"#$%&\\'()*+,-./:;<=>?@[\\\\]^_`{|}~'"
      ]
     },
     "execution_count": 39,
     "metadata": {},
     "output_type": "execute_result"
    }
   ],
   "source": [
    "import string as s\n",
    "s.punctuation"
   ]
  },
  {
   "cell_type": "code",
   "execution_count": 40,
   "metadata": {},
   "outputs": [],
   "source": [
    "\n",
    "import re as r\n",
    "def cleaning_Title(df:pd.DataFrame,col='Title') -> pd.DataFrame:\n",
    "    df[col]=df[col].astype(str).apply(lambda x: r.sub(\"[^A-Za-z ]\",\"\",x).lower())  \n",
    "    return df "
   ]
  },
  {
   "cell_type": "code",
   "execution_count": 41,
   "metadata": {},
   "outputs": [],
   "source": [
    "df=cleaning_Title(df,col=\"Title\")"
   ]
  },
  {
   "cell_type": "code",
   "execution_count": 42,
   "metadata": {},
   "outputs": [
    {
     "data": {
      "application/vnd.microsoft.datawrangler.viewer.v0+json": {
       "columns": [
        {
         "name": "index",
         "rawType": "int64",
         "type": "integer"
        },
        {
         "name": "Title",
         "rawType": "object",
         "type": "string"
        },
        {
         "name": "English",
         "rawType": "object",
         "type": "string"
        },
        {
         "name": "Synopsis",
         "rawType": "object",
         "type": "string"
        },
        {
         "name": "Type",
         "rawType": "object",
         "type": "string"
        },
        {
         "name": "Premiered",
         "rawType": "object",
         "type": "string"
        },
        {
         "name": "Producers",
         "rawType": "object",
         "type": "string"
        },
        {
         "name": "Studios",
         "rawType": "object",
         "type": "string"
        },
        {
         "name": "Source",
         "rawType": "object",
         "type": "string"
        },
        {
         "name": "Genres",
         "rawType": "object",
         "type": "string"
        },
        {
         "name": "Themes",
         "rawType": "object",
         "type": "string"
        },
        {
         "name": "Demographics",
         "rawType": "object",
         "type": "string"
        },
        {
         "name": "Rating",
         "rawType": "object",
         "type": "string"
        },
        {
         "name": "Score",
         "rawType": "float64",
         "type": "float"
        }
       ],
       "conversionMethod": "pd.DataFrame",
       "ref": "228f3a31-cd09-4558-ac18-b65c0ced443e",
       "rows": [
        [
         "0",
         "shingeki no kyojin",
         "Attack on Titan",
         "Centuries ago, mankind was slaughtered to near extinction by monstrous humanoid creatures called Titans, forcing humans to hide in fear behind enormous concentric walls. What makes these giants truly terrifying is that their taste for human flesh is not born out of hunger but what appears to be out of pleasure. To ensure their survival, the remnants of humanity began living within defensive barriers, resulting in one hundred years without a single titan encounter. However, that fragile calm is soon shattered when a colossal Titan manages to breach the supposedly impregnable outer wall, reigniting the fight for survival against the man-eating abominations.\n\r\nAfter witnessing a horrific personal loss at the hands of the invading creatures, Eren Yeager dedicates his life to their eradication by enlisting into the Survey Corps, an elite military unit that combats the merciless humanoids outside the protection of the walls. Eren, his adopted sister Mikasa Ackerman, and his childhood friend Armin Arlert join the brutal war against the Titans and race to discover a way of defeating them before the last walls are breached.\n\r\n[Written by MAL Rewrite]",
         "TV",
         "Spring 2013",
         "Production I.G, Dentsu, Mainichi Broadcasting System, Pony Canyon, Kodansha, Mad Box, Pony Canyon Enterprise",
         "Wit Studio",
         "Manga",
         "Action, Drama",
         "Gore, Military, Survival",
         "Shounen",
         "R - 17+ (violence & profanity)",
         "8.531"
        ],
        [
         "1",
         "death note",
         "Death Note",
         "Brutal murders, petty thefts, and senseless violence pollute the human world. In contrast, the realm of death gods is a humdrum, unchanging gambling den. The ingenious 17-year-old Japanese student Light Yagami and sadistic god of death Ryuk share one belief: their worlds are rotten.\n\r\nFor his own amusement, Ryuk drops his \"Death Note\" into the human world. Light stumbles upon it, deeming the first of its rules ridiculous: the human whose name is written in this note shall die. However, the temptation is too great, and Light experiments by writing a felon's name, which disturbingly enacts his first murder.\n\r\nAware of the terrifying godlike power that has fallen into his hands, Light—under the alias \"Kira\"—follows his wicked sense of justice with the ultimate goal of cleansing the world of all evil-doers. The meticulous mastermind detective L is already on his trail, but as Light's brilliance rivals L's, the grand chase for Kira turns into an intense battle of wits that can only end when one of them is dead.\n\r\n[Written by MAL Rewrite]\n",
         "TV",
         "Fall 2006",
         "VAP, Konami, Ashi Productions, Nippon Television Network, Shueisha",
         "Madhouse",
         "Manga",
         "Supernatural, Suspense",
         "Psychological",
         "Shounen",
         "R - 17+ (violence & profanity)",
         "8.621"
        ],
        [
         "2",
         "fullmetal alchemist brotherhood",
         "Fullmetal Alchemist Brotherhood",
         "After a horrific alchemy experiment goes wrong in the Elric household, brothers Edward and Alphonse are left in a catastrophic new reality. Ignoring the alchemical principle banning human transmutation, the boys attempted to bring their recently deceased mother back to life. Instead, they suffered brutal personal loss: Alphonse's body disintegrated while Edward lost a leg and then sacrificed an arm to keep Alphonse's soul in the physical realm by binding it to a hulking suit of armor.\n\r\nThe brothers are rescued by their neighbor Pinako Rockbell and her granddaughter Winry. Known as a bio-mechanical engineering prodigy, Winry creates prosthetic limbs for Edward by utilizing \"automail,\" a tough, versatile metal used in robots and combat armor. After years of training, the Elric brothers set off on a quest to restore their bodies by locating the Philosopher's Stone—a powerful gem that allows an alchemist to defy the traditional laws of Equivalent Exchange.\n\r\nAs Edward becomes an infamous alchemist and gains the nickname \"Fullmetal,\" the boys' journey embroils them in a growing conspiracy that threatens the fate of the world.\n\r\n[Written by MAL Rewrite]",
         "TV",
         "Spring 2009",
         "Aniplex, Square Enix, Mainichi Broadcasting System, Studio Moriken",
         "Bones",
         "Manga",
         "Action, Adventure, Drama, Fantasy",
         "Military",
         "Shounen",
         "R - 17+ (violence & profanity)",
         "9.131"
        ],
        [
         "3",
         "one punch man",
         "One Punch Man",
         "The seemingly unimpressive Saitama has a rather unique hobby: being a hero. In order to pursue his childhood dream, Saitama relentlessly trained for three years, losing all of his hair in the process. Now, Saitama is so powerful, he can defeat any enemy with just one punch. However, having no one capable of matching his strength has led Saitama to an unexpected problem—he is no longer able to enjoy the thrill of battling and has become quite bored.\n\r\nOne day, Saitama catches the attention of 19-year-old cyborg Genos, who witnesses his power and wishes to become Saitama's disciple. Genos proposes that the two join the Hero Association in order to become certified heroes that will be recognized for their positive contributions to society. Saitama, who is shocked that no one knows who he is, quickly agrees. Meeting new allies and taking on new foes, Saitama embarks on a new journey as a member of the Hero Association to experience the excitement of battle he once felt.\n\r\n[Written by MAL Rewrite]",
         "TV",
         "Fall 2015",
         "TV Tokyo, Bandai Visual, Lantis, Asatsu DK, Banpresto, Good Smile Company, Shueisha, JR East Marketing & Communications",
         "Madhouse",
         "Web manga",
         "Action, Comedy",
         "Parody, Super Power",
         "Seinen",
         "R - 17+ (violence & profanity)",
         "8.511"
        ],
        [
         "4",
         "sword art online",
         "Sword Art Online",
         "Ever since the release of the innovative NerveGear, gamers from all around the globe have been given the opportunity to experience a completely immersive virtual reality. Sword Art Online (SAO), one of the most recent games on the console, offers a gateway into the wondrous world of Aincrad, a vivid, medieval landscape where users can do anything within the limits of imagination. With the release of this worldwide sensation, gaming has never felt more lifelike.\n\r\nHowever, the idyllic fantasy rapidly becomes a brutal nightmare when SAO's creator traps thousands of players inside the game. The \"log-out\" function has been removed, with the only method of escape involving beating all of Aincrad's one hundred increasingly difficult levels. Adding to the struggle, any in-game death becomes permanent, ending the player's life in the real world.\n\r\nWhile Kazuto \"Kirito\" Kirigaya was fortunate enough to be a beta-tester for the game, he quickly finds that despite his advantages, he cannot overcome SAO's challenges alone. Teaming up with Asuna Yuuki and other talented players, Kirito makes an effort to face the seemingly insurmountable trials head-on. But with difficult bosses and threatening dark cults impeding his progress, Kirito finds that such tasks are much easier said than done.\n\r\n[Written by MAL Rewrite]\n",
         "TV",
         "Summer 2012",
         "Aniplex, Genco, DAX Production, ASCII Media Works, Bandai Namco Games",
         "A-1 Pictures",
         "Light novel",
         "Action, Adventure, Fantasy, Romance",
         "Love Polygon, Video Game",
         "Unknown",
         "PG-13 - Teens 13 or older",
         "7.201"
        ]
       ],
       "shape": {
        "columns": 13,
        "rows": 5
       }
      },
      "text/html": [
       "<div>\n",
       "<style scoped>\n",
       "    .dataframe tbody tr th:only-of-type {\n",
       "        vertical-align: middle;\n",
       "    }\n",
       "\n",
       "    .dataframe tbody tr th {\n",
       "        vertical-align: top;\n",
       "    }\n",
       "\n",
       "    .dataframe thead th {\n",
       "        text-align: right;\n",
       "    }\n",
       "</style>\n",
       "<table border=\"1\" class=\"dataframe\">\n",
       "  <thead>\n",
       "    <tr style=\"text-align: right;\">\n",
       "      <th></th>\n",
       "      <th>Title</th>\n",
       "      <th>English</th>\n",
       "      <th>Synopsis</th>\n",
       "      <th>Type</th>\n",
       "      <th>Premiered</th>\n",
       "      <th>Producers</th>\n",
       "      <th>Studios</th>\n",
       "      <th>Source</th>\n",
       "      <th>Genres</th>\n",
       "      <th>Themes</th>\n",
       "      <th>Demographics</th>\n",
       "      <th>Rating</th>\n",
       "      <th>Score</th>\n",
       "    </tr>\n",
       "  </thead>\n",
       "  <tbody>\n",
       "    <tr>\n",
       "      <th>0</th>\n",
       "      <td>shingeki no kyojin</td>\n",
       "      <td>Attack on Titan</td>\n",
       "      <td>Centuries ago, mankind was slaughtered to near...</td>\n",
       "      <td>TV</td>\n",
       "      <td>Spring 2013</td>\n",
       "      <td>Production I.G, Dentsu, Mainichi Broadcasting ...</td>\n",
       "      <td>Wit Studio</td>\n",
       "      <td>Manga</td>\n",
       "      <td>Action, Drama</td>\n",
       "      <td>Gore, Military, Survival</td>\n",
       "      <td>Shounen</td>\n",
       "      <td>R - 17+ (violence &amp; profanity)</td>\n",
       "      <td>8.531</td>\n",
       "    </tr>\n",
       "    <tr>\n",
       "      <th>1</th>\n",
       "      <td>death note</td>\n",
       "      <td>Death Note</td>\n",
       "      <td>Brutal murders, petty thefts, and senseless vi...</td>\n",
       "      <td>TV</td>\n",
       "      <td>Fall 2006</td>\n",
       "      <td>VAP, Konami, Ashi Productions, Nippon Televisi...</td>\n",
       "      <td>Madhouse</td>\n",
       "      <td>Manga</td>\n",
       "      <td>Supernatural, Suspense</td>\n",
       "      <td>Psychological</td>\n",
       "      <td>Shounen</td>\n",
       "      <td>R - 17+ (violence &amp; profanity)</td>\n",
       "      <td>8.621</td>\n",
       "    </tr>\n",
       "    <tr>\n",
       "      <th>2</th>\n",
       "      <td>fullmetal alchemist brotherhood</td>\n",
       "      <td>Fullmetal Alchemist Brotherhood</td>\n",
       "      <td>After a horrific alchemy experiment goes wrong...</td>\n",
       "      <td>TV</td>\n",
       "      <td>Spring 2009</td>\n",
       "      <td>Aniplex, Square Enix, Mainichi Broadcasting Sy...</td>\n",
       "      <td>Bones</td>\n",
       "      <td>Manga</td>\n",
       "      <td>Action, Adventure, Drama, Fantasy</td>\n",
       "      <td>Military</td>\n",
       "      <td>Shounen</td>\n",
       "      <td>R - 17+ (violence &amp; profanity)</td>\n",
       "      <td>9.131</td>\n",
       "    </tr>\n",
       "    <tr>\n",
       "      <th>3</th>\n",
       "      <td>one punch man</td>\n",
       "      <td>One Punch Man</td>\n",
       "      <td>The seemingly unimpressive Saitama has a rathe...</td>\n",
       "      <td>TV</td>\n",
       "      <td>Fall 2015</td>\n",
       "      <td>TV Tokyo, Bandai Visual, Lantis, Asatsu DK, Ba...</td>\n",
       "      <td>Madhouse</td>\n",
       "      <td>Web manga</td>\n",
       "      <td>Action, Comedy</td>\n",
       "      <td>Parody, Super Power</td>\n",
       "      <td>Seinen</td>\n",
       "      <td>R - 17+ (violence &amp; profanity)</td>\n",
       "      <td>8.511</td>\n",
       "    </tr>\n",
       "    <tr>\n",
       "      <th>4</th>\n",
       "      <td>sword art online</td>\n",
       "      <td>Sword Art Online</td>\n",
       "      <td>Ever since the release of the innovative Nerve...</td>\n",
       "      <td>TV</td>\n",
       "      <td>Summer 2012</td>\n",
       "      <td>Aniplex, Genco, DAX Production, ASCII Media Wo...</td>\n",
       "      <td>A-1 Pictures</td>\n",
       "      <td>Light novel</td>\n",
       "      <td>Action, Adventure, Fantasy, Romance</td>\n",
       "      <td>Love Polygon, Video Game</td>\n",
       "      <td>Unknown</td>\n",
       "      <td>PG-13 - Teens 13 or older</td>\n",
       "      <td>7.201</td>\n",
       "    </tr>\n",
       "  </tbody>\n",
       "</table>\n",
       "</div>"
      ],
      "text/plain": [
       "                             Title                          English  \\\n",
       "0               shingeki no kyojin                  Attack on Titan   \n",
       "1                       death note                       Death Note   \n",
       "2  fullmetal alchemist brotherhood  Fullmetal Alchemist Brotherhood   \n",
       "3                    one punch man                    One Punch Man   \n",
       "4                 sword art online                 Sword Art Online   \n",
       "\n",
       "                                            Synopsis Type    Premiered  \\\n",
       "0  Centuries ago, mankind was slaughtered to near...   TV  Spring 2013   \n",
       "1  Brutal murders, petty thefts, and senseless vi...   TV    Fall 2006   \n",
       "2  After a horrific alchemy experiment goes wrong...   TV  Spring 2009   \n",
       "3  The seemingly unimpressive Saitama has a rathe...   TV    Fall 2015   \n",
       "4  Ever since the release of the innovative Nerve...   TV  Summer 2012   \n",
       "\n",
       "                                           Producers       Studios  \\\n",
       "0  Production I.G, Dentsu, Mainichi Broadcasting ...    Wit Studio   \n",
       "1  VAP, Konami, Ashi Productions, Nippon Televisi...      Madhouse   \n",
       "2  Aniplex, Square Enix, Mainichi Broadcasting Sy...         Bones   \n",
       "3  TV Tokyo, Bandai Visual, Lantis, Asatsu DK, Ba...      Madhouse   \n",
       "4  Aniplex, Genco, DAX Production, ASCII Media Wo...  A-1 Pictures   \n",
       "\n",
       "        Source                               Genres                    Themes  \\\n",
       "0        Manga                        Action, Drama  Gore, Military, Survival   \n",
       "1        Manga               Supernatural, Suspense             Psychological   \n",
       "2        Manga    Action, Adventure, Drama, Fantasy                  Military   \n",
       "3    Web manga                       Action, Comedy       Parody, Super Power   \n",
       "4  Light novel  Action, Adventure, Fantasy, Romance  Love Polygon, Video Game   \n",
       "\n",
       "  Demographics                          Rating  Score  \n",
       "0      Shounen  R - 17+ (violence & profanity)  8.531  \n",
       "1      Shounen  R - 17+ (violence & profanity)  8.621  \n",
       "2      Shounen  R - 17+ (violence & profanity)  9.131  \n",
       "3       Seinen  R - 17+ (violence & profanity)  8.511  \n",
       "4      Unknown       PG-13 - Teens 13 or older  7.201  "
      ]
     },
     "execution_count": 42,
     "metadata": {},
     "output_type": "execute_result"
    }
   ],
   "source": [
    "df.head()"
   ]
  },
  {
   "cell_type": "code",
   "execution_count": 43,
   "metadata": {},
   "outputs": [
    {
     "data": {
      "text/plain": [
       "'naruto shippuuden'"
      ]
     },
     "execution_count": 43,
     "metadata": {},
     "output_type": "execute_result"
    }
   ],
   "source": [
    "df['Title'][15]"
   ]
  },
  {
   "cell_type": "code",
   "execution_count": 44,
   "metadata": {},
   "outputs": [
    {
     "data": {
      "text/plain": [
       "\"I've Always Liked You\""
      ]
     },
     "execution_count": 44,
     "metadata": {},
     "output_type": "execute_result"
    }
   ],
   "source": [
    "df['English'][1000]"
   ]
  },
  {
   "cell_type": "code",
   "execution_count": 45,
   "metadata": {},
   "outputs": [],
   "source": [
    "import re as r\n",
    "def cleaning_Name(df:pd.DataFrame,col='English') -> pd.DataFrame:\n",
    "    df[col]=df[col].astype(str).apply(lambda x: r.sub(\"[^A-Za-z0-9 ]\",\"\",x).lower())  \n",
    "    return df "
   ]
  },
  {
   "cell_type": "code",
   "execution_count": 46,
   "metadata": {},
   "outputs": [],
   "source": [
    "df=cleaning_Title(df,col=\"English\")"
   ]
  },
  {
   "cell_type": "code",
   "execution_count": 47,
   "metadata": {},
   "outputs": [
    {
     "data": {
      "text/plain": [
       "'ive always liked you'"
      ]
     },
     "execution_count": 47,
     "metadata": {},
     "output_type": "execute_result"
    }
   ],
   "source": [
    "df['English'][1000]"
   ]
  },
  {
   "cell_type": "code",
   "execution_count": 48,
   "metadata": {},
   "outputs": [],
   "source": [
    "df['Type']=df['Type'].apply(lambda x: x.lower())"
   ]
  },
  {
   "cell_type": "code",
   "execution_count": 49,
   "metadata": {},
   "outputs": [
    {
     "data": {
      "text/plain": [
       "array(['tv', 'movie', 'ona', 'ova', 'special', 'music'], dtype=object)"
      ]
     },
     "execution_count": 49,
     "metadata": {},
     "output_type": "execute_result"
    }
   ],
   "source": [
    "df['Type'].unique()"
   ]
  },
  {
   "cell_type": "code",
   "execution_count": 50,
   "metadata": {},
   "outputs": [
    {
     "data": {
      "text/plain": [
       "array(['Spring 2013', 'Fall 2006', 'Spring 2009', 'Fall 2015',\n",
       "       'Summer 2012', 'Spring 2016', 'Fall 2002', 'Summer 2014',\n",
       "       'Spring 2019', 'Fall 2011', 'Unknown', 'Spring 2017',\n",
       "       'Spring 2011', 'Spring 2014', 'Winter 2007', 'Summer 2018',\n",
       "       'Fall 2008', 'Fall 2014', 'Fall 2020', 'Winter 2014',\n",
       "       'Spring 2018', 'Spring 2010', 'Winter 2016', 'Summer 2016',\n",
       "       'Winter 2015', 'Winter 2019', 'Fall 2004', 'Winter 2021',\n",
       "       'Spring 1998', 'Fall 2009', 'Spring 2008', 'Fall 1995',\n",
       "       'Fall 2013', 'Winter 2018', 'Winter 2012', 'Fall 2018',\n",
       "       'Spring 2015', 'Fall 2019', 'Summer 2019', 'Fall 2012',\n",
       "       'Spring 2007', 'Summer 2015', 'Summer 2004', 'Fall 2017',\n",
       "       'Summer 2010', 'Fall 2003', 'Winter 2017', 'Fall 2007',\n",
       "       'Summer 2017', 'Winter 2010', 'Summer 2009', 'Spring 2012',\n",
       "       'Winter 2011', 'Spring 2020', 'Spring 2004', 'Spring 1989',\n",
       "       'Fall 2016', 'Spring 2006', 'Spring 2021', 'Winter 2022',\n",
       "       'Summer 2020', 'Winter 1986', 'Winter 2006', 'Summer 2013',\n",
       "       'Summer 2007', 'Winter 2020', 'Summer 2006', 'Fall 2005',\n",
       "       'Winter 2008', 'Summer 1999', 'Fall 2000', 'Fall 2021',\n",
       "       'Summer 1998', 'Fall 2001', 'Spring 2022', 'Fall 2010',\n",
       "       'Fall 1992', 'Summer 2021', 'Winter 1996', 'Spring 1997',\n",
       "       'Fall 1997', 'Winter 2013', 'Fall 1999', 'Summer 2001',\n",
       "       'Summer 2008', 'Winter 2002', 'Summer 2011', 'Spring 2002',\n",
       "       'Spring 2005', 'Spring 1999', 'Winter 2004', 'Spring 2000',\n",
       "       'Summer 2022', 'Spring 1992', 'Winter 2003', 'Winter 2005',\n",
       "       'Spring 2003', 'Summer 2003', 'Summer 2005', 'Fall 1993',\n",
       "       'Winter 2009', 'Fall 1998', 'Spring 2001', 'Fall 1986',\n",
       "       'Summer 2002', 'Spring 1995', 'Spring 1993', 'Spring 1996',\n",
       "       'Winter 1998', 'Spring 1994', 'Fall 1984', 'Winter 2000',\n",
       "       'Spring 1979', 'Winter 2001', 'Fall 1982', 'Fall 1971',\n",
       "       'Fall 1979', 'Spring 1970', 'Fall 1981', 'Spring 1985',\n",
       "       'Spring 1986', 'Summer 1997', 'Fall 1994', 'Winter 1999',\n",
       "       'Spring 1990', 'Fall 1996', 'Summer 2000', 'Winter 1995',\n",
       "       'Winter 1993', 'Spring 1978', 'Fall 1980', 'Spring 1987',\n",
       "       'Summer 1991', 'Fall 1989', 'Fall 1978', 'Winter 1979',\n",
       "       'Summer 1985', 'Fall 1974'], dtype=object)"
      ]
     },
     "execution_count": 50,
     "metadata": {},
     "output_type": "execute_result"
    }
   ],
   "source": [
    "df['Premiered'].unique()"
   ]
  },
  {
   "cell_type": "code",
   "execution_count": 51,
   "metadata": {},
   "outputs": [],
   "source": [
    "def making_premiered(df:pd.DataFrame,col='Premiered') -> pd.DataFrame:\n",
    "    df[col]=df[col].astype(str).apply(lambda x: r.sub(\"[^A-Za-z ]\",\"\",x).lower())\n",
    "    return df"
   ]
  },
  {
   "cell_type": "code",
   "execution_count": 52,
   "metadata": {},
   "outputs": [],
   "source": [
    "df=making_premiered(df,col=\"Premiered\")"
   ]
  },
  {
   "cell_type": "code",
   "execution_count": 53,
   "metadata": {},
   "outputs": [
    {
     "data": {
      "text/plain": [
       "array(['spring ', 'fall ', 'summer ', 'unknown', 'winter '], dtype=object)"
      ]
     },
     "execution_count": 53,
     "metadata": {},
     "output_type": "execute_result"
    }
   ],
   "source": [
    "df['Premiered'].unique()"
   ]
  },
  {
   "cell_type": "code",
   "execution_count": 54,
   "metadata": {},
   "outputs": [
    {
     "data": {
      "text/plain": [
       "Premiered\n",
       "unknown    1015\n",
       "spring      593\n",
       "fall        569\n",
       "summer      426\n",
       "winter      397\n",
       "Name: count, dtype: int64"
      ]
     },
     "execution_count": 54,
     "metadata": {},
     "output_type": "execute_result"
    }
   ],
   "source": [
    "df['Premiered'].value_counts()"
   ]
  },
  {
   "cell_type": "code",
   "execution_count": 55,
   "metadata": {},
   "outputs": [],
   "source": [
    "def premeier_unk(df:pd.DataFrame,col='Premiered')-> pd.DataFrame :\n",
    "    df[col]=df[col].apply(lambda x : 'Spring' if x==\"Unknown\" else x)\n",
    "    return df "
   ]
  },
  {
   "cell_type": "code",
   "execution_count": 56,
   "metadata": {},
   "outputs": [
    {
     "data": {
      "text/plain": [
       "(3000, 13)"
      ]
     },
     "execution_count": 56,
     "metadata": {},
     "output_type": "execute_result"
    }
   ],
   "source": [
    "df.shape"
   ]
  },
  {
   "cell_type": "code",
   "execution_count": 57,
   "metadata": {},
   "outputs": [],
   "source": [
    "df=premeier_unk(df,col=\"Premiered\")\n"
   ]
  },
  {
   "cell_type": "code",
   "execution_count": 58,
   "metadata": {},
   "outputs": [
    {
     "data": {
      "text/plain": [
       "Premiered\n",
       "unknown    1015\n",
       "spring      593\n",
       "fall        569\n",
       "summer      426\n",
       "winter      397\n",
       "Name: count, dtype: int64"
      ]
     },
     "execution_count": 58,
     "metadata": {},
     "output_type": "execute_result"
    }
   ],
   "source": [
    "df['Premiered'].value_counts()"
   ]
  },
  {
   "cell_type": "code",
   "execution_count": 59,
   "metadata": {},
   "outputs": [
    {
     "data": {
      "text/plain": [
       "array(['Wit Studio', 'Madhouse', 'Bones', 'A-1 Pictures', 'Pierrot',\n",
       "       'ufotable', 'CoMix Wave Films', 'White Fox', 'Sunrise',\n",
       "       'Kyoto Animation', 'J.C.Staff', 'MAPPA', 'P.A. Works', 'asread.',\n",
       "       'Lerche', 'Production I.G', 'Studio Deen', 'CloverWorks',\n",
       "       'Studio Ghibli', 'Satelight, A-1 Pictures',\n",
       "       'Gainax, Tatsunoko Production', 'Trigger', 'TMS Entertainment',\n",
       "       'Gainax', 'A-1 Pictures, Trigger, CloverWorks', 'David Production',\n",
       "       'Arms', 'Kinema Citrus', \"Brain's Base\", 'Shaft', 'TNK', '8bit',\n",
       "       'Manglobe', 'Toei Animation', 'Tezuka Productions, MAPPA',\n",
       "       'Pierrot, Pierrot Plus', 'Satelight', 'LIDENFILMS', 'Studio Bind',\n",
       "       'Science SARU', 'feel.', 'J.C.Staff, Egg Firm', 'AIC PLUS+',\n",
       "       'A-1 Pictures, Bridge', 'Kinema Citrus, Orange', 'Doga Kobo',\n",
       "       'SILVER LINK., Nexus', 'Madhouse, Satelight, Graphinica',\n",
       "       'Gainax, Production I.G', 'Tezuka Productions', 'Nut',\n",
       "       'Studio VOLN', 'Telecom Animation Film', 'SILVER LINK.',\n",
       "       'Seven Arcs Pictures', 'Artland', 'AIC Build', 'Imagin',\n",
       "       'Tokyo Movie Shinsha', 'Studio Chizu',\n",
       "       'Kyoto Animation, Animation Do', 'GoHands', 'OLM', 'Gonzo',\n",
       "       'Zero-G', 'Triangle Staff', 'Studio Gokumi', 'Diomedéa', 'Shuka',\n",
       "       'Ajia-Do', 'Production IMS', 'Seven Arcs',\n",
       "       'Kinema Citrus, DR Movie', 'Tatsunoko Production', 'Zexcs',\n",
       "       'SILVER LINK., Connect', 'Pine Jam', 'Bibury Animation Studios',\n",
       "       'Xebec', 'Madhouse, ONIRO', 'Passione', 'asread., White Fox',\n",
       "       'Pierrot Plus', 'Bandai Namco Pictures', 'Daume',\n",
       "       'Polygon Pictures', 'Nippon Animation', 'Shin-Ei Animation',\n",
       "       'Project No.9', 'Hoods Drifters Studio', 'Khara',\n",
       "       'A-1 Pictures, TROYCA', 'Nexus', 'Production Reed', 'NAZ',\n",
       "       'Gallop, Studio Deen', \"Brain's Base, Marvy Jack\", 'AIC ASTA',\n",
       "       'A-1 Pictures, Bridge, CloverWorks', 'TROYCA', 'Lay-duce',\n",
       "       'TYO Animations', 'C-Station', 'Madhouse, MAPPA', 'Signal.MD',\n",
       "       'Orange', 'Connect', 'SILVER LINK., Studio Palette', 'ENGI',\n",
       "       'Silver, Arvo Animation', 'Hal Film Maker', 'Gallop',\n",
       "       'Satelight, C2C', 'Studio Colorido', 'GEEK TOYS', 'Studio PuYUKAI',\n",
       "       'Millepensee', 'SANZIGEN, LIDENFILMS', 'AIC', 'Studio 3Hz',\n",
       "       'Gonzo, AIC', 'B.CMAY PICTURES',\n",
       "       'Tezuka Productions, Okuruto Noboru', 'Topcraft', 'APPP',\n",
       "       'Ordet, SANZIGEN', 'C2C', 'OLM, P.I.C.S.', 'EMT Squared', 'Seven',\n",
       "       'Millepensee, GEMBA', 'Gallop, Studio Comet', 'Geno Studio',\n",
       "       'AIC Classic', 'Okuruto Noboru', 'Bee Train', 'Studio Comet',\n",
       "       'Revoroot', 'Hoods Entertainment', 'A.C.G.T.', 'Tear Studio',\n",
       "       'Kitty Film Mitaka Studio', 'asread., studio MOTHER',\n",
       "       'Orange, Studio 3Hz', 'Seven, GEEK TOYS', 'Bridge',\n",
       "       'Bones, Kinema Citrus', 'Madhouse, Studio Gokumi',\n",
       "       'Encourage Films', 'Actas', 'Graphinica', 'Nomad',\n",
       "       'Studio Rikka, Purple Cow Studio Japan', 'Ezόla',\n",
       "       'Satelight, HORNETS', \"Brain's Base, Platinum Vision\", 'Radix',\n",
       "       'Platinum Vision', 'Felix Film', 'Diomedéa, Studio Blanc',\n",
       "       'Maho Film', 'Studio LAN', 'Studio Flad, Wolfsbane',\n",
       "       \"Children's Playground Entertainment\",\n",
       "       'Haoliners Animation League', 'AIC Spirits, asread.',\n",
       "       'Production I.G, Madhouse', 'Studio Gokumi, AXsiZ',\n",
       "       'Production I.G, Xebec, OLM', 'SynergySP', 'MAPPA, Studio VOLN',\n",
       "       'production doA', 'Studio Kai, HORNETS', 'EKACHI EPILKA',\n",
       "       'Gainax, J.C.Staff', 'Studio 4°C', 'Yokohama Animation Lab',\n",
       "       'Qualia Animation', 'NAZ, OZ', 'Kamikaze Douga',\n",
       "       'SynergySP, Shin-Ei Animation', 'Creators in Pack',\n",
       "       'Actas, Studio 3Hz', 'SILVER LINK., Blade',\n",
       "       'Hal Film Maker, Nomad', 'AIC Spirits, BeSTACK', 'Pastel',\n",
       "       'Namu Animation', 'Arvo Animation', 'Sunrise, Ascension',\n",
       "       'Studio Blanc', 'Signal.MD, Sublimation',\n",
       "       'A-1 Pictures, Lapin Track', 'Studio Rikka', 'Studio Hibari',\n",
       "       'Trans Arts', 'Palm Studio', 'Wolfsbane', 'Fanworks',\n",
       "       'Yumeta Company', 'SynergySP, Vega Entertainment',\n",
       "       'Asahi Production', 'Madhouse, Tatsunoko Production',\n",
       "       'Staple Entertainment', 'J.C.Staff, SANZIGEN', 'SANZIGEN',\n",
       "       'Artland, TNK', 'Hotline', 'AIC Spirits', 'Studio Fantasia',\n",
       "       'XEBEC M2', 'E&G Films', 'Hoods Entertainment, Felix Film',\n",
       "       'OLM Team Yoshioka',\n",
       "       'Production I.G, Signal.MD, Production GoodBook',\n",
       "       'MAPPA, Lapin Track', 'Kinema Citrus, White Fox',\n",
       "       'NAZ, Magia Doraglier', 'LIDENFILMS, LIDENFILMS Kyoto Studio',\n",
       "       'Madhouse, Triangle Staff',\n",
       "       'Shanghai Foch Film and TV Culture Investment', 'Typhoon Graphics',\n",
       "       'Gainax, feel.', 'Gaina', 'Studio Matrix',\n",
       "       'Telecom Animation Film, Graphinica', 'feel., Gaina',\n",
       "       'CygamesPictures', 'Satelight, Encourage Films',\n",
       "       'TMS Entertainment, Shin-Ei Animation', 'Lesprit', 'Xebec, AIC',\n",
       "       'DLE', 'ixtl, LIDENFILMS', 'LIDENFILMS, Felix Film',\n",
       "       'Colored Pencil Animation', 'Madhouse, TMS Entertainment',\n",
       "       'Satelight, 8bit', 'Creators in Pack, Namu Animation', 'ILCA',\n",
       "       'Group TAC',\n",
       "       'Tencent Animation & Comics, China Literature Limited, Colored Pencil Animation',\n",
       "       'SILVER LINK., Lapin Track', 'Studio Kai', 'Studio A-CAT',\n",
       "       'Oh! Production', 'Pierrot, David Production', 'Satelight, ixtl',\n",
       "       'Production I.G, Xebec', 'Barnum Studio, SILVER LINK., Connect',\n",
       "       'Shaft, GANSIS', 'Production I.G, Nut, Revoroot', 'Studio Ponoc',\n",
       "       'Bakken Record', 'I was a Ballerina', 'AXsiZ',\n",
       "       'Hoods Entertainment, teamKG', 'UWAN Pictures', 'Gainax, Madhouse',\n",
       "       'Xebec, Issen', 'Production I.G, Trans Arts', 'Mushi Production',\n",
       "       'Barnum Studio, Project No.9, Studio Blanc', 'M.S.C',\n",
       "       'Pierrot, Studio Signpost', 'Shirogumi, Encourage Films',\n",
       "       'Madhouse, Studio 4°C',\n",
       "       'Production I.G, Kinema Citrus, Kamikaze Douga, Trigger, Studio Colorido, Geno Studio, Science SARU',\n",
       "       'Project No.9, A-Real', 'Pierrot, Studio Deen', 'Gainax, Shaft',\n",
       "       'Actas, SynergySP', 'feel., Zexcs', 'AHA Entertainment',\n",
       "       'Kinema Citrus, EMT Squared', 'WAO World', 'Square Enix',\n",
       "       \"Brain's Base, Lapin Track\", 'Gathering', 'Bones, Sunrise',\n",
       "       'Shin-Ei Animation, domerica', 'Blade', 'Tokyo Kids', 'Adonero',\n",
       "       'Creators in Pack, Studio Lings', 'OLM, Sunrise Beyond',\n",
       "       'Bones, Orange', 'Production I.G, M.S.C',\n",
       "       'Square Enix Visual Works', 'Mippei Eigeki Kiryuukan', 'PRA',\n",
       "       'Unknown', 'Emon, Blade', 'Doga Kobo, Orange', 'Studio Kafka',\n",
       "       'Studio Moriken', 'Tatsunoko Production, Ordet',\n",
       "       'Toei Animation, Marza Animation Planet', 'BigFireBird Animation',\n",
       "       'LIDENFILMS, domerica', 'Fifth Avenue', 'Karaku',\n",
       "       'G&G Entertainment', 'PrimeTime', 'Quad', 'Group TAC, Ginga Ya',\n",
       "       'Anima&Co.', 'AIC Spirits, Group TAC',\n",
       "       'Nice Boat Animation, Samsara Animation Studio',\n",
       "       'Manglobe, Geno Studio', 'Yostar Pictures',\n",
       "       'Sunrise, Nakamura Production', 'Jumondo',\n",
       "       'DandeLion Animation Studio', 'Saetta', 'asread., Tear Studio',\n",
       "       'Production I.G, Studio Deen', 'Lilix', 'Shirogumi',\n",
       "       'Madhouse, Studio Deen', 'L²Studio',\n",
       "       'W-Toon Studio, DMM.futureworks', 'feel., Assez Finaud Fabric',\n",
       "       'The Answer Studio', 'B&T',\n",
       "       'Bones, Bee Train, Production I.G, Studio 4°C, Toei Animation',\n",
       "       'Team YokkyuFuman', 'Office DCI', 'Studio M2',\n",
       "       \"Steve N' Steven, Rockwell Eyes\", 'Group TAC, Japan Vistec',\n",
       "       \"Sunrise, Khara, Studio Rikka, Bridge, Kamikaze Douga, Trigger, Graphinica, Studio Colorido, Sola Digital Arts, Steve N' Steven\",\n",
       "       'Digital Frontier', 'IMAGICA Lab.', 'Satelight, Yumeta Company',\n",
       "       'Yamato Works', 'Nippon Animation, SynergySP, Shirogumi',\n",
       "       'Colored Pencil Animation Japan', 'Think Corporation',\n",
       "       'Minami Machi Bugyousho',\n",
       "       'Da Huoniao Donghua, BigFireBird Animation',\n",
       "       'DandeLion Animation Studio, Jumonji, Okuruto Noboru',\n",
       "       'Chaos Project', 'Shirogumi, EMT Squared',\n",
       "       'Yumeta Company, Graphinica', 'OLM, Wit Studio', 'Planet',\n",
       "       'Bones, Telecom Animation Film', 'Project No.9, Tri-Slash',\n",
       "       'ASK Animation Studio', 'Tomovies',\n",
       "       'Magic Bus, Kitty Film Mitaka Studio', 'CyberConnect2',\n",
       "       'Rising Force', 'P.A. Works, Studio 3Hz', 'Japan Vistec',\n",
       "       'Nippon Animation, OLM', 'WAO World, GEMBA', 'Ginga Ya',\n",
       "       'Production I.G, Sola Digital Arts',\n",
       "       'Studio Deen, Kitty Film Mitaka Studio', 'A-Real, UWAN Pictures',\n",
       "       'Studio Junio', 'Studio Comet, Studio Sign', 'Shinkuukan, Lilix',\n",
       "       'SynergySP, G&G Entertainment', 'Production +h.',\n",
       "       'BeSTACK, Asahi Production', 'AIC, APPP',\n",
       "       'Kamikaze Douga, Space Neko Company',\n",
       "       'Production Reed, Asahi Production',\n",
       "       'Studio Ghibli, Polygon Pictures',\n",
       "       'Bee Train, Production I.G, Madhouse, Studio 4°C',\n",
       "       'Production I.G, Production Reed', 'Studio Flad', 'Remic',\n",
       "       'TMS Entertainment, Marza Animation Planet', 'OLM, P.A. Works',\n",
       "       'Sunrise Beyond', 'LIDENFILMS Kyoto Studio', 'Studio Flag',\n",
       "       'J.C.Staff, A.C.G.T.', 'Twilight Studio', 'Pierrot, Arms',\n",
       "       'Gonzo, DLE'], dtype=object)"
      ]
     },
     "execution_count": 59,
     "metadata": {},
     "output_type": "execute_result"
    }
   ],
   "source": [
    "df['Studios'].unique()"
   ]
  },
  {
   "cell_type": "code",
   "execution_count": 60,
   "metadata": {},
   "outputs": [
    {
     "data": {
      "text/plain": [
       "'TMS Entertainment'"
      ]
     },
     "execution_count": 60,
     "metadata": {},
     "output_type": "execute_result"
    }
   ],
   "source": [
    "t='TMS Entertainment, Annapuru'\n",
    "t.split(',')[0]"
   ]
  },
  {
   "cell_type": "code",
   "execution_count": 61,
   "metadata": {},
   "outputs": [],
   "source": [
    "def studio_pre(df:pd.DataFrame,col='Studios') -> pd.DataFrame:\n",
    "    df[col]=df[col].astype(str).apply(lambda x: x.split(',')[0].lower())\n",
    "    return df "
   ]
  },
  {
   "cell_type": "code",
   "execution_count": 62,
   "metadata": {},
   "outputs": [],
   "source": [
    "df=studio_pre(df,col='Studios')"
   ]
  },
  {
   "cell_type": "code",
   "execution_count": 63,
   "metadata": {},
   "outputs": [
    {
     "data": {
      "text/plain": [
       "array(['wit studio', 'madhouse', 'bones', 'a-1 pictures', 'pierrot',\n",
       "       'ufotable', 'comix wave films', 'white fox', 'sunrise',\n",
       "       'kyoto animation', 'j.c.staff', 'mappa', 'p.a. works', 'asread.',\n",
       "       'lerche', 'production i.g', 'studio deen', 'cloverworks',\n",
       "       'studio ghibli', 'satelight', 'gainax', 'trigger',\n",
       "       'tms entertainment', 'david production', 'arms', 'kinema citrus',\n",
       "       \"brain's base\", 'shaft', 'tnk', '8bit', 'manglobe',\n",
       "       'toei animation', 'tezuka productions', 'lidenfilms',\n",
       "       'studio bind', 'science saru', 'feel.', 'aic plus+', 'doga kobo',\n",
       "       'silver link.', 'nut', 'studio voln', 'telecom animation film',\n",
       "       'seven arcs pictures', 'artland', 'aic build', 'imagin',\n",
       "       'tokyo movie shinsha', 'studio chizu', 'gohands', 'olm', 'gonzo',\n",
       "       'zero-g', 'triangle staff', 'studio gokumi', 'diomedéa', 'shuka',\n",
       "       'ajia-do', 'production ims', 'seven arcs', 'tatsunoko production',\n",
       "       'zexcs', 'pine jam', 'bibury animation studios', 'xebec',\n",
       "       'passione', 'pierrot plus', 'bandai namco pictures', 'daume',\n",
       "       'polygon pictures', 'nippon animation', 'shin-ei animation',\n",
       "       'project no.9', 'hoods drifters studio', 'khara', 'nexus',\n",
       "       'production reed', 'naz', 'gallop', 'aic asta', 'troyca',\n",
       "       'lay-duce', 'tyo animations', 'c-station', 'signal.md', 'orange',\n",
       "       'connect', 'engi', 'silver', 'hal film maker', 'studio colorido',\n",
       "       'geek toys', 'studio puyukai', 'millepensee', 'sanzigen', 'aic',\n",
       "       'studio 3hz', 'b.cmay pictures', 'topcraft', 'appp', 'ordet',\n",
       "       'c2c', 'emt squared', 'seven', 'geno studio', 'aic classic',\n",
       "       'okuruto noboru', 'bee train', 'studio comet', 'revoroot',\n",
       "       'hoods entertainment', 'a.c.g.t.', 'tear studio',\n",
       "       'kitty film mitaka studio', 'bridge', 'encourage films', 'actas',\n",
       "       'graphinica', 'nomad', 'studio rikka', 'ezόla', 'radix',\n",
       "       'platinum vision', 'felix film', 'maho film', 'studio lan',\n",
       "       'studio flad', \"children's playground entertainment\",\n",
       "       'haoliners animation league', 'aic spirits', 'synergysp',\n",
       "       'production doa', 'studio kai', 'ekachi epilka', 'studio 4°c',\n",
       "       'yokohama animation lab', 'qualia animation', 'kamikaze douga',\n",
       "       'creators in pack', 'pastel', 'namu animation', 'arvo animation',\n",
       "       'studio blanc', 'studio hibari', 'trans arts', 'palm studio',\n",
       "       'wolfsbane', 'fanworks', 'yumeta company', 'asahi production',\n",
       "       'staple entertainment', 'hotline', 'studio fantasia', 'xebec m2',\n",
       "       'e&g films', 'olm team yoshioka',\n",
       "       'shanghai foch film and tv culture investment', 'typhoon graphics',\n",
       "       'gaina', 'studio matrix', 'cygamespictures', 'lesprit', 'dle',\n",
       "       'ixtl', 'colored pencil animation', 'ilca', 'group tac',\n",
       "       'tencent animation & comics', 'studio a-cat', 'oh! production',\n",
       "       'barnum studio', 'studio ponoc', 'bakken record',\n",
       "       'i was a ballerina', 'axsiz', 'uwan pictures', 'mushi production',\n",
       "       'm.s.c', 'shirogumi', 'aha entertainment', 'wao world',\n",
       "       'square enix', 'gathering', 'blade', 'tokyo kids', 'adonero',\n",
       "       'square enix visual works', 'mippei eigeki kiryuukan', 'pra',\n",
       "       'unknown', 'emon', 'studio kafka', 'studio moriken',\n",
       "       'bigfirebird animation', 'fifth avenue', 'karaku',\n",
       "       'g&g entertainment', 'primetime', 'quad', 'anima&co.',\n",
       "       'nice boat animation', 'yostar pictures', 'jumondo',\n",
       "       'dandelion animation studio', 'saetta', 'lilix', 'l²studio',\n",
       "       'w-toon studio', 'the answer studio', 'b&t', 'team yokkyufuman',\n",
       "       'office dci', 'studio m2', \"steve n' steven\", 'digital frontier',\n",
       "       'imagica lab.', 'yamato works', 'colored pencil animation japan',\n",
       "       'think corporation', 'minami machi bugyousho',\n",
       "       'da huoniao donghua', 'chaos project', 'planet',\n",
       "       'ask animation studio', 'tomovies', 'magic bus', 'cyberconnect2',\n",
       "       'rising force', 'japan vistec', 'ginga ya', 'a-real',\n",
       "       'studio junio', 'shinkuukan', 'production +h.', 'bestack', 'remic',\n",
       "       'sunrise beyond', 'lidenfilms kyoto studio', 'studio flag',\n",
       "       'twilight studio'], dtype=object)"
      ]
     },
     "execution_count": 63,
     "metadata": {},
     "output_type": "execute_result"
    }
   ],
   "source": [
    "df['Studios'].unique()"
   ]
  },
  {
   "cell_type": "code",
   "execution_count": 64,
   "metadata": {},
   "outputs": [
    {
     "data": {
      "application/vnd.microsoft.datawrangler.viewer.v0+json": {
       "columns": [
        {
         "name": "index",
         "rawType": "int64",
         "type": "integer"
        },
        {
         "name": "Title",
         "rawType": "object",
         "type": "string"
        },
        {
         "name": "English",
         "rawType": "object",
         "type": "string"
        },
        {
         "name": "Synopsis",
         "rawType": "object",
         "type": "string"
        },
        {
         "name": "Type",
         "rawType": "object",
         "type": "string"
        },
        {
         "name": "Premiered",
         "rawType": "object",
         "type": "string"
        },
        {
         "name": "Producers",
         "rawType": "object",
         "type": "string"
        },
        {
         "name": "Studios",
         "rawType": "object",
         "type": "string"
        },
        {
         "name": "Source",
         "rawType": "object",
         "type": "string"
        },
        {
         "name": "Genres",
         "rawType": "object",
         "type": "string"
        },
        {
         "name": "Themes",
         "rawType": "object",
         "type": "string"
        },
        {
         "name": "Demographics",
         "rawType": "object",
         "type": "string"
        },
        {
         "name": "Rating",
         "rawType": "object",
         "type": "string"
        },
        {
         "name": "Score",
         "rawType": "float64",
         "type": "float"
        }
       ],
       "conversionMethod": "pd.DataFrame",
       "ref": "ba19a98c-0d60-4560-95e5-94085a965a9c",
       "rows": [
        [
         "0",
         "shingeki no kyojin",
         "attack on titan",
         "Centuries ago, mankind was slaughtered to near extinction by monstrous humanoid creatures called Titans, forcing humans to hide in fear behind enormous concentric walls. What makes these giants truly terrifying is that their taste for human flesh is not born out of hunger but what appears to be out of pleasure. To ensure their survival, the remnants of humanity began living within defensive barriers, resulting in one hundred years without a single titan encounter. However, that fragile calm is soon shattered when a colossal Titan manages to breach the supposedly impregnable outer wall, reigniting the fight for survival against the man-eating abominations.\n\r\nAfter witnessing a horrific personal loss at the hands of the invading creatures, Eren Yeager dedicates his life to their eradication by enlisting into the Survey Corps, an elite military unit that combats the merciless humanoids outside the protection of the walls. Eren, his adopted sister Mikasa Ackerman, and his childhood friend Armin Arlert join the brutal war against the Titans and race to discover a way of defeating them before the last walls are breached.\n\r\n[Written by MAL Rewrite]",
         "tv",
         "spring ",
         "Production I.G, Dentsu, Mainichi Broadcasting System, Pony Canyon, Kodansha, Mad Box, Pony Canyon Enterprise",
         "wit studio",
         "Manga",
         "Action, Drama",
         "Gore, Military, Survival",
         "Shounen",
         "R - 17+ (violence & profanity)",
         "8.531"
        ],
        [
         "1",
         "death note",
         "death note",
         "Brutal murders, petty thefts, and senseless violence pollute the human world. In contrast, the realm of death gods is a humdrum, unchanging gambling den. The ingenious 17-year-old Japanese student Light Yagami and sadistic god of death Ryuk share one belief: their worlds are rotten.\n\r\nFor his own amusement, Ryuk drops his \"Death Note\" into the human world. Light stumbles upon it, deeming the first of its rules ridiculous: the human whose name is written in this note shall die. However, the temptation is too great, and Light experiments by writing a felon's name, which disturbingly enacts his first murder.\n\r\nAware of the terrifying godlike power that has fallen into his hands, Light—under the alias \"Kira\"—follows his wicked sense of justice with the ultimate goal of cleansing the world of all evil-doers. The meticulous mastermind detective L is already on his trail, but as Light's brilliance rivals L's, the grand chase for Kira turns into an intense battle of wits that can only end when one of them is dead.\n\r\n[Written by MAL Rewrite]\n",
         "tv",
         "fall ",
         "VAP, Konami, Ashi Productions, Nippon Television Network, Shueisha",
         "madhouse",
         "Manga",
         "Supernatural, Suspense",
         "Psychological",
         "Shounen",
         "R - 17+ (violence & profanity)",
         "8.621"
        ],
        [
         "2",
         "fullmetal alchemist brotherhood",
         "fullmetal alchemist brotherhood",
         "After a horrific alchemy experiment goes wrong in the Elric household, brothers Edward and Alphonse are left in a catastrophic new reality. Ignoring the alchemical principle banning human transmutation, the boys attempted to bring their recently deceased mother back to life. Instead, they suffered brutal personal loss: Alphonse's body disintegrated while Edward lost a leg and then sacrificed an arm to keep Alphonse's soul in the physical realm by binding it to a hulking suit of armor.\n\r\nThe brothers are rescued by their neighbor Pinako Rockbell and her granddaughter Winry. Known as a bio-mechanical engineering prodigy, Winry creates prosthetic limbs for Edward by utilizing \"automail,\" a tough, versatile metal used in robots and combat armor. After years of training, the Elric brothers set off on a quest to restore their bodies by locating the Philosopher's Stone—a powerful gem that allows an alchemist to defy the traditional laws of Equivalent Exchange.\n\r\nAs Edward becomes an infamous alchemist and gains the nickname \"Fullmetal,\" the boys' journey embroils them in a growing conspiracy that threatens the fate of the world.\n\r\n[Written by MAL Rewrite]",
         "tv",
         "spring ",
         "Aniplex, Square Enix, Mainichi Broadcasting System, Studio Moriken",
         "bones",
         "Manga",
         "Action, Adventure, Drama, Fantasy",
         "Military",
         "Shounen",
         "R - 17+ (violence & profanity)",
         "9.131"
        ]
       ],
       "shape": {
        "columns": 13,
        "rows": 3
       }
      },
      "text/html": [
       "<div>\n",
       "<style scoped>\n",
       "    .dataframe tbody tr th:only-of-type {\n",
       "        vertical-align: middle;\n",
       "    }\n",
       "\n",
       "    .dataframe tbody tr th {\n",
       "        vertical-align: top;\n",
       "    }\n",
       "\n",
       "    .dataframe thead th {\n",
       "        text-align: right;\n",
       "    }\n",
       "</style>\n",
       "<table border=\"1\" class=\"dataframe\">\n",
       "  <thead>\n",
       "    <tr style=\"text-align: right;\">\n",
       "      <th></th>\n",
       "      <th>Title</th>\n",
       "      <th>English</th>\n",
       "      <th>Synopsis</th>\n",
       "      <th>Type</th>\n",
       "      <th>Premiered</th>\n",
       "      <th>Producers</th>\n",
       "      <th>Studios</th>\n",
       "      <th>Source</th>\n",
       "      <th>Genres</th>\n",
       "      <th>Themes</th>\n",
       "      <th>Demographics</th>\n",
       "      <th>Rating</th>\n",
       "      <th>Score</th>\n",
       "    </tr>\n",
       "  </thead>\n",
       "  <tbody>\n",
       "    <tr>\n",
       "      <th>0</th>\n",
       "      <td>shingeki no kyojin</td>\n",
       "      <td>attack on titan</td>\n",
       "      <td>Centuries ago, mankind was slaughtered to near...</td>\n",
       "      <td>tv</td>\n",
       "      <td>spring</td>\n",
       "      <td>Production I.G, Dentsu, Mainichi Broadcasting ...</td>\n",
       "      <td>wit studio</td>\n",
       "      <td>Manga</td>\n",
       "      <td>Action, Drama</td>\n",
       "      <td>Gore, Military, Survival</td>\n",
       "      <td>Shounen</td>\n",
       "      <td>R - 17+ (violence &amp; profanity)</td>\n",
       "      <td>8.531</td>\n",
       "    </tr>\n",
       "    <tr>\n",
       "      <th>1</th>\n",
       "      <td>death note</td>\n",
       "      <td>death note</td>\n",
       "      <td>Brutal murders, petty thefts, and senseless vi...</td>\n",
       "      <td>tv</td>\n",
       "      <td>fall</td>\n",
       "      <td>VAP, Konami, Ashi Productions, Nippon Televisi...</td>\n",
       "      <td>madhouse</td>\n",
       "      <td>Manga</td>\n",
       "      <td>Supernatural, Suspense</td>\n",
       "      <td>Psychological</td>\n",
       "      <td>Shounen</td>\n",
       "      <td>R - 17+ (violence &amp; profanity)</td>\n",
       "      <td>8.621</td>\n",
       "    </tr>\n",
       "    <tr>\n",
       "      <th>2</th>\n",
       "      <td>fullmetal alchemist brotherhood</td>\n",
       "      <td>fullmetal alchemist brotherhood</td>\n",
       "      <td>After a horrific alchemy experiment goes wrong...</td>\n",
       "      <td>tv</td>\n",
       "      <td>spring</td>\n",
       "      <td>Aniplex, Square Enix, Mainichi Broadcasting Sy...</td>\n",
       "      <td>bones</td>\n",
       "      <td>Manga</td>\n",
       "      <td>Action, Adventure, Drama, Fantasy</td>\n",
       "      <td>Military</td>\n",
       "      <td>Shounen</td>\n",
       "      <td>R - 17+ (violence &amp; profanity)</td>\n",
       "      <td>9.131</td>\n",
       "    </tr>\n",
       "  </tbody>\n",
       "</table>\n",
       "</div>"
      ],
      "text/plain": [
       "                             Title                          English  \\\n",
       "0               shingeki no kyojin                  attack on titan   \n",
       "1                       death note                       death note   \n",
       "2  fullmetal alchemist brotherhood  fullmetal alchemist brotherhood   \n",
       "\n",
       "                                            Synopsis Type Premiered  \\\n",
       "0  Centuries ago, mankind was slaughtered to near...   tv   spring    \n",
       "1  Brutal murders, petty thefts, and senseless vi...   tv     fall    \n",
       "2  After a horrific alchemy experiment goes wrong...   tv   spring    \n",
       "\n",
       "                                           Producers     Studios Source  \\\n",
       "0  Production I.G, Dentsu, Mainichi Broadcasting ...  wit studio  Manga   \n",
       "1  VAP, Konami, Ashi Productions, Nippon Televisi...    madhouse  Manga   \n",
       "2  Aniplex, Square Enix, Mainichi Broadcasting Sy...       bones  Manga   \n",
       "\n",
       "                              Genres                    Themes Demographics  \\\n",
       "0                      Action, Drama  Gore, Military, Survival      Shounen   \n",
       "1             Supernatural, Suspense             Psychological      Shounen   \n",
       "2  Action, Adventure, Drama, Fantasy                  Military      Shounen   \n",
       "\n",
       "                           Rating  Score  \n",
       "0  R - 17+ (violence & profanity)  8.531  \n",
       "1  R - 17+ (violence & profanity)  8.621  \n",
       "2  R - 17+ (violence & profanity)  9.131  "
      ]
     },
     "execution_count": 64,
     "metadata": {},
     "output_type": "execute_result"
    }
   ],
   "source": [
    "df.head(3)"
   ]
  },
  {
   "cell_type": "code",
   "execution_count": 65,
   "metadata": {},
   "outputs": [
    {
     "data": {
      "text/plain": [
       "'vap, konami, ashi productions, nippon television network, shueisha'"
      ]
     },
     "execution_count": 65,
     "metadata": {},
     "output_type": "execute_result"
    }
   ],
   "source": [
    "t='VAP, Konami, Ashi Productions, Nippon Television Network, Shueisha'\n",
    "t.lower()"
   ]
  },
  {
   "cell_type": "code",
   "execution_count": 66,
   "metadata": {},
   "outputs": [],
   "source": [
    "def prodc(df:pd.DataFrame,col=\"Producers\") -> pd.DataFrame:\n",
    "    df[col]=df[col].astype(str).apply(lambda x: r.sub(\"[^A-Za-z ]\",\"\",x).lower())\n",
    "    return df"
   ]
  },
  {
   "cell_type": "code",
   "execution_count": 67,
   "metadata": {},
   "outputs": [],
   "source": [
    "df=prodc(df,col=\"Producers\")"
   ]
  },
  {
   "cell_type": "code",
   "execution_count": 68,
   "metadata": {},
   "outputs": [
    {
     "data": {
      "application/vnd.microsoft.datawrangler.viewer.v0+json": {
       "columns": [
        {
         "name": "index",
         "rawType": "int64",
         "type": "integer"
        },
        {
         "name": "Title",
         "rawType": "object",
         "type": "string"
        },
        {
         "name": "English",
         "rawType": "object",
         "type": "string"
        },
        {
         "name": "Synopsis",
         "rawType": "object",
         "type": "string"
        },
        {
         "name": "Type",
         "rawType": "object",
         "type": "string"
        },
        {
         "name": "Premiered",
         "rawType": "object",
         "type": "string"
        },
        {
         "name": "Producers",
         "rawType": "object",
         "type": "string"
        },
        {
         "name": "Studios",
         "rawType": "object",
         "type": "string"
        },
        {
         "name": "Source",
         "rawType": "object",
         "type": "string"
        },
        {
         "name": "Genres",
         "rawType": "object",
         "type": "string"
        },
        {
         "name": "Themes",
         "rawType": "object",
         "type": "string"
        },
        {
         "name": "Demographics",
         "rawType": "object",
         "type": "string"
        },
        {
         "name": "Rating",
         "rawType": "object",
         "type": "string"
        },
        {
         "name": "Score",
         "rawType": "float64",
         "type": "float"
        }
       ],
       "conversionMethod": "pd.DataFrame",
       "ref": "a53f1f1a-856b-4312-9316-ef058f2443f9",
       "rows": [
        [
         "0",
         "shingeki no kyojin",
         "attack on titan",
         "Centuries ago, mankind was slaughtered to near extinction by monstrous humanoid creatures called Titans, forcing humans to hide in fear behind enormous concentric walls. What makes these giants truly terrifying is that their taste for human flesh is not born out of hunger but what appears to be out of pleasure. To ensure their survival, the remnants of humanity began living within defensive barriers, resulting in one hundred years without a single titan encounter. However, that fragile calm is soon shattered when a colossal Titan manages to breach the supposedly impregnable outer wall, reigniting the fight for survival against the man-eating abominations.\n\r\nAfter witnessing a horrific personal loss at the hands of the invading creatures, Eren Yeager dedicates his life to their eradication by enlisting into the Survey Corps, an elite military unit that combats the merciless humanoids outside the protection of the walls. Eren, his adopted sister Mikasa Ackerman, and his childhood friend Armin Arlert join the brutal war against the Titans and race to discover a way of defeating them before the last walls are breached.\n\r\n[Written by MAL Rewrite]",
         "tv",
         "spring ",
         "production ig dentsu mainichi broadcasting system pony canyon kodansha mad box pony canyon enterprise",
         "wit studio",
         "Manga",
         "Action, Drama",
         "Gore, Military, Survival",
         "Shounen",
         "R - 17+ (violence & profanity)",
         "8.531"
        ],
        [
         "1",
         "death note",
         "death note",
         "Brutal murders, petty thefts, and senseless violence pollute the human world. In contrast, the realm of death gods is a humdrum, unchanging gambling den. The ingenious 17-year-old Japanese student Light Yagami and sadistic god of death Ryuk share one belief: their worlds are rotten.\n\r\nFor his own amusement, Ryuk drops his \"Death Note\" into the human world. Light stumbles upon it, deeming the first of its rules ridiculous: the human whose name is written in this note shall die. However, the temptation is too great, and Light experiments by writing a felon's name, which disturbingly enacts his first murder.\n\r\nAware of the terrifying godlike power that has fallen into his hands, Light—under the alias \"Kira\"—follows his wicked sense of justice with the ultimate goal of cleansing the world of all evil-doers. The meticulous mastermind detective L is already on his trail, but as Light's brilliance rivals L's, the grand chase for Kira turns into an intense battle of wits that can only end when one of them is dead.\n\r\n[Written by MAL Rewrite]\n",
         "tv",
         "fall ",
         "vap konami ashi productions nippon television network shueisha",
         "madhouse",
         "Manga",
         "Supernatural, Suspense",
         "Psychological",
         "Shounen",
         "R - 17+ (violence & profanity)",
         "8.621"
        ],
        [
         "2",
         "fullmetal alchemist brotherhood",
         "fullmetal alchemist brotherhood",
         "After a horrific alchemy experiment goes wrong in the Elric household, brothers Edward and Alphonse are left in a catastrophic new reality. Ignoring the alchemical principle banning human transmutation, the boys attempted to bring their recently deceased mother back to life. Instead, they suffered brutal personal loss: Alphonse's body disintegrated while Edward lost a leg and then sacrificed an arm to keep Alphonse's soul in the physical realm by binding it to a hulking suit of armor.\n\r\nThe brothers are rescued by their neighbor Pinako Rockbell and her granddaughter Winry. Known as a bio-mechanical engineering prodigy, Winry creates prosthetic limbs for Edward by utilizing \"automail,\" a tough, versatile metal used in robots and combat armor. After years of training, the Elric brothers set off on a quest to restore their bodies by locating the Philosopher's Stone—a powerful gem that allows an alchemist to defy the traditional laws of Equivalent Exchange.\n\r\nAs Edward becomes an infamous alchemist and gains the nickname \"Fullmetal,\" the boys' journey embroils them in a growing conspiracy that threatens the fate of the world.\n\r\n[Written by MAL Rewrite]",
         "tv",
         "spring ",
         "aniplex square enix mainichi broadcasting system studio moriken",
         "bones",
         "Manga",
         "Action, Adventure, Drama, Fantasy",
         "Military",
         "Shounen",
         "R - 17+ (violence & profanity)",
         "9.131"
        ],
        [
         "3",
         "one punch man",
         "one punch man",
         "The seemingly unimpressive Saitama has a rather unique hobby: being a hero. In order to pursue his childhood dream, Saitama relentlessly trained for three years, losing all of his hair in the process. Now, Saitama is so powerful, he can defeat any enemy with just one punch. However, having no one capable of matching his strength has led Saitama to an unexpected problem—he is no longer able to enjoy the thrill of battling and has become quite bored.\n\r\nOne day, Saitama catches the attention of 19-year-old cyborg Genos, who witnesses his power and wishes to become Saitama's disciple. Genos proposes that the two join the Hero Association in order to become certified heroes that will be recognized for their positive contributions to society. Saitama, who is shocked that no one knows who he is, quickly agrees. Meeting new allies and taking on new foes, Saitama embarks on a new journey as a member of the Hero Association to experience the excitement of battle he once felt.\n\r\n[Written by MAL Rewrite]",
         "tv",
         "fall ",
         "tv tokyo bandai visual lantis asatsu dk banpresto good smile company shueisha jr east marketing  communications",
         "madhouse",
         "Web manga",
         "Action, Comedy",
         "Parody, Super Power",
         "Seinen",
         "R - 17+ (violence & profanity)",
         "8.511"
        ],
        [
         "4",
         "sword art online",
         "sword art online",
         "Ever since the release of the innovative NerveGear, gamers from all around the globe have been given the opportunity to experience a completely immersive virtual reality. Sword Art Online (SAO), one of the most recent games on the console, offers a gateway into the wondrous world of Aincrad, a vivid, medieval landscape where users can do anything within the limits of imagination. With the release of this worldwide sensation, gaming has never felt more lifelike.\n\r\nHowever, the idyllic fantasy rapidly becomes a brutal nightmare when SAO's creator traps thousands of players inside the game. The \"log-out\" function has been removed, with the only method of escape involving beating all of Aincrad's one hundred increasingly difficult levels. Adding to the struggle, any in-game death becomes permanent, ending the player's life in the real world.\n\r\nWhile Kazuto \"Kirito\" Kirigaya was fortunate enough to be a beta-tester for the game, he quickly finds that despite his advantages, he cannot overcome SAO's challenges alone. Teaming up with Asuna Yuuki and other talented players, Kirito makes an effort to face the seemingly insurmountable trials head-on. But with difficult bosses and threatening dark cults impeding his progress, Kirito finds that such tasks are much easier said than done.\n\r\n[Written by MAL Rewrite]\n",
         "tv",
         "summer ",
         "aniplex genco dax production ascii media works bandai namco games",
         "a-1 pictures",
         "Light novel",
         "Action, Adventure, Fantasy, Romance",
         "Love Polygon, Video Game",
         "Unknown",
         "PG-13 - Teens 13 or older",
         "7.201"
        ]
       ],
       "shape": {
        "columns": 13,
        "rows": 5
       }
      },
      "text/html": [
       "<div>\n",
       "<style scoped>\n",
       "    .dataframe tbody tr th:only-of-type {\n",
       "        vertical-align: middle;\n",
       "    }\n",
       "\n",
       "    .dataframe tbody tr th {\n",
       "        vertical-align: top;\n",
       "    }\n",
       "\n",
       "    .dataframe thead th {\n",
       "        text-align: right;\n",
       "    }\n",
       "</style>\n",
       "<table border=\"1\" class=\"dataframe\">\n",
       "  <thead>\n",
       "    <tr style=\"text-align: right;\">\n",
       "      <th></th>\n",
       "      <th>Title</th>\n",
       "      <th>English</th>\n",
       "      <th>Synopsis</th>\n",
       "      <th>Type</th>\n",
       "      <th>Premiered</th>\n",
       "      <th>Producers</th>\n",
       "      <th>Studios</th>\n",
       "      <th>Source</th>\n",
       "      <th>Genres</th>\n",
       "      <th>Themes</th>\n",
       "      <th>Demographics</th>\n",
       "      <th>Rating</th>\n",
       "      <th>Score</th>\n",
       "    </tr>\n",
       "  </thead>\n",
       "  <tbody>\n",
       "    <tr>\n",
       "      <th>0</th>\n",
       "      <td>shingeki no kyojin</td>\n",
       "      <td>attack on titan</td>\n",
       "      <td>Centuries ago, mankind was slaughtered to near...</td>\n",
       "      <td>tv</td>\n",
       "      <td>spring</td>\n",
       "      <td>production ig dentsu mainichi broadcasting sys...</td>\n",
       "      <td>wit studio</td>\n",
       "      <td>Manga</td>\n",
       "      <td>Action, Drama</td>\n",
       "      <td>Gore, Military, Survival</td>\n",
       "      <td>Shounen</td>\n",
       "      <td>R - 17+ (violence &amp; profanity)</td>\n",
       "      <td>8.531</td>\n",
       "    </tr>\n",
       "    <tr>\n",
       "      <th>1</th>\n",
       "      <td>death note</td>\n",
       "      <td>death note</td>\n",
       "      <td>Brutal murders, petty thefts, and senseless vi...</td>\n",
       "      <td>tv</td>\n",
       "      <td>fall</td>\n",
       "      <td>vap konami ashi productions nippon television ...</td>\n",
       "      <td>madhouse</td>\n",
       "      <td>Manga</td>\n",
       "      <td>Supernatural, Suspense</td>\n",
       "      <td>Psychological</td>\n",
       "      <td>Shounen</td>\n",
       "      <td>R - 17+ (violence &amp; profanity)</td>\n",
       "      <td>8.621</td>\n",
       "    </tr>\n",
       "    <tr>\n",
       "      <th>2</th>\n",
       "      <td>fullmetal alchemist brotherhood</td>\n",
       "      <td>fullmetal alchemist brotherhood</td>\n",
       "      <td>After a horrific alchemy experiment goes wrong...</td>\n",
       "      <td>tv</td>\n",
       "      <td>spring</td>\n",
       "      <td>aniplex square enix mainichi broadcasting syst...</td>\n",
       "      <td>bones</td>\n",
       "      <td>Manga</td>\n",
       "      <td>Action, Adventure, Drama, Fantasy</td>\n",
       "      <td>Military</td>\n",
       "      <td>Shounen</td>\n",
       "      <td>R - 17+ (violence &amp; profanity)</td>\n",
       "      <td>9.131</td>\n",
       "    </tr>\n",
       "    <tr>\n",
       "      <th>3</th>\n",
       "      <td>one punch man</td>\n",
       "      <td>one punch man</td>\n",
       "      <td>The seemingly unimpressive Saitama has a rathe...</td>\n",
       "      <td>tv</td>\n",
       "      <td>fall</td>\n",
       "      <td>tv tokyo bandai visual lantis asatsu dk banpre...</td>\n",
       "      <td>madhouse</td>\n",
       "      <td>Web manga</td>\n",
       "      <td>Action, Comedy</td>\n",
       "      <td>Parody, Super Power</td>\n",
       "      <td>Seinen</td>\n",
       "      <td>R - 17+ (violence &amp; profanity)</td>\n",
       "      <td>8.511</td>\n",
       "    </tr>\n",
       "    <tr>\n",
       "      <th>4</th>\n",
       "      <td>sword art online</td>\n",
       "      <td>sword art online</td>\n",
       "      <td>Ever since the release of the innovative Nerve...</td>\n",
       "      <td>tv</td>\n",
       "      <td>summer</td>\n",
       "      <td>aniplex genco dax production ascii media works...</td>\n",
       "      <td>a-1 pictures</td>\n",
       "      <td>Light novel</td>\n",
       "      <td>Action, Adventure, Fantasy, Romance</td>\n",
       "      <td>Love Polygon, Video Game</td>\n",
       "      <td>Unknown</td>\n",
       "      <td>PG-13 - Teens 13 or older</td>\n",
       "      <td>7.201</td>\n",
       "    </tr>\n",
       "  </tbody>\n",
       "</table>\n",
       "</div>"
      ],
      "text/plain": [
       "                             Title                          English  \\\n",
       "0               shingeki no kyojin                  attack on titan   \n",
       "1                       death note                       death note   \n",
       "2  fullmetal alchemist brotherhood  fullmetal alchemist brotherhood   \n",
       "3                    one punch man                    one punch man   \n",
       "4                 sword art online                 sword art online   \n",
       "\n",
       "                                            Synopsis Type Premiered  \\\n",
       "0  Centuries ago, mankind was slaughtered to near...   tv   spring    \n",
       "1  Brutal murders, petty thefts, and senseless vi...   tv     fall    \n",
       "2  After a horrific alchemy experiment goes wrong...   tv   spring    \n",
       "3  The seemingly unimpressive Saitama has a rathe...   tv     fall    \n",
       "4  Ever since the release of the innovative Nerve...   tv   summer    \n",
       "\n",
       "                                           Producers       Studios  \\\n",
       "0  production ig dentsu mainichi broadcasting sys...    wit studio   \n",
       "1  vap konami ashi productions nippon television ...      madhouse   \n",
       "2  aniplex square enix mainichi broadcasting syst...         bones   \n",
       "3  tv tokyo bandai visual lantis asatsu dk banpre...      madhouse   \n",
       "4  aniplex genco dax production ascii media works...  a-1 pictures   \n",
       "\n",
       "        Source                               Genres                    Themes  \\\n",
       "0        Manga                        Action, Drama  Gore, Military, Survival   \n",
       "1        Manga               Supernatural, Suspense             Psychological   \n",
       "2        Manga    Action, Adventure, Drama, Fantasy                  Military   \n",
       "3    Web manga                       Action, Comedy       Parody, Super Power   \n",
       "4  Light novel  Action, Adventure, Fantasy, Romance  Love Polygon, Video Game   \n",
       "\n",
       "  Demographics                          Rating  Score  \n",
       "0      Shounen  R - 17+ (violence & profanity)  8.531  \n",
       "1      Shounen  R - 17+ (violence & profanity)  8.621  \n",
       "2      Shounen  R - 17+ (violence & profanity)  9.131  \n",
       "3       Seinen  R - 17+ (violence & profanity)  8.511  \n",
       "4      Unknown       PG-13 - Teens 13 or older  7.201  "
      ]
     },
     "execution_count": 68,
     "metadata": {},
     "output_type": "execute_result"
    }
   ],
   "source": [
    "df.head(5)"
   ]
  },
  {
   "cell_type": "code",
   "execution_count": 69,
   "metadata": {},
   "outputs": [
    {
     "data": {
      "text/plain": [
       "array(['Manga', 'Web manga', 'Light novel', 'Original', 'Visual novel',\n",
       "       'Novel', '4-koma manga', 'Game', 'Music', 'Mixed media', 'Other',\n",
       "       'Card game', 'Web novel', 'Book', 'Unknown'], dtype=object)"
      ]
     },
     "execution_count": 69,
     "metadata": {},
     "output_type": "execute_result"
    }
   ],
   "source": [
    "df['Source'].unique()"
   ]
  },
  {
   "cell_type": "code",
   "execution_count": 70,
   "metadata": {},
   "outputs": [
    {
     "data": {
      "text/plain": [
       "array(['Shounen', 'Seinen', 'Unknown', 'Shoujo', 'Kids', 'Josei',\n",
       "       'Kids, Shounen'], dtype=object)"
      ]
     },
     "execution_count": 70,
     "metadata": {},
     "output_type": "execute_result"
    }
   ],
   "source": [
    "df['Demographics'].unique()"
   ]
  },
  {
   "cell_type": "code",
   "execution_count": 71,
   "metadata": {},
   "outputs": [],
   "source": [
    "def sorc(df:pd.DataFrame,col=\"Source\") -> pd.DataFrame:\n",
    "    df[col]=df[col].astype(str).apply(lambda x: r.sub(\"[^A-Za-z ]\",\"\",x).lower())\n",
    "    return df"
   ]
  },
  {
   "cell_type": "code",
   "execution_count": 72,
   "metadata": {},
   "outputs": [],
   "source": [
    "df=sorc(df,col='Source')"
   ]
  },
  {
   "cell_type": "code",
   "execution_count": 73,
   "metadata": {},
   "outputs": [],
   "source": [
    "def demo(df:pd.DataFrame,col='Demographics') -> pd.DataFrame:\n",
    "    df[col]=df[col].astype(str).apply(lambda x: r.sub(\"[^A-Za-z ]\",\"\",x).lower())\n",
    "    return df"
   ]
  },
  {
   "cell_type": "code",
   "execution_count": 74,
   "metadata": {},
   "outputs": [],
   "source": [
    "df=demo(df,col='Demographics')"
   ]
  },
  {
   "cell_type": "code",
   "execution_count": 75,
   "metadata": {},
   "outputs": [],
   "source": [
    "def rat(df:pd.DataFrame,col='Rating') -> pd.DataFrame:\n",
    "    df[col]=df[col].astype(str).apply(lambda x: r.sub(\"[^A-Za-z ]\",\"\",x).lower())\n",
    "    return df"
   ]
  },
  {
   "cell_type": "code",
   "execution_count": 76,
   "metadata": {},
   "outputs": [],
   "source": [
    "df=rat(df,col='Rating')"
   ]
  },
  {
   "cell_type": "code",
   "execution_count": 77,
   "metadata": {},
   "outputs": [
    {
     "data": {
      "application/vnd.microsoft.datawrangler.viewer.v0+json": {
       "columns": [
        {
         "name": "index",
         "rawType": "int64",
         "type": "integer"
        },
        {
         "name": "Title",
         "rawType": "object",
         "type": "string"
        },
        {
         "name": "English",
         "rawType": "object",
         "type": "string"
        },
        {
         "name": "Synopsis",
         "rawType": "object",
         "type": "string"
        },
        {
         "name": "Type",
         "rawType": "object",
         "type": "string"
        },
        {
         "name": "Premiered",
         "rawType": "object",
         "type": "string"
        },
        {
         "name": "Producers",
         "rawType": "object",
         "type": "string"
        },
        {
         "name": "Studios",
         "rawType": "object",
         "type": "string"
        },
        {
         "name": "Source",
         "rawType": "object",
         "type": "string"
        },
        {
         "name": "Genres",
         "rawType": "object",
         "type": "string"
        },
        {
         "name": "Themes",
         "rawType": "object",
         "type": "string"
        },
        {
         "name": "Demographics",
         "rawType": "object",
         "type": "string"
        },
        {
         "name": "Rating",
         "rawType": "object",
         "type": "string"
        },
        {
         "name": "Score",
         "rawType": "float64",
         "type": "float"
        }
       ],
       "conversionMethod": "pd.DataFrame",
       "ref": "86720e99-6285-4535-b8da-9ef5e97ac33b",
       "rows": [
        [
         "0",
         "shingeki no kyojin",
         "attack on titan",
         "Centuries ago, mankind was slaughtered to near extinction by monstrous humanoid creatures called Titans, forcing humans to hide in fear behind enormous concentric walls. What makes these giants truly terrifying is that their taste for human flesh is not born out of hunger but what appears to be out of pleasure. To ensure their survival, the remnants of humanity began living within defensive barriers, resulting in one hundred years without a single titan encounter. However, that fragile calm is soon shattered when a colossal Titan manages to breach the supposedly impregnable outer wall, reigniting the fight for survival against the man-eating abominations.\n\r\nAfter witnessing a horrific personal loss at the hands of the invading creatures, Eren Yeager dedicates his life to their eradication by enlisting into the Survey Corps, an elite military unit that combats the merciless humanoids outside the protection of the walls. Eren, his adopted sister Mikasa Ackerman, and his childhood friend Armin Arlert join the brutal war against the Titans and race to discover a way of defeating them before the last walls are breached.\n\r\n[Written by MAL Rewrite]",
         "tv",
         "spring ",
         "production ig dentsu mainichi broadcasting system pony canyon kodansha mad box pony canyon enterprise",
         "wit studio",
         "manga",
         "Action, Drama",
         "Gore, Military, Survival",
         "shounen",
         "r   violence  profanity",
         "8.531"
        ],
        [
         "1",
         "death note",
         "death note",
         "Brutal murders, petty thefts, and senseless violence pollute the human world. In contrast, the realm of death gods is a humdrum, unchanging gambling den. The ingenious 17-year-old Japanese student Light Yagami and sadistic god of death Ryuk share one belief: their worlds are rotten.\n\r\nFor his own amusement, Ryuk drops his \"Death Note\" into the human world. Light stumbles upon it, deeming the first of its rules ridiculous: the human whose name is written in this note shall die. However, the temptation is too great, and Light experiments by writing a felon's name, which disturbingly enacts his first murder.\n\r\nAware of the terrifying godlike power that has fallen into his hands, Light—under the alias \"Kira\"—follows his wicked sense of justice with the ultimate goal of cleansing the world of all evil-doers. The meticulous mastermind detective L is already on his trail, but as Light's brilliance rivals L's, the grand chase for Kira turns into an intense battle of wits that can only end when one of them is dead.\n\r\n[Written by MAL Rewrite]\n",
         "tv",
         "fall ",
         "vap konami ashi productions nippon television network shueisha",
         "madhouse",
         "manga",
         "Supernatural, Suspense",
         "Psychological",
         "shounen",
         "r   violence  profanity",
         "8.621"
        ],
        [
         "2",
         "fullmetal alchemist brotherhood",
         "fullmetal alchemist brotherhood",
         "After a horrific alchemy experiment goes wrong in the Elric household, brothers Edward and Alphonse are left in a catastrophic new reality. Ignoring the alchemical principle banning human transmutation, the boys attempted to bring their recently deceased mother back to life. Instead, they suffered brutal personal loss: Alphonse's body disintegrated while Edward lost a leg and then sacrificed an arm to keep Alphonse's soul in the physical realm by binding it to a hulking suit of armor.\n\r\nThe brothers are rescued by their neighbor Pinako Rockbell and her granddaughter Winry. Known as a bio-mechanical engineering prodigy, Winry creates prosthetic limbs for Edward by utilizing \"automail,\" a tough, versatile metal used in robots and combat armor. After years of training, the Elric brothers set off on a quest to restore their bodies by locating the Philosopher's Stone—a powerful gem that allows an alchemist to defy the traditional laws of Equivalent Exchange.\n\r\nAs Edward becomes an infamous alchemist and gains the nickname \"Fullmetal,\" the boys' journey embroils them in a growing conspiracy that threatens the fate of the world.\n\r\n[Written by MAL Rewrite]",
         "tv",
         "spring ",
         "aniplex square enix mainichi broadcasting system studio moriken",
         "bones",
         "manga",
         "Action, Adventure, Drama, Fantasy",
         "Military",
         "shounen",
         "r   violence  profanity",
         "9.131"
        ],
        [
         "3",
         "one punch man",
         "one punch man",
         "The seemingly unimpressive Saitama has a rather unique hobby: being a hero. In order to pursue his childhood dream, Saitama relentlessly trained for three years, losing all of his hair in the process. Now, Saitama is so powerful, he can defeat any enemy with just one punch. However, having no one capable of matching his strength has led Saitama to an unexpected problem—he is no longer able to enjoy the thrill of battling and has become quite bored.\n\r\nOne day, Saitama catches the attention of 19-year-old cyborg Genos, who witnesses his power and wishes to become Saitama's disciple. Genos proposes that the two join the Hero Association in order to become certified heroes that will be recognized for their positive contributions to society. Saitama, who is shocked that no one knows who he is, quickly agrees. Meeting new allies and taking on new foes, Saitama embarks on a new journey as a member of the Hero Association to experience the excitement of battle he once felt.\n\r\n[Written by MAL Rewrite]",
         "tv",
         "fall ",
         "tv tokyo bandai visual lantis asatsu dk banpresto good smile company shueisha jr east marketing  communications",
         "madhouse",
         "web manga",
         "Action, Comedy",
         "Parody, Super Power",
         "seinen",
         "r   violence  profanity",
         "8.511"
        ],
        [
         "4",
         "sword art online",
         "sword art online",
         "Ever since the release of the innovative NerveGear, gamers from all around the globe have been given the opportunity to experience a completely immersive virtual reality. Sword Art Online (SAO), one of the most recent games on the console, offers a gateway into the wondrous world of Aincrad, a vivid, medieval landscape where users can do anything within the limits of imagination. With the release of this worldwide sensation, gaming has never felt more lifelike.\n\r\nHowever, the idyllic fantasy rapidly becomes a brutal nightmare when SAO's creator traps thousands of players inside the game. The \"log-out\" function has been removed, with the only method of escape involving beating all of Aincrad's one hundred increasingly difficult levels. Adding to the struggle, any in-game death becomes permanent, ending the player's life in the real world.\n\r\nWhile Kazuto \"Kirito\" Kirigaya was fortunate enough to be a beta-tester for the game, he quickly finds that despite his advantages, he cannot overcome SAO's challenges alone. Teaming up with Asuna Yuuki and other talented players, Kirito makes an effort to face the seemingly insurmountable trials head-on. But with difficult bosses and threatening dark cults impeding his progress, Kirito finds that such tasks are much easier said than done.\n\r\n[Written by MAL Rewrite]\n",
         "tv",
         "summer ",
         "aniplex genco dax production ascii media works bandai namco games",
         "a-1 pictures",
         "light novel",
         "Action, Adventure, Fantasy, Romance",
         "Love Polygon, Video Game",
         "unknown",
         "pg  teens  or older",
         "7.201"
        ]
       ],
       "shape": {
        "columns": 13,
        "rows": 5
       }
      },
      "text/html": [
       "<div>\n",
       "<style scoped>\n",
       "    .dataframe tbody tr th:only-of-type {\n",
       "        vertical-align: middle;\n",
       "    }\n",
       "\n",
       "    .dataframe tbody tr th {\n",
       "        vertical-align: top;\n",
       "    }\n",
       "\n",
       "    .dataframe thead th {\n",
       "        text-align: right;\n",
       "    }\n",
       "</style>\n",
       "<table border=\"1\" class=\"dataframe\">\n",
       "  <thead>\n",
       "    <tr style=\"text-align: right;\">\n",
       "      <th></th>\n",
       "      <th>Title</th>\n",
       "      <th>English</th>\n",
       "      <th>Synopsis</th>\n",
       "      <th>Type</th>\n",
       "      <th>Premiered</th>\n",
       "      <th>Producers</th>\n",
       "      <th>Studios</th>\n",
       "      <th>Source</th>\n",
       "      <th>Genres</th>\n",
       "      <th>Themes</th>\n",
       "      <th>Demographics</th>\n",
       "      <th>Rating</th>\n",
       "      <th>Score</th>\n",
       "    </tr>\n",
       "  </thead>\n",
       "  <tbody>\n",
       "    <tr>\n",
       "      <th>0</th>\n",
       "      <td>shingeki no kyojin</td>\n",
       "      <td>attack on titan</td>\n",
       "      <td>Centuries ago, mankind was slaughtered to near...</td>\n",
       "      <td>tv</td>\n",
       "      <td>spring</td>\n",
       "      <td>production ig dentsu mainichi broadcasting sys...</td>\n",
       "      <td>wit studio</td>\n",
       "      <td>manga</td>\n",
       "      <td>Action, Drama</td>\n",
       "      <td>Gore, Military, Survival</td>\n",
       "      <td>shounen</td>\n",
       "      <td>r   violence  profanity</td>\n",
       "      <td>8.531</td>\n",
       "    </tr>\n",
       "    <tr>\n",
       "      <th>1</th>\n",
       "      <td>death note</td>\n",
       "      <td>death note</td>\n",
       "      <td>Brutal murders, petty thefts, and senseless vi...</td>\n",
       "      <td>tv</td>\n",
       "      <td>fall</td>\n",
       "      <td>vap konami ashi productions nippon television ...</td>\n",
       "      <td>madhouse</td>\n",
       "      <td>manga</td>\n",
       "      <td>Supernatural, Suspense</td>\n",
       "      <td>Psychological</td>\n",
       "      <td>shounen</td>\n",
       "      <td>r   violence  profanity</td>\n",
       "      <td>8.621</td>\n",
       "    </tr>\n",
       "    <tr>\n",
       "      <th>2</th>\n",
       "      <td>fullmetal alchemist brotherhood</td>\n",
       "      <td>fullmetal alchemist brotherhood</td>\n",
       "      <td>After a horrific alchemy experiment goes wrong...</td>\n",
       "      <td>tv</td>\n",
       "      <td>spring</td>\n",
       "      <td>aniplex square enix mainichi broadcasting syst...</td>\n",
       "      <td>bones</td>\n",
       "      <td>manga</td>\n",
       "      <td>Action, Adventure, Drama, Fantasy</td>\n",
       "      <td>Military</td>\n",
       "      <td>shounen</td>\n",
       "      <td>r   violence  profanity</td>\n",
       "      <td>9.131</td>\n",
       "    </tr>\n",
       "    <tr>\n",
       "      <th>3</th>\n",
       "      <td>one punch man</td>\n",
       "      <td>one punch man</td>\n",
       "      <td>The seemingly unimpressive Saitama has a rathe...</td>\n",
       "      <td>tv</td>\n",
       "      <td>fall</td>\n",
       "      <td>tv tokyo bandai visual lantis asatsu dk banpre...</td>\n",
       "      <td>madhouse</td>\n",
       "      <td>web manga</td>\n",
       "      <td>Action, Comedy</td>\n",
       "      <td>Parody, Super Power</td>\n",
       "      <td>seinen</td>\n",
       "      <td>r   violence  profanity</td>\n",
       "      <td>8.511</td>\n",
       "    </tr>\n",
       "    <tr>\n",
       "      <th>4</th>\n",
       "      <td>sword art online</td>\n",
       "      <td>sword art online</td>\n",
       "      <td>Ever since the release of the innovative Nerve...</td>\n",
       "      <td>tv</td>\n",
       "      <td>summer</td>\n",
       "      <td>aniplex genco dax production ascii media works...</td>\n",
       "      <td>a-1 pictures</td>\n",
       "      <td>light novel</td>\n",
       "      <td>Action, Adventure, Fantasy, Romance</td>\n",
       "      <td>Love Polygon, Video Game</td>\n",
       "      <td>unknown</td>\n",
       "      <td>pg  teens  or older</td>\n",
       "      <td>7.201</td>\n",
       "    </tr>\n",
       "  </tbody>\n",
       "</table>\n",
       "</div>"
      ],
      "text/plain": [
       "                             Title                          English  \\\n",
       "0               shingeki no kyojin                  attack on titan   \n",
       "1                       death note                       death note   \n",
       "2  fullmetal alchemist brotherhood  fullmetal alchemist brotherhood   \n",
       "3                    one punch man                    one punch man   \n",
       "4                 sword art online                 sword art online   \n",
       "\n",
       "                                            Synopsis Type Premiered  \\\n",
       "0  Centuries ago, mankind was slaughtered to near...   tv   spring    \n",
       "1  Brutal murders, petty thefts, and senseless vi...   tv     fall    \n",
       "2  After a horrific alchemy experiment goes wrong...   tv   spring    \n",
       "3  The seemingly unimpressive Saitama has a rathe...   tv     fall    \n",
       "4  Ever since the release of the innovative Nerve...   tv   summer    \n",
       "\n",
       "                                           Producers       Studios  \\\n",
       "0  production ig dentsu mainichi broadcasting sys...    wit studio   \n",
       "1  vap konami ashi productions nippon television ...      madhouse   \n",
       "2  aniplex square enix mainichi broadcasting syst...         bones   \n",
       "3  tv tokyo bandai visual lantis asatsu dk banpre...      madhouse   \n",
       "4  aniplex genco dax production ascii media works...  a-1 pictures   \n",
       "\n",
       "        Source                               Genres                    Themes  \\\n",
       "0        manga                        Action, Drama  Gore, Military, Survival   \n",
       "1        manga               Supernatural, Suspense             Psychological   \n",
       "2        manga    Action, Adventure, Drama, Fantasy                  Military   \n",
       "3    web manga                       Action, Comedy       Parody, Super Power   \n",
       "4  light novel  Action, Adventure, Fantasy, Romance  Love Polygon, Video Game   \n",
       "\n",
       "  Demographics                   Rating  Score  \n",
       "0      shounen  r   violence  profanity  8.531  \n",
       "1      shounen  r   violence  profanity  8.621  \n",
       "2      shounen  r   violence  profanity  9.131  \n",
       "3       seinen  r   violence  profanity  8.511  \n",
       "4      unknown      pg  teens  or older  7.201  "
      ]
     },
     "execution_count": 77,
     "metadata": {},
     "output_type": "execute_result"
    }
   ],
   "source": [
    "df.head()"
   ]
  },
  {
   "cell_type": "code",
   "execution_count": 78,
   "metadata": {},
   "outputs": [],
   "source": [
    "def gen(df:pd.DataFrame,col='Genres') -> pd.DataFrame:\n",
    "    df[col]=df[col].astype(str).apply(lambda x: r.sub(\"[^A-Za-z ]\",\"\",x).lower())\n",
    "    return df"
   ]
  },
  {
   "cell_type": "code",
   "execution_count": 79,
   "metadata": {},
   "outputs": [],
   "source": [
    "df=rat(df,col='Genres')"
   ]
  },
  {
   "cell_type": "code",
   "execution_count": 80,
   "metadata": {},
   "outputs": [],
   "source": [
    "def themm(df:pd.DataFrame,col='Themes') -> pd.DataFrame:\n",
    "    df[col]=df[col].astype(str).apply(lambda x: r.sub(\"[^A-Za-z ]\",\"\",x).lower())\n",
    "    return df"
   ]
  },
  {
   "cell_type": "code",
   "execution_count": 81,
   "metadata": {},
   "outputs": [],
   "source": [
    "df=rat(df,col='Themes')"
   ]
  },
  {
   "cell_type": "code",
   "execution_count": 82,
   "metadata": {},
   "outputs": [
    {
     "data": {
      "application/vnd.microsoft.datawrangler.viewer.v0+json": {
       "columns": [
        {
         "name": "index",
         "rawType": "int64",
         "type": "integer"
        },
        {
         "name": "Title",
         "rawType": "object",
         "type": "string"
        },
        {
         "name": "English",
         "rawType": "object",
         "type": "string"
        },
        {
         "name": "Synopsis",
         "rawType": "object",
         "type": "string"
        },
        {
         "name": "Type",
         "rawType": "object",
         "type": "string"
        },
        {
         "name": "Premiered",
         "rawType": "object",
         "type": "string"
        },
        {
         "name": "Producers",
         "rawType": "object",
         "type": "string"
        },
        {
         "name": "Studios",
         "rawType": "object",
         "type": "string"
        },
        {
         "name": "Source",
         "rawType": "object",
         "type": "string"
        },
        {
         "name": "Genres",
         "rawType": "object",
         "type": "string"
        },
        {
         "name": "Themes",
         "rawType": "object",
         "type": "string"
        },
        {
         "name": "Demographics",
         "rawType": "object",
         "type": "string"
        },
        {
         "name": "Rating",
         "rawType": "object",
         "type": "string"
        },
        {
         "name": "Score",
         "rawType": "float64",
         "type": "float"
        }
       ],
       "conversionMethod": "pd.DataFrame",
       "ref": "66c09b3b-0592-43f8-b034-ff30def39083",
       "rows": [
        [
         "0",
         "shingeki no kyojin",
         "attack on titan",
         "Centuries ago, mankind was slaughtered to near extinction by monstrous humanoid creatures called Titans, forcing humans to hide in fear behind enormous concentric walls. What makes these giants truly terrifying is that their taste for human flesh is not born out of hunger but what appears to be out of pleasure. To ensure their survival, the remnants of humanity began living within defensive barriers, resulting in one hundred years without a single titan encounter. However, that fragile calm is soon shattered when a colossal Titan manages to breach the supposedly impregnable outer wall, reigniting the fight for survival against the man-eating abominations.\n\r\nAfter witnessing a horrific personal loss at the hands of the invading creatures, Eren Yeager dedicates his life to their eradication by enlisting into the Survey Corps, an elite military unit that combats the merciless humanoids outside the protection of the walls. Eren, his adopted sister Mikasa Ackerman, and his childhood friend Armin Arlert join the brutal war against the Titans and race to discover a way of defeating them before the last walls are breached.\n\r\n[Written by MAL Rewrite]",
         "tv",
         "spring ",
         "production ig dentsu mainichi broadcasting system pony canyon kodansha mad box pony canyon enterprise",
         "wit studio",
         "manga",
         "action drama",
         "gore military survival",
         "shounen",
         "r   violence  profanity",
         "8.531"
        ],
        [
         "1",
         "death note",
         "death note",
         "Brutal murders, petty thefts, and senseless violence pollute the human world. In contrast, the realm of death gods is a humdrum, unchanging gambling den. The ingenious 17-year-old Japanese student Light Yagami and sadistic god of death Ryuk share one belief: their worlds are rotten.\n\r\nFor his own amusement, Ryuk drops his \"Death Note\" into the human world. Light stumbles upon it, deeming the first of its rules ridiculous: the human whose name is written in this note shall die. However, the temptation is too great, and Light experiments by writing a felon's name, which disturbingly enacts his first murder.\n\r\nAware of the terrifying godlike power that has fallen into his hands, Light—under the alias \"Kira\"—follows his wicked sense of justice with the ultimate goal of cleansing the world of all evil-doers. The meticulous mastermind detective L is already on his trail, but as Light's brilliance rivals L's, the grand chase for Kira turns into an intense battle of wits that can only end when one of them is dead.\n\r\n[Written by MAL Rewrite]\n",
         "tv",
         "fall ",
         "vap konami ashi productions nippon television network shueisha",
         "madhouse",
         "manga",
         "supernatural suspense",
         "psychological",
         "shounen",
         "r   violence  profanity",
         "8.621"
        ],
        [
         "2",
         "fullmetal alchemist brotherhood",
         "fullmetal alchemist brotherhood",
         "After a horrific alchemy experiment goes wrong in the Elric household, brothers Edward and Alphonse are left in a catastrophic new reality. Ignoring the alchemical principle banning human transmutation, the boys attempted to bring their recently deceased mother back to life. Instead, they suffered brutal personal loss: Alphonse's body disintegrated while Edward lost a leg and then sacrificed an arm to keep Alphonse's soul in the physical realm by binding it to a hulking suit of armor.\n\r\nThe brothers are rescued by their neighbor Pinako Rockbell and her granddaughter Winry. Known as a bio-mechanical engineering prodigy, Winry creates prosthetic limbs for Edward by utilizing \"automail,\" a tough, versatile metal used in robots and combat armor. After years of training, the Elric brothers set off on a quest to restore their bodies by locating the Philosopher's Stone—a powerful gem that allows an alchemist to defy the traditional laws of Equivalent Exchange.\n\r\nAs Edward becomes an infamous alchemist and gains the nickname \"Fullmetal,\" the boys' journey embroils them in a growing conspiracy that threatens the fate of the world.\n\r\n[Written by MAL Rewrite]",
         "tv",
         "spring ",
         "aniplex square enix mainichi broadcasting system studio moriken",
         "bones",
         "manga",
         "action adventure drama fantasy",
         "military",
         "shounen",
         "r   violence  profanity",
         "9.131"
        ],
        [
         "3",
         "one punch man",
         "one punch man",
         "The seemingly unimpressive Saitama has a rather unique hobby: being a hero. In order to pursue his childhood dream, Saitama relentlessly trained for three years, losing all of his hair in the process. Now, Saitama is so powerful, he can defeat any enemy with just one punch. However, having no one capable of matching his strength has led Saitama to an unexpected problem—he is no longer able to enjoy the thrill of battling and has become quite bored.\n\r\nOne day, Saitama catches the attention of 19-year-old cyborg Genos, who witnesses his power and wishes to become Saitama's disciple. Genos proposes that the two join the Hero Association in order to become certified heroes that will be recognized for their positive contributions to society. Saitama, who is shocked that no one knows who he is, quickly agrees. Meeting new allies and taking on new foes, Saitama embarks on a new journey as a member of the Hero Association to experience the excitement of battle he once felt.\n\r\n[Written by MAL Rewrite]",
         "tv",
         "fall ",
         "tv tokyo bandai visual lantis asatsu dk banpresto good smile company shueisha jr east marketing  communications",
         "madhouse",
         "web manga",
         "action comedy",
         "parody super power",
         "seinen",
         "r   violence  profanity",
         "8.511"
        ],
        [
         "4",
         "sword art online",
         "sword art online",
         "Ever since the release of the innovative NerveGear, gamers from all around the globe have been given the opportunity to experience a completely immersive virtual reality. Sword Art Online (SAO), one of the most recent games on the console, offers a gateway into the wondrous world of Aincrad, a vivid, medieval landscape where users can do anything within the limits of imagination. With the release of this worldwide sensation, gaming has never felt more lifelike.\n\r\nHowever, the idyllic fantasy rapidly becomes a brutal nightmare when SAO's creator traps thousands of players inside the game. The \"log-out\" function has been removed, with the only method of escape involving beating all of Aincrad's one hundred increasingly difficult levels. Adding to the struggle, any in-game death becomes permanent, ending the player's life in the real world.\n\r\nWhile Kazuto \"Kirito\" Kirigaya was fortunate enough to be a beta-tester for the game, he quickly finds that despite his advantages, he cannot overcome SAO's challenges alone. Teaming up with Asuna Yuuki and other talented players, Kirito makes an effort to face the seemingly insurmountable trials head-on. But with difficult bosses and threatening dark cults impeding his progress, Kirito finds that such tasks are much easier said than done.\n\r\n[Written by MAL Rewrite]\n",
         "tv",
         "summer ",
         "aniplex genco dax production ascii media works bandai namco games",
         "a-1 pictures",
         "light novel",
         "action adventure fantasy romance",
         "love polygon video game",
         "unknown",
         "pg  teens  or older",
         "7.201"
        ]
       ],
       "shape": {
        "columns": 13,
        "rows": 5
       }
      },
      "text/html": [
       "<div>\n",
       "<style scoped>\n",
       "    .dataframe tbody tr th:only-of-type {\n",
       "        vertical-align: middle;\n",
       "    }\n",
       "\n",
       "    .dataframe tbody tr th {\n",
       "        vertical-align: top;\n",
       "    }\n",
       "\n",
       "    .dataframe thead th {\n",
       "        text-align: right;\n",
       "    }\n",
       "</style>\n",
       "<table border=\"1\" class=\"dataframe\">\n",
       "  <thead>\n",
       "    <tr style=\"text-align: right;\">\n",
       "      <th></th>\n",
       "      <th>Title</th>\n",
       "      <th>English</th>\n",
       "      <th>Synopsis</th>\n",
       "      <th>Type</th>\n",
       "      <th>Premiered</th>\n",
       "      <th>Producers</th>\n",
       "      <th>Studios</th>\n",
       "      <th>Source</th>\n",
       "      <th>Genres</th>\n",
       "      <th>Themes</th>\n",
       "      <th>Demographics</th>\n",
       "      <th>Rating</th>\n",
       "      <th>Score</th>\n",
       "    </tr>\n",
       "  </thead>\n",
       "  <tbody>\n",
       "    <tr>\n",
       "      <th>0</th>\n",
       "      <td>shingeki no kyojin</td>\n",
       "      <td>attack on titan</td>\n",
       "      <td>Centuries ago, mankind was slaughtered to near...</td>\n",
       "      <td>tv</td>\n",
       "      <td>spring</td>\n",
       "      <td>production ig dentsu mainichi broadcasting sys...</td>\n",
       "      <td>wit studio</td>\n",
       "      <td>manga</td>\n",
       "      <td>action drama</td>\n",
       "      <td>gore military survival</td>\n",
       "      <td>shounen</td>\n",
       "      <td>r   violence  profanity</td>\n",
       "      <td>8.531</td>\n",
       "    </tr>\n",
       "    <tr>\n",
       "      <th>1</th>\n",
       "      <td>death note</td>\n",
       "      <td>death note</td>\n",
       "      <td>Brutal murders, petty thefts, and senseless vi...</td>\n",
       "      <td>tv</td>\n",
       "      <td>fall</td>\n",
       "      <td>vap konami ashi productions nippon television ...</td>\n",
       "      <td>madhouse</td>\n",
       "      <td>manga</td>\n",
       "      <td>supernatural suspense</td>\n",
       "      <td>psychological</td>\n",
       "      <td>shounen</td>\n",
       "      <td>r   violence  profanity</td>\n",
       "      <td>8.621</td>\n",
       "    </tr>\n",
       "    <tr>\n",
       "      <th>2</th>\n",
       "      <td>fullmetal alchemist brotherhood</td>\n",
       "      <td>fullmetal alchemist brotherhood</td>\n",
       "      <td>After a horrific alchemy experiment goes wrong...</td>\n",
       "      <td>tv</td>\n",
       "      <td>spring</td>\n",
       "      <td>aniplex square enix mainichi broadcasting syst...</td>\n",
       "      <td>bones</td>\n",
       "      <td>manga</td>\n",
       "      <td>action adventure drama fantasy</td>\n",
       "      <td>military</td>\n",
       "      <td>shounen</td>\n",
       "      <td>r   violence  profanity</td>\n",
       "      <td>9.131</td>\n",
       "    </tr>\n",
       "    <tr>\n",
       "      <th>3</th>\n",
       "      <td>one punch man</td>\n",
       "      <td>one punch man</td>\n",
       "      <td>The seemingly unimpressive Saitama has a rathe...</td>\n",
       "      <td>tv</td>\n",
       "      <td>fall</td>\n",
       "      <td>tv tokyo bandai visual lantis asatsu dk banpre...</td>\n",
       "      <td>madhouse</td>\n",
       "      <td>web manga</td>\n",
       "      <td>action comedy</td>\n",
       "      <td>parody super power</td>\n",
       "      <td>seinen</td>\n",
       "      <td>r   violence  profanity</td>\n",
       "      <td>8.511</td>\n",
       "    </tr>\n",
       "    <tr>\n",
       "      <th>4</th>\n",
       "      <td>sword art online</td>\n",
       "      <td>sword art online</td>\n",
       "      <td>Ever since the release of the innovative Nerve...</td>\n",
       "      <td>tv</td>\n",
       "      <td>summer</td>\n",
       "      <td>aniplex genco dax production ascii media works...</td>\n",
       "      <td>a-1 pictures</td>\n",
       "      <td>light novel</td>\n",
       "      <td>action adventure fantasy romance</td>\n",
       "      <td>love polygon video game</td>\n",
       "      <td>unknown</td>\n",
       "      <td>pg  teens  or older</td>\n",
       "      <td>7.201</td>\n",
       "    </tr>\n",
       "  </tbody>\n",
       "</table>\n",
       "</div>"
      ],
      "text/plain": [
       "                             Title                          English  \\\n",
       "0               shingeki no kyojin                  attack on titan   \n",
       "1                       death note                       death note   \n",
       "2  fullmetal alchemist brotherhood  fullmetal alchemist brotherhood   \n",
       "3                    one punch man                    one punch man   \n",
       "4                 sword art online                 sword art online   \n",
       "\n",
       "                                            Synopsis Type Premiered  \\\n",
       "0  Centuries ago, mankind was slaughtered to near...   tv   spring    \n",
       "1  Brutal murders, petty thefts, and senseless vi...   tv     fall    \n",
       "2  After a horrific alchemy experiment goes wrong...   tv   spring    \n",
       "3  The seemingly unimpressive Saitama has a rathe...   tv     fall    \n",
       "4  Ever since the release of the innovative Nerve...   tv   summer    \n",
       "\n",
       "                                           Producers       Studios  \\\n",
       "0  production ig dentsu mainichi broadcasting sys...    wit studio   \n",
       "1  vap konami ashi productions nippon television ...      madhouse   \n",
       "2  aniplex square enix mainichi broadcasting syst...         bones   \n",
       "3  tv tokyo bandai visual lantis asatsu dk banpre...      madhouse   \n",
       "4  aniplex genco dax production ascii media works...  a-1 pictures   \n",
       "\n",
       "        Source                            Genres                   Themes  \\\n",
       "0        manga                      action drama   gore military survival   \n",
       "1        manga             supernatural suspense            psychological   \n",
       "2        manga    action adventure drama fantasy                 military   \n",
       "3    web manga                     action comedy       parody super power   \n",
       "4  light novel  action adventure fantasy romance  love polygon video game   \n",
       "\n",
       "  Demographics                   Rating  Score  \n",
       "0      shounen  r   violence  profanity  8.531  \n",
       "1      shounen  r   violence  profanity  8.621  \n",
       "2      shounen  r   violence  profanity  9.131  \n",
       "3       seinen  r   violence  profanity  8.511  \n",
       "4      unknown      pg  teens  or older  7.201  "
      ]
     },
     "execution_count": 82,
     "metadata": {},
     "output_type": "execute_result"
    }
   ],
   "source": [
    "df.head()"
   ]
  },
  {
   "cell_type": "code",
   "execution_count": 83,
   "metadata": {},
   "outputs": [
    {
     "name": "stdout",
     "output_type": "stream",
     "text": [
      "<class 'pandas.core.frame.DataFrame'>\n",
      "Index: 3000 entries, 0 to 3931\n",
      "Data columns (total 13 columns):\n",
      " #   Column        Non-Null Count  Dtype  \n",
      "---  ------        --------------  -----  \n",
      " 0   Title         3000 non-null   object \n",
      " 1   English       3000 non-null   object \n",
      " 2   Synopsis      3000 non-null   object \n",
      " 3   Type          3000 non-null   object \n",
      " 4   Premiered     3000 non-null   object \n",
      " 5   Producers     3000 non-null   object \n",
      " 6   Studios       3000 non-null   object \n",
      " 7   Source        3000 non-null   object \n",
      " 8   Genres        3000 non-null   object \n",
      " 9   Themes        3000 non-null   object \n",
      " 10  Demographics  3000 non-null   object \n",
      " 11  Rating        3000 non-null   object \n",
      " 12  Score         3000 non-null   float64\n",
      "dtypes: float64(1), object(12)\n",
      "memory usage: 392.7+ KB\n"
     ]
    }
   ],
   "source": [
    "df.info()"
   ]
  },
  {
   "cell_type": "code",
   "execution_count": 84,
   "metadata": {},
   "outputs": [],
   "source": [
    "def syno(df:pd.DataFrame,col='Score') -> pd.DataFrame:\n",
    "    df[col]=df[col].astype(str).apply(lambda x: r.sub(\"[^0-9. ]\",\"\",x).lower())\n",
    "    return df"
   ]
  },
  {
   "cell_type": "code",
   "execution_count": 85,
   "metadata": {},
   "outputs": [],
   "source": [
    "df=syno(df,col='Score')"
   ]
  },
  {
   "cell_type": "code",
   "execution_count": 86,
   "metadata": {},
   "outputs": [],
   "source": [
    "def syno(df:pd.DataFrame,col='Synopsis') -> pd.DataFrame:\n",
    "    df[col]=df[col].astype(str).apply(lambda x: r.sub(\"[^A-Za-z ]\",\"\",x).lower())\n",
    "    return df"
   ]
  },
  {
   "cell_type": "code",
   "execution_count": null,
   "metadata": {},
   "outputs": [],
   "source": []
  },
  {
   "cell_type": "code",
   "execution_count": 87,
   "metadata": {},
   "outputs": [],
   "source": [
    "df=syno(df,col='Synopsis')"
   ]
  },
  {
   "cell_type": "code",
   "execution_count": 88,
   "metadata": {},
   "outputs": [
    {
     "data": {
      "application/vnd.microsoft.datawrangler.viewer.v0+json": {
       "columns": [
        {
         "name": "index",
         "rawType": "int64",
         "type": "integer"
        },
        {
         "name": "Title",
         "rawType": "object",
         "type": "string"
        },
        {
         "name": "English",
         "rawType": "object",
         "type": "string"
        },
        {
         "name": "Synopsis",
         "rawType": "object",
         "type": "string"
        },
        {
         "name": "Type",
         "rawType": "object",
         "type": "string"
        },
        {
         "name": "Premiered",
         "rawType": "object",
         "type": "string"
        },
        {
         "name": "Producers",
         "rawType": "object",
         "type": "string"
        },
        {
         "name": "Studios",
         "rawType": "object",
         "type": "string"
        },
        {
         "name": "Source",
         "rawType": "object",
         "type": "string"
        },
        {
         "name": "Genres",
         "rawType": "object",
         "type": "string"
        },
        {
         "name": "Themes",
         "rawType": "object",
         "type": "string"
        },
        {
         "name": "Demographics",
         "rawType": "object",
         "type": "string"
        },
        {
         "name": "Rating",
         "rawType": "object",
         "type": "string"
        },
        {
         "name": "Score",
         "rawType": "object",
         "type": "string"
        }
       ],
       "conversionMethod": "pd.DataFrame",
       "ref": "860b5108-9709-4105-bd36-750bcd7a8d19",
       "rows": [
        [
         "0",
         "shingeki no kyojin",
         "attack on titan",
         "centuries ago mankind was slaughtered to near extinction by monstrous humanoid creatures called titans forcing humans to hide in fear behind enormous concentric walls what makes these giants truly terrifying is that their taste for human flesh is not born out of hunger but what appears to be out of pleasure to ensure their survival the remnants of humanity began living within defensive barriers resulting in one hundred years without a single titan encounter however that fragile calm is soon shattered when a colossal titan manages to breach the supposedly impregnable outer wall reigniting the fight for survival against the maneating abominationsafter witnessing a horrific personal loss at the hands of the invading creatures eren yeager dedicates his life to their eradication by enlisting into the survey corps an elite military unit that combats the merciless humanoids outside the protection of the walls eren his adopted sister mikasa ackerman and his childhood friend armin arlert join the brutal war against the titans and race to discover a way of defeating them before the last walls are breachedwritten by mal rewrite",
         "tv",
         "spring ",
         "production ig dentsu mainichi broadcasting system pony canyon kodansha mad box pony canyon enterprise",
         "wit studio",
         "manga",
         "action drama",
         "gore military survival",
         "shounen",
         "r   violence  profanity",
         "8.531"
        ],
        [
         "1",
         "death note",
         "death note",
         "brutal murders petty thefts and senseless violence pollute the human world in contrast the realm of death gods is a humdrum unchanging gambling den the ingenious yearold japanese student light yagami and sadistic god of death ryuk share one belief their worlds are rottenfor his own amusement ryuk drops his death note into the human world light stumbles upon it deeming the first of its rules ridiculous the human whose name is written in this note shall die however the temptation is too great and light experiments by writing a felons name which disturbingly enacts his first murderaware of the terrifying godlike power that has fallen into his hands lightunder the alias kirafollows his wicked sense of justice with the ultimate goal of cleansing the world of all evildoers the meticulous mastermind detective l is already on his trail but as lights brilliance rivals ls the grand chase for kira turns into an intense battle of wits that can only end when one of them is deadwritten by mal rewrite",
         "tv",
         "fall ",
         "vap konami ashi productions nippon television network shueisha",
         "madhouse",
         "manga",
         "supernatural suspense",
         "psychological",
         "shounen",
         "r   violence  profanity",
         "8.621"
        ],
        [
         "2",
         "fullmetal alchemist brotherhood",
         "fullmetal alchemist brotherhood",
         "after a horrific alchemy experiment goes wrong in the elric household brothers edward and alphonse are left in a catastrophic new reality ignoring the alchemical principle banning human transmutation the boys attempted to bring their recently deceased mother back to life instead they suffered brutal personal loss alphonses body disintegrated while edward lost a leg and then sacrificed an arm to keep alphonses soul in the physical realm by binding it to a hulking suit of armorthe brothers are rescued by their neighbor pinako rockbell and her granddaughter winry known as a biomechanical engineering prodigy winry creates prosthetic limbs for edward by utilizing automail a tough versatile metal used in robots and combat armor after years of training the elric brothers set off on a quest to restore their bodies by locating the philosophers stonea powerful gem that allows an alchemist to defy the traditional laws of equivalent exchangeas edward becomes an infamous alchemist and gains the nickname fullmetal the boys journey embroils them in a growing conspiracy that threatens the fate of the worldwritten by mal rewrite",
         "tv",
         "spring ",
         "aniplex square enix mainichi broadcasting system studio moriken",
         "bones",
         "manga",
         "action adventure drama fantasy",
         "military",
         "shounen",
         "r   violence  profanity",
         "9.131"
        ],
        [
         "3",
         "one punch man",
         "one punch man",
         "the seemingly unimpressive saitama has a rather unique hobby being a hero in order to pursue his childhood dream saitama relentlessly trained for three years losing all of his hair in the process now saitama is so powerful he can defeat any enemy with just one punch however having no one capable of matching his strength has led saitama to an unexpected problemhe is no longer able to enjoy the thrill of battling and has become quite boredone day saitama catches the attention of yearold cyborg genos who witnesses his power and wishes to become saitamas disciple genos proposes that the two join the hero association in order to become certified heroes that will be recognized for their positive contributions to society saitama who is shocked that no one knows who he is quickly agrees meeting new allies and taking on new foes saitama embarks on a new journey as a member of the hero association to experience the excitement of battle he once feltwritten by mal rewrite",
         "tv",
         "fall ",
         "tv tokyo bandai visual lantis asatsu dk banpresto good smile company shueisha jr east marketing  communications",
         "madhouse",
         "web manga",
         "action comedy",
         "parody super power",
         "seinen",
         "r   violence  profanity",
         "8.511"
        ],
        [
         "4",
         "sword art online",
         "sword art online",
         "ever since the release of the innovative nervegear gamers from all around the globe have been given the opportunity to experience a completely immersive virtual reality sword art online sao one of the most recent games on the console offers a gateway into the wondrous world of aincrad a vivid medieval landscape where users can do anything within the limits of imagination with the release of this worldwide sensation gaming has never felt more lifelikehowever the idyllic fantasy rapidly becomes a brutal nightmare when saos creator traps thousands of players inside the game the logout function has been removed with the only method of escape involving beating all of aincrads one hundred increasingly difficult levels adding to the struggle any ingame death becomes permanent ending the players life in the real worldwhile kazuto kirito kirigaya was fortunate enough to be a betatester for the game he quickly finds that despite his advantages he cannot overcome saos challenges alone teaming up with asuna yuuki and other talented players kirito makes an effort to face the seemingly insurmountable trials headon but with difficult bosses and threatening dark cults impeding his progress kirito finds that such tasks are much easier said than donewritten by mal rewrite",
         "tv",
         "summer ",
         "aniplex genco dax production ascii media works bandai namco games",
         "a-1 pictures",
         "light novel",
         "action adventure fantasy romance",
         "love polygon video game",
         "unknown",
         "pg  teens  or older",
         "7.201"
        ]
       ],
       "shape": {
        "columns": 13,
        "rows": 5
       }
      },
      "text/html": [
       "<div>\n",
       "<style scoped>\n",
       "    .dataframe tbody tr th:only-of-type {\n",
       "        vertical-align: middle;\n",
       "    }\n",
       "\n",
       "    .dataframe tbody tr th {\n",
       "        vertical-align: top;\n",
       "    }\n",
       "\n",
       "    .dataframe thead th {\n",
       "        text-align: right;\n",
       "    }\n",
       "</style>\n",
       "<table border=\"1\" class=\"dataframe\">\n",
       "  <thead>\n",
       "    <tr style=\"text-align: right;\">\n",
       "      <th></th>\n",
       "      <th>Title</th>\n",
       "      <th>English</th>\n",
       "      <th>Synopsis</th>\n",
       "      <th>Type</th>\n",
       "      <th>Premiered</th>\n",
       "      <th>Producers</th>\n",
       "      <th>Studios</th>\n",
       "      <th>Source</th>\n",
       "      <th>Genres</th>\n",
       "      <th>Themes</th>\n",
       "      <th>Demographics</th>\n",
       "      <th>Rating</th>\n",
       "      <th>Score</th>\n",
       "    </tr>\n",
       "  </thead>\n",
       "  <tbody>\n",
       "    <tr>\n",
       "      <th>0</th>\n",
       "      <td>shingeki no kyojin</td>\n",
       "      <td>attack on titan</td>\n",
       "      <td>centuries ago mankind was slaughtered to near ...</td>\n",
       "      <td>tv</td>\n",
       "      <td>spring</td>\n",
       "      <td>production ig dentsu mainichi broadcasting sys...</td>\n",
       "      <td>wit studio</td>\n",
       "      <td>manga</td>\n",
       "      <td>action drama</td>\n",
       "      <td>gore military survival</td>\n",
       "      <td>shounen</td>\n",
       "      <td>r   violence  profanity</td>\n",
       "      <td>8.531</td>\n",
       "    </tr>\n",
       "    <tr>\n",
       "      <th>1</th>\n",
       "      <td>death note</td>\n",
       "      <td>death note</td>\n",
       "      <td>brutal murders petty thefts and senseless viol...</td>\n",
       "      <td>tv</td>\n",
       "      <td>fall</td>\n",
       "      <td>vap konami ashi productions nippon television ...</td>\n",
       "      <td>madhouse</td>\n",
       "      <td>manga</td>\n",
       "      <td>supernatural suspense</td>\n",
       "      <td>psychological</td>\n",
       "      <td>shounen</td>\n",
       "      <td>r   violence  profanity</td>\n",
       "      <td>8.621</td>\n",
       "    </tr>\n",
       "    <tr>\n",
       "      <th>2</th>\n",
       "      <td>fullmetal alchemist brotherhood</td>\n",
       "      <td>fullmetal alchemist brotherhood</td>\n",
       "      <td>after a horrific alchemy experiment goes wrong...</td>\n",
       "      <td>tv</td>\n",
       "      <td>spring</td>\n",
       "      <td>aniplex square enix mainichi broadcasting syst...</td>\n",
       "      <td>bones</td>\n",
       "      <td>manga</td>\n",
       "      <td>action adventure drama fantasy</td>\n",
       "      <td>military</td>\n",
       "      <td>shounen</td>\n",
       "      <td>r   violence  profanity</td>\n",
       "      <td>9.131</td>\n",
       "    </tr>\n",
       "    <tr>\n",
       "      <th>3</th>\n",
       "      <td>one punch man</td>\n",
       "      <td>one punch man</td>\n",
       "      <td>the seemingly unimpressive saitama has a rathe...</td>\n",
       "      <td>tv</td>\n",
       "      <td>fall</td>\n",
       "      <td>tv tokyo bandai visual lantis asatsu dk banpre...</td>\n",
       "      <td>madhouse</td>\n",
       "      <td>web manga</td>\n",
       "      <td>action comedy</td>\n",
       "      <td>parody super power</td>\n",
       "      <td>seinen</td>\n",
       "      <td>r   violence  profanity</td>\n",
       "      <td>8.511</td>\n",
       "    </tr>\n",
       "    <tr>\n",
       "      <th>4</th>\n",
       "      <td>sword art online</td>\n",
       "      <td>sword art online</td>\n",
       "      <td>ever since the release of the innovative nerve...</td>\n",
       "      <td>tv</td>\n",
       "      <td>summer</td>\n",
       "      <td>aniplex genco dax production ascii media works...</td>\n",
       "      <td>a-1 pictures</td>\n",
       "      <td>light novel</td>\n",
       "      <td>action adventure fantasy romance</td>\n",
       "      <td>love polygon video game</td>\n",
       "      <td>unknown</td>\n",
       "      <td>pg  teens  or older</td>\n",
       "      <td>7.201</td>\n",
       "    </tr>\n",
       "  </tbody>\n",
       "</table>\n",
       "</div>"
      ],
      "text/plain": [
       "                             Title                          English  \\\n",
       "0               shingeki no kyojin                  attack on titan   \n",
       "1                       death note                       death note   \n",
       "2  fullmetal alchemist brotherhood  fullmetal alchemist brotherhood   \n",
       "3                    one punch man                    one punch man   \n",
       "4                 sword art online                 sword art online   \n",
       "\n",
       "                                            Synopsis Type Premiered  \\\n",
       "0  centuries ago mankind was slaughtered to near ...   tv   spring    \n",
       "1  brutal murders petty thefts and senseless viol...   tv     fall    \n",
       "2  after a horrific alchemy experiment goes wrong...   tv   spring    \n",
       "3  the seemingly unimpressive saitama has a rathe...   tv     fall    \n",
       "4  ever since the release of the innovative nerve...   tv   summer    \n",
       "\n",
       "                                           Producers       Studios  \\\n",
       "0  production ig dentsu mainichi broadcasting sys...    wit studio   \n",
       "1  vap konami ashi productions nippon television ...      madhouse   \n",
       "2  aniplex square enix mainichi broadcasting syst...         bones   \n",
       "3  tv tokyo bandai visual lantis asatsu dk banpre...      madhouse   \n",
       "4  aniplex genco dax production ascii media works...  a-1 pictures   \n",
       "\n",
       "        Source                            Genres                   Themes  \\\n",
       "0        manga                      action drama   gore military survival   \n",
       "1        manga             supernatural suspense            psychological   \n",
       "2        manga    action adventure drama fantasy                 military   \n",
       "3    web manga                     action comedy       parody super power   \n",
       "4  light novel  action adventure fantasy romance  love polygon video game   \n",
       "\n",
       "  Demographics                   Rating  Score  \n",
       "0      shounen  r   violence  profanity  8.531  \n",
       "1      shounen  r   violence  profanity  8.621  \n",
       "2      shounen  r   violence  profanity  9.131  \n",
       "3       seinen  r   violence  profanity  8.511  \n",
       "4      unknown      pg  teens  or older  7.201  "
      ]
     },
     "execution_count": 88,
     "metadata": {},
     "output_type": "execute_result"
    }
   ],
   "source": [
    "df.head()"
   ]
  },
  {
   "cell_type": "code",
   "execution_count": 89,
   "metadata": {},
   "outputs": [
    {
     "data": {
      "text/plain": [
       "'centuries ago mankind was slaughtered to near extinction by monstrous humanoid creatures called titans forcing humans to hide in fear behind enormous concentric walls what makes these giants truly terrifying is that their taste for human flesh is not born out of hunger but what appears to be out of pleasure to ensure their survival the remnants of humanity began living within defensive barriers resulting in one hundred years without a single titan encounter however that fragile calm is soon shattered when a colossal titan manages to breach the supposedly impregnable outer wall reigniting the fight for survival against the maneating abominationsafter witnessing a horrific personal loss at the hands of the invading creatures eren yeager dedicates his life to their eradication by enlisting into the survey corps an elite military unit that combats the merciless humanoids outside the protection of the walls eren his adopted sister mikasa ackerman and his childhood friend armin arlert join the brutal war against the titans and race to discover a way of defeating them before the last walls are breachedwritten by mal rewrite'"
      ]
     },
     "execution_count": 89,
     "metadata": {},
     "output_type": "execute_result"
    }
   ],
   "source": [
    "df['Synopsis'][0]"
   ]
  },
  {
   "cell_type": "code",
   "execution_count": 90,
   "metadata": {},
   "outputs": [],
   "source": [
    "# df['About']=df['Title']+df['Synopsis']+df['Type']+df['Premiered']+df['Type']+df['Premiered']+df['Producers']+df['Studios']+df['Source']+df['Genres']+df['Themes']+df['Demographics']+df['Rating']+df['Score']"
   ]
  },
  {
   "cell_type": "code",
   "execution_count": 91,
   "metadata": {},
   "outputs": [
    {
     "data": {
      "application/vnd.microsoft.datawrangler.viewer.v0+json": {
       "columns": [
        {
         "name": "index",
         "rawType": "int64",
         "type": "integer"
        },
        {
         "name": "Title",
         "rawType": "object",
         "type": "string"
        },
        {
         "name": "English",
         "rawType": "object",
         "type": "string"
        },
        {
         "name": "Synopsis",
         "rawType": "object",
         "type": "string"
        },
        {
         "name": "Type",
         "rawType": "object",
         "type": "string"
        },
        {
         "name": "Premiered",
         "rawType": "object",
         "type": "string"
        },
        {
         "name": "Producers",
         "rawType": "object",
         "type": "string"
        },
        {
         "name": "Studios",
         "rawType": "object",
         "type": "string"
        },
        {
         "name": "Source",
         "rawType": "object",
         "type": "string"
        },
        {
         "name": "Genres",
         "rawType": "object",
         "type": "string"
        },
        {
         "name": "Themes",
         "rawType": "object",
         "type": "string"
        },
        {
         "name": "Demographics",
         "rawType": "object",
         "type": "string"
        },
        {
         "name": "Rating",
         "rawType": "object",
         "type": "string"
        },
        {
         "name": "Score",
         "rawType": "object",
         "type": "string"
        }
       ],
       "conversionMethod": "pd.DataFrame",
       "ref": "27152bda-775f-4f6a-9bdd-c9c3b6a5784f",
       "rows": [
        [
         "0",
         "shingeki no kyojin",
         "attack on titan",
         "centuries ago mankind was slaughtered to near extinction by monstrous humanoid creatures called titans forcing humans to hide in fear behind enormous concentric walls what makes these giants truly terrifying is that their taste for human flesh is not born out of hunger but what appears to be out of pleasure to ensure their survival the remnants of humanity began living within defensive barriers resulting in one hundred years without a single titan encounter however that fragile calm is soon shattered when a colossal titan manages to breach the supposedly impregnable outer wall reigniting the fight for survival against the maneating abominationsafter witnessing a horrific personal loss at the hands of the invading creatures eren yeager dedicates his life to their eradication by enlisting into the survey corps an elite military unit that combats the merciless humanoids outside the protection of the walls eren his adopted sister mikasa ackerman and his childhood friend armin arlert join the brutal war against the titans and race to discover a way of defeating them before the last walls are breachedwritten by mal rewrite",
         "tv",
         "spring ",
         "production ig dentsu mainichi broadcasting system pony canyon kodansha mad box pony canyon enterprise",
         "wit studio",
         "manga",
         "action drama",
         "gore military survival",
         "shounen",
         "r   violence  profanity",
         "8.531"
        ],
        [
         "1",
         "death note",
         "death note",
         "brutal murders petty thefts and senseless violence pollute the human world in contrast the realm of death gods is a humdrum unchanging gambling den the ingenious yearold japanese student light yagami and sadistic god of death ryuk share one belief their worlds are rottenfor his own amusement ryuk drops his death note into the human world light stumbles upon it deeming the first of its rules ridiculous the human whose name is written in this note shall die however the temptation is too great and light experiments by writing a felons name which disturbingly enacts his first murderaware of the terrifying godlike power that has fallen into his hands lightunder the alias kirafollows his wicked sense of justice with the ultimate goal of cleansing the world of all evildoers the meticulous mastermind detective l is already on his trail but as lights brilliance rivals ls the grand chase for kira turns into an intense battle of wits that can only end when one of them is deadwritten by mal rewrite",
         "tv",
         "fall ",
         "vap konami ashi productions nippon television network shueisha",
         "madhouse",
         "manga",
         "supernatural suspense",
         "psychological",
         "shounen",
         "r   violence  profanity",
         "8.621"
        ],
        [
         "2",
         "fullmetal alchemist brotherhood",
         "fullmetal alchemist brotherhood",
         "after a horrific alchemy experiment goes wrong in the elric household brothers edward and alphonse are left in a catastrophic new reality ignoring the alchemical principle banning human transmutation the boys attempted to bring their recently deceased mother back to life instead they suffered brutal personal loss alphonses body disintegrated while edward lost a leg and then sacrificed an arm to keep alphonses soul in the physical realm by binding it to a hulking suit of armorthe brothers are rescued by their neighbor pinako rockbell and her granddaughter winry known as a biomechanical engineering prodigy winry creates prosthetic limbs for edward by utilizing automail a tough versatile metal used in robots and combat armor after years of training the elric brothers set off on a quest to restore their bodies by locating the philosophers stonea powerful gem that allows an alchemist to defy the traditional laws of equivalent exchangeas edward becomes an infamous alchemist and gains the nickname fullmetal the boys journey embroils them in a growing conspiracy that threatens the fate of the worldwritten by mal rewrite",
         "tv",
         "spring ",
         "aniplex square enix mainichi broadcasting system studio moriken",
         "bones",
         "manga",
         "action adventure drama fantasy",
         "military",
         "shounen",
         "r   violence  profanity",
         "9.131"
        ],
        [
         "3",
         "one punch man",
         "one punch man",
         "the seemingly unimpressive saitama has a rather unique hobby being a hero in order to pursue his childhood dream saitama relentlessly trained for three years losing all of his hair in the process now saitama is so powerful he can defeat any enemy with just one punch however having no one capable of matching his strength has led saitama to an unexpected problemhe is no longer able to enjoy the thrill of battling and has become quite boredone day saitama catches the attention of yearold cyborg genos who witnesses his power and wishes to become saitamas disciple genos proposes that the two join the hero association in order to become certified heroes that will be recognized for their positive contributions to society saitama who is shocked that no one knows who he is quickly agrees meeting new allies and taking on new foes saitama embarks on a new journey as a member of the hero association to experience the excitement of battle he once feltwritten by mal rewrite",
         "tv",
         "fall ",
         "tv tokyo bandai visual lantis asatsu dk banpresto good smile company shueisha jr east marketing  communications",
         "madhouse",
         "web manga",
         "action comedy",
         "parody super power",
         "seinen",
         "r   violence  profanity",
         "8.511"
        ],
        [
         "4",
         "sword art online",
         "sword art online",
         "ever since the release of the innovative nervegear gamers from all around the globe have been given the opportunity to experience a completely immersive virtual reality sword art online sao one of the most recent games on the console offers a gateway into the wondrous world of aincrad a vivid medieval landscape where users can do anything within the limits of imagination with the release of this worldwide sensation gaming has never felt more lifelikehowever the idyllic fantasy rapidly becomes a brutal nightmare when saos creator traps thousands of players inside the game the logout function has been removed with the only method of escape involving beating all of aincrads one hundred increasingly difficult levels adding to the struggle any ingame death becomes permanent ending the players life in the real worldwhile kazuto kirito kirigaya was fortunate enough to be a betatester for the game he quickly finds that despite his advantages he cannot overcome saos challenges alone teaming up with asuna yuuki and other talented players kirito makes an effort to face the seemingly insurmountable trials headon but with difficult bosses and threatening dark cults impeding his progress kirito finds that such tasks are much easier said than donewritten by mal rewrite",
         "tv",
         "summer ",
         "aniplex genco dax production ascii media works bandai namco games",
         "a-1 pictures",
         "light novel",
         "action adventure fantasy romance",
         "love polygon video game",
         "unknown",
         "pg  teens  or older",
         "7.201"
        ]
       ],
       "shape": {
        "columns": 13,
        "rows": 5
       }
      },
      "text/html": [
       "<div>\n",
       "<style scoped>\n",
       "    .dataframe tbody tr th:only-of-type {\n",
       "        vertical-align: middle;\n",
       "    }\n",
       "\n",
       "    .dataframe tbody tr th {\n",
       "        vertical-align: top;\n",
       "    }\n",
       "\n",
       "    .dataframe thead th {\n",
       "        text-align: right;\n",
       "    }\n",
       "</style>\n",
       "<table border=\"1\" class=\"dataframe\">\n",
       "  <thead>\n",
       "    <tr style=\"text-align: right;\">\n",
       "      <th></th>\n",
       "      <th>Title</th>\n",
       "      <th>English</th>\n",
       "      <th>Synopsis</th>\n",
       "      <th>Type</th>\n",
       "      <th>Premiered</th>\n",
       "      <th>Producers</th>\n",
       "      <th>Studios</th>\n",
       "      <th>Source</th>\n",
       "      <th>Genres</th>\n",
       "      <th>Themes</th>\n",
       "      <th>Demographics</th>\n",
       "      <th>Rating</th>\n",
       "      <th>Score</th>\n",
       "    </tr>\n",
       "  </thead>\n",
       "  <tbody>\n",
       "    <tr>\n",
       "      <th>0</th>\n",
       "      <td>shingeki no kyojin</td>\n",
       "      <td>attack on titan</td>\n",
       "      <td>centuries ago mankind was slaughtered to near ...</td>\n",
       "      <td>tv</td>\n",
       "      <td>spring</td>\n",
       "      <td>production ig dentsu mainichi broadcasting sys...</td>\n",
       "      <td>wit studio</td>\n",
       "      <td>manga</td>\n",
       "      <td>action drama</td>\n",
       "      <td>gore military survival</td>\n",
       "      <td>shounen</td>\n",
       "      <td>r   violence  profanity</td>\n",
       "      <td>8.531</td>\n",
       "    </tr>\n",
       "    <tr>\n",
       "      <th>1</th>\n",
       "      <td>death note</td>\n",
       "      <td>death note</td>\n",
       "      <td>brutal murders petty thefts and senseless viol...</td>\n",
       "      <td>tv</td>\n",
       "      <td>fall</td>\n",
       "      <td>vap konami ashi productions nippon television ...</td>\n",
       "      <td>madhouse</td>\n",
       "      <td>manga</td>\n",
       "      <td>supernatural suspense</td>\n",
       "      <td>psychological</td>\n",
       "      <td>shounen</td>\n",
       "      <td>r   violence  profanity</td>\n",
       "      <td>8.621</td>\n",
       "    </tr>\n",
       "    <tr>\n",
       "      <th>2</th>\n",
       "      <td>fullmetal alchemist brotherhood</td>\n",
       "      <td>fullmetal alchemist brotherhood</td>\n",
       "      <td>after a horrific alchemy experiment goes wrong...</td>\n",
       "      <td>tv</td>\n",
       "      <td>spring</td>\n",
       "      <td>aniplex square enix mainichi broadcasting syst...</td>\n",
       "      <td>bones</td>\n",
       "      <td>manga</td>\n",
       "      <td>action adventure drama fantasy</td>\n",
       "      <td>military</td>\n",
       "      <td>shounen</td>\n",
       "      <td>r   violence  profanity</td>\n",
       "      <td>9.131</td>\n",
       "    </tr>\n",
       "    <tr>\n",
       "      <th>3</th>\n",
       "      <td>one punch man</td>\n",
       "      <td>one punch man</td>\n",
       "      <td>the seemingly unimpressive saitama has a rathe...</td>\n",
       "      <td>tv</td>\n",
       "      <td>fall</td>\n",
       "      <td>tv tokyo bandai visual lantis asatsu dk banpre...</td>\n",
       "      <td>madhouse</td>\n",
       "      <td>web manga</td>\n",
       "      <td>action comedy</td>\n",
       "      <td>parody super power</td>\n",
       "      <td>seinen</td>\n",
       "      <td>r   violence  profanity</td>\n",
       "      <td>8.511</td>\n",
       "    </tr>\n",
       "    <tr>\n",
       "      <th>4</th>\n",
       "      <td>sword art online</td>\n",
       "      <td>sword art online</td>\n",
       "      <td>ever since the release of the innovative nerve...</td>\n",
       "      <td>tv</td>\n",
       "      <td>summer</td>\n",
       "      <td>aniplex genco dax production ascii media works...</td>\n",
       "      <td>a-1 pictures</td>\n",
       "      <td>light novel</td>\n",
       "      <td>action adventure fantasy romance</td>\n",
       "      <td>love polygon video game</td>\n",
       "      <td>unknown</td>\n",
       "      <td>pg  teens  or older</td>\n",
       "      <td>7.201</td>\n",
       "    </tr>\n",
       "  </tbody>\n",
       "</table>\n",
       "</div>"
      ],
      "text/plain": [
       "                             Title                          English  \\\n",
       "0               shingeki no kyojin                  attack on titan   \n",
       "1                       death note                       death note   \n",
       "2  fullmetal alchemist brotherhood  fullmetal alchemist brotherhood   \n",
       "3                    one punch man                    one punch man   \n",
       "4                 sword art online                 sword art online   \n",
       "\n",
       "                                            Synopsis Type Premiered  \\\n",
       "0  centuries ago mankind was slaughtered to near ...   tv   spring    \n",
       "1  brutal murders petty thefts and senseless viol...   tv     fall    \n",
       "2  after a horrific alchemy experiment goes wrong...   tv   spring    \n",
       "3  the seemingly unimpressive saitama has a rathe...   tv     fall    \n",
       "4  ever since the release of the innovative nerve...   tv   summer    \n",
       "\n",
       "                                           Producers       Studios  \\\n",
       "0  production ig dentsu mainichi broadcasting sys...    wit studio   \n",
       "1  vap konami ashi productions nippon television ...      madhouse   \n",
       "2  aniplex square enix mainichi broadcasting syst...         bones   \n",
       "3  tv tokyo bandai visual lantis asatsu dk banpre...      madhouse   \n",
       "4  aniplex genco dax production ascii media works...  a-1 pictures   \n",
       "\n",
       "        Source                            Genres                   Themes  \\\n",
       "0        manga                      action drama   gore military survival   \n",
       "1        manga             supernatural suspense            psychological   \n",
       "2        manga    action adventure drama fantasy                 military   \n",
       "3    web manga                     action comedy       parody super power   \n",
       "4  light novel  action adventure fantasy romance  love polygon video game   \n",
       "\n",
       "  Demographics                   Rating  Score  \n",
       "0      shounen  r   violence  profanity  8.531  \n",
       "1      shounen  r   violence  profanity  8.621  \n",
       "2      shounen  r   violence  profanity  9.131  \n",
       "3       seinen  r   violence  profanity  8.511  \n",
       "4      unknown      pg  teens  or older  7.201  "
      ]
     },
     "execution_count": 91,
     "metadata": {},
     "output_type": "execute_result"
    }
   ],
   "source": [
    "df.head()"
   ]
  },
  {
   "cell_type": "code",
   "execution_count": null,
   "metadata": {},
   "outputs": [],
   "source": []
  },
  {
   "cell_type": "code",
   "execution_count": 92,
   "metadata": {},
   "outputs": [],
   "source": [
    "cols=[\"Title\",\"Synopsis\",\"Type\",\"Premiered\",\"Producers\",\"Studios\",\"Source\",\"Genres\",\"Themes\",\"Demographics\",\"Rating\",\"Score\"]\n",
    "def merg(df:pd.DataFrame,col=cols) ->pd.DataFrame:\n",
    "    df['About']=\"\"\n",
    "    for i in col:\n",
    "        df['About']+=df[i]+\" \"\n",
    "    return df    "
   ]
  },
  {
   "cell_type": "code",
   "execution_count": 93,
   "metadata": {},
   "outputs": [],
   "source": [
    "df=merg(df,col=cols)"
   ]
  },
  {
   "cell_type": "code",
   "execution_count": 94,
   "metadata": {},
   "outputs": [
    {
     "data": {
      "application/vnd.microsoft.datawrangler.viewer.v0+json": {
       "columns": [
        {
         "name": "index",
         "rawType": "int64",
         "type": "integer"
        },
        {
         "name": "Title",
         "rawType": "object",
         "type": "string"
        },
        {
         "name": "English",
         "rawType": "object",
         "type": "string"
        },
        {
         "name": "Synopsis",
         "rawType": "object",
         "type": "string"
        },
        {
         "name": "Type",
         "rawType": "object",
         "type": "string"
        },
        {
         "name": "Premiered",
         "rawType": "object",
         "type": "string"
        },
        {
         "name": "Producers",
         "rawType": "object",
         "type": "string"
        },
        {
         "name": "Studios",
         "rawType": "object",
         "type": "string"
        },
        {
         "name": "Source",
         "rawType": "object",
         "type": "string"
        },
        {
         "name": "Genres",
         "rawType": "object",
         "type": "string"
        },
        {
         "name": "Themes",
         "rawType": "object",
         "type": "string"
        },
        {
         "name": "Demographics",
         "rawType": "object",
         "type": "string"
        },
        {
         "name": "Rating",
         "rawType": "object",
         "type": "string"
        },
        {
         "name": "Score",
         "rawType": "object",
         "type": "string"
        },
        {
         "name": "About",
         "rawType": "object",
         "type": "string"
        }
       ],
       "conversionMethod": "pd.DataFrame",
       "ref": "dd8d271d-608d-46ae-8c34-17b3d48a4da2",
       "rows": [
        [
         "0",
         "shingeki no kyojin",
         "attack on titan",
         "centuries ago mankind was slaughtered to near extinction by monstrous humanoid creatures called titans forcing humans to hide in fear behind enormous concentric walls what makes these giants truly terrifying is that their taste for human flesh is not born out of hunger but what appears to be out of pleasure to ensure their survival the remnants of humanity began living within defensive barriers resulting in one hundred years without a single titan encounter however that fragile calm is soon shattered when a colossal titan manages to breach the supposedly impregnable outer wall reigniting the fight for survival against the maneating abominationsafter witnessing a horrific personal loss at the hands of the invading creatures eren yeager dedicates his life to their eradication by enlisting into the survey corps an elite military unit that combats the merciless humanoids outside the protection of the walls eren his adopted sister mikasa ackerman and his childhood friend armin arlert join the brutal war against the titans and race to discover a way of defeating them before the last walls are breachedwritten by mal rewrite",
         "tv",
         "spring ",
         "production ig dentsu mainichi broadcasting system pony canyon kodansha mad box pony canyon enterprise",
         "wit studio",
         "manga",
         "action drama",
         "gore military survival",
         "shounen",
         "r   violence  profanity",
         "8.531",
         "shingeki no kyojin centuries ago mankind was slaughtered to near extinction by monstrous humanoid creatures called titans forcing humans to hide in fear behind enormous concentric walls what makes these giants truly terrifying is that their taste for human flesh is not born out of hunger but what appears to be out of pleasure to ensure their survival the remnants of humanity began living within defensive barriers resulting in one hundred years without a single titan encounter however that fragile calm is soon shattered when a colossal titan manages to breach the supposedly impregnable outer wall reigniting the fight for survival against the maneating abominationsafter witnessing a horrific personal loss at the hands of the invading creatures eren yeager dedicates his life to their eradication by enlisting into the survey corps an elite military unit that combats the merciless humanoids outside the protection of the walls eren his adopted sister mikasa ackerman and his childhood friend armin arlert join the brutal war against the titans and race to discover a way of defeating them before the last walls are breachedwritten by mal rewrite tv spring  production ig dentsu mainichi broadcasting system pony canyon kodansha mad box pony canyon enterprise wit studio manga action drama gore military survival shounen r   violence  profanity 8.531 "
        ],
        [
         "1",
         "death note",
         "death note",
         "brutal murders petty thefts and senseless violence pollute the human world in contrast the realm of death gods is a humdrum unchanging gambling den the ingenious yearold japanese student light yagami and sadistic god of death ryuk share one belief their worlds are rottenfor his own amusement ryuk drops his death note into the human world light stumbles upon it deeming the first of its rules ridiculous the human whose name is written in this note shall die however the temptation is too great and light experiments by writing a felons name which disturbingly enacts his first murderaware of the terrifying godlike power that has fallen into his hands lightunder the alias kirafollows his wicked sense of justice with the ultimate goal of cleansing the world of all evildoers the meticulous mastermind detective l is already on his trail but as lights brilliance rivals ls the grand chase for kira turns into an intense battle of wits that can only end when one of them is deadwritten by mal rewrite",
         "tv",
         "fall ",
         "vap konami ashi productions nippon television network shueisha",
         "madhouse",
         "manga",
         "supernatural suspense",
         "psychological",
         "shounen",
         "r   violence  profanity",
         "8.621",
         "death note brutal murders petty thefts and senseless violence pollute the human world in contrast the realm of death gods is a humdrum unchanging gambling den the ingenious yearold japanese student light yagami and sadistic god of death ryuk share one belief their worlds are rottenfor his own amusement ryuk drops his death note into the human world light stumbles upon it deeming the first of its rules ridiculous the human whose name is written in this note shall die however the temptation is too great and light experiments by writing a felons name which disturbingly enacts his first murderaware of the terrifying godlike power that has fallen into his hands lightunder the alias kirafollows his wicked sense of justice with the ultimate goal of cleansing the world of all evildoers the meticulous mastermind detective l is already on his trail but as lights brilliance rivals ls the grand chase for kira turns into an intense battle of wits that can only end when one of them is deadwritten by mal rewrite tv fall  vap konami ashi productions nippon television network shueisha madhouse manga supernatural suspense psychological shounen r   violence  profanity 8.621 "
        ],
        [
         "2",
         "fullmetal alchemist brotherhood",
         "fullmetal alchemist brotherhood",
         "after a horrific alchemy experiment goes wrong in the elric household brothers edward and alphonse are left in a catastrophic new reality ignoring the alchemical principle banning human transmutation the boys attempted to bring their recently deceased mother back to life instead they suffered brutal personal loss alphonses body disintegrated while edward lost a leg and then sacrificed an arm to keep alphonses soul in the physical realm by binding it to a hulking suit of armorthe brothers are rescued by their neighbor pinako rockbell and her granddaughter winry known as a biomechanical engineering prodigy winry creates prosthetic limbs for edward by utilizing automail a tough versatile metal used in robots and combat armor after years of training the elric brothers set off on a quest to restore their bodies by locating the philosophers stonea powerful gem that allows an alchemist to defy the traditional laws of equivalent exchangeas edward becomes an infamous alchemist and gains the nickname fullmetal the boys journey embroils them in a growing conspiracy that threatens the fate of the worldwritten by mal rewrite",
         "tv",
         "spring ",
         "aniplex square enix mainichi broadcasting system studio moriken",
         "bones",
         "manga",
         "action adventure drama fantasy",
         "military",
         "shounen",
         "r   violence  profanity",
         "9.131",
         "fullmetal alchemist brotherhood after a horrific alchemy experiment goes wrong in the elric household brothers edward and alphonse are left in a catastrophic new reality ignoring the alchemical principle banning human transmutation the boys attempted to bring their recently deceased mother back to life instead they suffered brutal personal loss alphonses body disintegrated while edward lost a leg and then sacrificed an arm to keep alphonses soul in the physical realm by binding it to a hulking suit of armorthe brothers are rescued by their neighbor pinako rockbell and her granddaughter winry known as a biomechanical engineering prodigy winry creates prosthetic limbs for edward by utilizing automail a tough versatile metal used in robots and combat armor after years of training the elric brothers set off on a quest to restore their bodies by locating the philosophers stonea powerful gem that allows an alchemist to defy the traditional laws of equivalent exchangeas edward becomes an infamous alchemist and gains the nickname fullmetal the boys journey embroils them in a growing conspiracy that threatens the fate of the worldwritten by mal rewrite tv spring  aniplex square enix mainichi broadcasting system studio moriken bones manga action adventure drama fantasy military shounen r   violence  profanity 9.131 "
        ],
        [
         "3",
         "one punch man",
         "one punch man",
         "the seemingly unimpressive saitama has a rather unique hobby being a hero in order to pursue his childhood dream saitama relentlessly trained for three years losing all of his hair in the process now saitama is so powerful he can defeat any enemy with just one punch however having no one capable of matching his strength has led saitama to an unexpected problemhe is no longer able to enjoy the thrill of battling and has become quite boredone day saitama catches the attention of yearold cyborg genos who witnesses his power and wishes to become saitamas disciple genos proposes that the two join the hero association in order to become certified heroes that will be recognized for their positive contributions to society saitama who is shocked that no one knows who he is quickly agrees meeting new allies and taking on new foes saitama embarks on a new journey as a member of the hero association to experience the excitement of battle he once feltwritten by mal rewrite",
         "tv",
         "fall ",
         "tv tokyo bandai visual lantis asatsu dk banpresto good smile company shueisha jr east marketing  communications",
         "madhouse",
         "web manga",
         "action comedy",
         "parody super power",
         "seinen",
         "r   violence  profanity",
         "8.511",
         "one punch man the seemingly unimpressive saitama has a rather unique hobby being a hero in order to pursue his childhood dream saitama relentlessly trained for three years losing all of his hair in the process now saitama is so powerful he can defeat any enemy with just one punch however having no one capable of matching his strength has led saitama to an unexpected problemhe is no longer able to enjoy the thrill of battling and has become quite boredone day saitama catches the attention of yearold cyborg genos who witnesses his power and wishes to become saitamas disciple genos proposes that the two join the hero association in order to become certified heroes that will be recognized for their positive contributions to society saitama who is shocked that no one knows who he is quickly agrees meeting new allies and taking on new foes saitama embarks on a new journey as a member of the hero association to experience the excitement of battle he once feltwritten by mal rewrite tv fall  tv tokyo bandai visual lantis asatsu dk banpresto good smile company shueisha jr east marketing  communications madhouse web manga action comedy parody super power seinen r   violence  profanity 8.511 "
        ],
        [
         "4",
         "sword art online",
         "sword art online",
         "ever since the release of the innovative nervegear gamers from all around the globe have been given the opportunity to experience a completely immersive virtual reality sword art online sao one of the most recent games on the console offers a gateway into the wondrous world of aincrad a vivid medieval landscape where users can do anything within the limits of imagination with the release of this worldwide sensation gaming has never felt more lifelikehowever the idyllic fantasy rapidly becomes a brutal nightmare when saos creator traps thousands of players inside the game the logout function has been removed with the only method of escape involving beating all of aincrads one hundred increasingly difficult levels adding to the struggle any ingame death becomes permanent ending the players life in the real worldwhile kazuto kirito kirigaya was fortunate enough to be a betatester for the game he quickly finds that despite his advantages he cannot overcome saos challenges alone teaming up with asuna yuuki and other talented players kirito makes an effort to face the seemingly insurmountable trials headon but with difficult bosses and threatening dark cults impeding his progress kirito finds that such tasks are much easier said than donewritten by mal rewrite",
         "tv",
         "summer ",
         "aniplex genco dax production ascii media works bandai namco games",
         "a-1 pictures",
         "light novel",
         "action adventure fantasy romance",
         "love polygon video game",
         "unknown",
         "pg  teens  or older",
         "7.201",
         "sword art online ever since the release of the innovative nervegear gamers from all around the globe have been given the opportunity to experience a completely immersive virtual reality sword art online sao one of the most recent games on the console offers a gateway into the wondrous world of aincrad a vivid medieval landscape where users can do anything within the limits of imagination with the release of this worldwide sensation gaming has never felt more lifelikehowever the idyllic fantasy rapidly becomes a brutal nightmare when saos creator traps thousands of players inside the game the logout function has been removed with the only method of escape involving beating all of aincrads one hundred increasingly difficult levels adding to the struggle any ingame death becomes permanent ending the players life in the real worldwhile kazuto kirito kirigaya was fortunate enough to be a betatester for the game he quickly finds that despite his advantages he cannot overcome saos challenges alone teaming up with asuna yuuki and other talented players kirito makes an effort to face the seemingly insurmountable trials headon but with difficult bosses and threatening dark cults impeding his progress kirito finds that such tasks are much easier said than donewritten by mal rewrite tv summer  aniplex genco dax production ascii media works bandai namco games a-1 pictures light novel action adventure fantasy romance love polygon video game unknown pg  teens  or older 7.201 "
        ]
       ],
       "shape": {
        "columns": 14,
        "rows": 5
       }
      },
      "text/html": [
       "<div>\n",
       "<style scoped>\n",
       "    .dataframe tbody tr th:only-of-type {\n",
       "        vertical-align: middle;\n",
       "    }\n",
       "\n",
       "    .dataframe tbody tr th {\n",
       "        vertical-align: top;\n",
       "    }\n",
       "\n",
       "    .dataframe thead th {\n",
       "        text-align: right;\n",
       "    }\n",
       "</style>\n",
       "<table border=\"1\" class=\"dataframe\">\n",
       "  <thead>\n",
       "    <tr style=\"text-align: right;\">\n",
       "      <th></th>\n",
       "      <th>Title</th>\n",
       "      <th>English</th>\n",
       "      <th>Synopsis</th>\n",
       "      <th>Type</th>\n",
       "      <th>Premiered</th>\n",
       "      <th>Producers</th>\n",
       "      <th>Studios</th>\n",
       "      <th>Source</th>\n",
       "      <th>Genres</th>\n",
       "      <th>Themes</th>\n",
       "      <th>Demographics</th>\n",
       "      <th>Rating</th>\n",
       "      <th>Score</th>\n",
       "      <th>About</th>\n",
       "    </tr>\n",
       "  </thead>\n",
       "  <tbody>\n",
       "    <tr>\n",
       "      <th>0</th>\n",
       "      <td>shingeki no kyojin</td>\n",
       "      <td>attack on titan</td>\n",
       "      <td>centuries ago mankind was slaughtered to near ...</td>\n",
       "      <td>tv</td>\n",
       "      <td>spring</td>\n",
       "      <td>production ig dentsu mainichi broadcasting sys...</td>\n",
       "      <td>wit studio</td>\n",
       "      <td>manga</td>\n",
       "      <td>action drama</td>\n",
       "      <td>gore military survival</td>\n",
       "      <td>shounen</td>\n",
       "      <td>r   violence  profanity</td>\n",
       "      <td>8.531</td>\n",
       "      <td>shingeki no kyojin centuries ago mankind was s...</td>\n",
       "    </tr>\n",
       "    <tr>\n",
       "      <th>1</th>\n",
       "      <td>death note</td>\n",
       "      <td>death note</td>\n",
       "      <td>brutal murders petty thefts and senseless viol...</td>\n",
       "      <td>tv</td>\n",
       "      <td>fall</td>\n",
       "      <td>vap konami ashi productions nippon television ...</td>\n",
       "      <td>madhouse</td>\n",
       "      <td>manga</td>\n",
       "      <td>supernatural suspense</td>\n",
       "      <td>psychological</td>\n",
       "      <td>shounen</td>\n",
       "      <td>r   violence  profanity</td>\n",
       "      <td>8.621</td>\n",
       "      <td>death note brutal murders petty thefts and sen...</td>\n",
       "    </tr>\n",
       "    <tr>\n",
       "      <th>2</th>\n",
       "      <td>fullmetal alchemist brotherhood</td>\n",
       "      <td>fullmetal alchemist brotherhood</td>\n",
       "      <td>after a horrific alchemy experiment goes wrong...</td>\n",
       "      <td>tv</td>\n",
       "      <td>spring</td>\n",
       "      <td>aniplex square enix mainichi broadcasting syst...</td>\n",
       "      <td>bones</td>\n",
       "      <td>manga</td>\n",
       "      <td>action adventure drama fantasy</td>\n",
       "      <td>military</td>\n",
       "      <td>shounen</td>\n",
       "      <td>r   violence  profanity</td>\n",
       "      <td>9.131</td>\n",
       "      <td>fullmetal alchemist brotherhood after a horrif...</td>\n",
       "    </tr>\n",
       "    <tr>\n",
       "      <th>3</th>\n",
       "      <td>one punch man</td>\n",
       "      <td>one punch man</td>\n",
       "      <td>the seemingly unimpressive saitama has a rathe...</td>\n",
       "      <td>tv</td>\n",
       "      <td>fall</td>\n",
       "      <td>tv tokyo bandai visual lantis asatsu dk banpre...</td>\n",
       "      <td>madhouse</td>\n",
       "      <td>web manga</td>\n",
       "      <td>action comedy</td>\n",
       "      <td>parody super power</td>\n",
       "      <td>seinen</td>\n",
       "      <td>r   violence  profanity</td>\n",
       "      <td>8.511</td>\n",
       "      <td>one punch man the seemingly unimpressive saita...</td>\n",
       "    </tr>\n",
       "    <tr>\n",
       "      <th>4</th>\n",
       "      <td>sword art online</td>\n",
       "      <td>sword art online</td>\n",
       "      <td>ever since the release of the innovative nerve...</td>\n",
       "      <td>tv</td>\n",
       "      <td>summer</td>\n",
       "      <td>aniplex genco dax production ascii media works...</td>\n",
       "      <td>a-1 pictures</td>\n",
       "      <td>light novel</td>\n",
       "      <td>action adventure fantasy romance</td>\n",
       "      <td>love polygon video game</td>\n",
       "      <td>unknown</td>\n",
       "      <td>pg  teens  or older</td>\n",
       "      <td>7.201</td>\n",
       "      <td>sword art online ever since the release of the...</td>\n",
       "    </tr>\n",
       "  </tbody>\n",
       "</table>\n",
       "</div>"
      ],
      "text/plain": [
       "                             Title                          English  \\\n",
       "0               shingeki no kyojin                  attack on titan   \n",
       "1                       death note                       death note   \n",
       "2  fullmetal alchemist brotherhood  fullmetal alchemist brotherhood   \n",
       "3                    one punch man                    one punch man   \n",
       "4                 sword art online                 sword art online   \n",
       "\n",
       "                                            Synopsis Type Premiered  \\\n",
       "0  centuries ago mankind was slaughtered to near ...   tv   spring    \n",
       "1  brutal murders petty thefts and senseless viol...   tv     fall    \n",
       "2  after a horrific alchemy experiment goes wrong...   tv   spring    \n",
       "3  the seemingly unimpressive saitama has a rathe...   tv     fall    \n",
       "4  ever since the release of the innovative nerve...   tv   summer    \n",
       "\n",
       "                                           Producers       Studios  \\\n",
       "0  production ig dentsu mainichi broadcasting sys...    wit studio   \n",
       "1  vap konami ashi productions nippon television ...      madhouse   \n",
       "2  aniplex square enix mainichi broadcasting syst...         bones   \n",
       "3  tv tokyo bandai visual lantis asatsu dk banpre...      madhouse   \n",
       "4  aniplex genco dax production ascii media works...  a-1 pictures   \n",
       "\n",
       "        Source                            Genres                   Themes  \\\n",
       "0        manga                      action drama   gore military survival   \n",
       "1        manga             supernatural suspense            psychological   \n",
       "2        manga    action adventure drama fantasy                 military   \n",
       "3    web manga                     action comedy       parody super power   \n",
       "4  light novel  action adventure fantasy romance  love polygon video game   \n",
       "\n",
       "  Demographics                   Rating  Score  \\\n",
       "0      shounen  r   violence  profanity  8.531   \n",
       "1      shounen  r   violence  profanity  8.621   \n",
       "2      shounen  r   violence  profanity  9.131   \n",
       "3       seinen  r   violence  profanity  8.511   \n",
       "4      unknown      pg  teens  or older  7.201   \n",
       "\n",
       "                                               About  \n",
       "0  shingeki no kyojin centuries ago mankind was s...  \n",
       "1  death note brutal murders petty thefts and sen...  \n",
       "2  fullmetal alchemist brotherhood after a horrif...  \n",
       "3  one punch man the seemingly unimpressive saita...  \n",
       "4  sword art online ever since the release of the...  "
      ]
     },
     "execution_count": 94,
     "metadata": {},
     "output_type": "execute_result"
    }
   ],
   "source": [
    "df.head()"
   ]
  },
  {
   "cell_type": "code",
   "execution_count": 95,
   "metadata": {},
   "outputs": [
    {
     "data": {
      "text/plain": [
       "'shingeki no kyojin centuries ago mankind was slaughtered to near extinction by monstrous humanoid creatures called titans forcing humans to hide in fear behind enormous concentric walls what makes these giants truly terrifying is that their taste for human flesh is not born out of hunger but what appears to be out of pleasure to ensure their survival the remnants of humanity began living within defensive barriers resulting in one hundred years without a single titan encounter however that fragile calm is soon shattered when a colossal titan manages to breach the supposedly impregnable outer wall reigniting the fight for survival against the maneating abominationsafter witnessing a horrific personal loss at the hands of the invading creatures eren yeager dedicates his life to their eradication by enlisting into the survey corps an elite military unit that combats the merciless humanoids outside the protection of the walls eren his adopted sister mikasa ackerman and his childhood friend armin arlert join the brutal war against the titans and race to discover a way of defeating them before the last walls are breachedwritten by mal rewrite tv spring  production ig dentsu mainichi broadcasting system pony canyon kodansha mad box pony canyon enterprise wit studio manga action drama gore military survival shounen r   violence  profanity 8.531 '"
      ]
     },
     "execution_count": 95,
     "metadata": {},
     "output_type": "execute_result"
    }
   ],
   "source": [
    "df['About'][0]"
   ]
  },
  {
   "cell_type": "code",
   "execution_count": 96,
   "metadata": {},
   "outputs": [],
   "source": [
    "cols=[\"Title\",\"Synopsis\",\"Type\",\"Premiered\",\"Producers\",\"Studios\",\"Source\",\"Genres\",\"Themes\",\"Demographics\",\"Rating\",\"Score\"]\n",
    "def rem(df:pd.DataFrame,col=cols) -> pd.DataFrame:\n",
    "    for i in cols: \n",
    "        df.drop(i,axis=1,inplace=True)\n",
    "    return df     "
   ]
  },
  {
   "cell_type": "code",
   "execution_count": 97,
   "metadata": {},
   "outputs": [],
   "source": [
    "df=rem(df,col=cols)"
   ]
  },
  {
   "cell_type": "code",
   "execution_count": 98,
   "metadata": {},
   "outputs": [
    {
     "data": {
      "application/vnd.microsoft.datawrangler.viewer.v0+json": {
       "columns": [
        {
         "name": "index",
         "rawType": "int64",
         "type": "integer"
        },
        {
         "name": "English",
         "rawType": "object",
         "type": "string"
        },
        {
         "name": "About",
         "rawType": "object",
         "type": "string"
        }
       ],
       "conversionMethod": "pd.DataFrame",
       "ref": "82dcd607-5837-455f-af31-dc587fd868ad",
       "rows": [
        [
         "0",
         "attack on titan",
         "shingeki no kyojin centuries ago mankind was slaughtered to near extinction by monstrous humanoid creatures called titans forcing humans to hide in fear behind enormous concentric walls what makes these giants truly terrifying is that their taste for human flesh is not born out of hunger but what appears to be out of pleasure to ensure their survival the remnants of humanity began living within defensive barriers resulting in one hundred years without a single titan encounter however that fragile calm is soon shattered when a colossal titan manages to breach the supposedly impregnable outer wall reigniting the fight for survival against the maneating abominationsafter witnessing a horrific personal loss at the hands of the invading creatures eren yeager dedicates his life to their eradication by enlisting into the survey corps an elite military unit that combats the merciless humanoids outside the protection of the walls eren his adopted sister mikasa ackerman and his childhood friend armin arlert join the brutal war against the titans and race to discover a way of defeating them before the last walls are breachedwritten by mal rewrite tv spring  production ig dentsu mainichi broadcasting system pony canyon kodansha mad box pony canyon enterprise wit studio manga action drama gore military survival shounen r   violence  profanity 8.531 "
        ],
        [
         "1",
         "death note",
         "death note brutal murders petty thefts and senseless violence pollute the human world in contrast the realm of death gods is a humdrum unchanging gambling den the ingenious yearold japanese student light yagami and sadistic god of death ryuk share one belief their worlds are rottenfor his own amusement ryuk drops his death note into the human world light stumbles upon it deeming the first of its rules ridiculous the human whose name is written in this note shall die however the temptation is too great and light experiments by writing a felons name which disturbingly enacts his first murderaware of the terrifying godlike power that has fallen into his hands lightunder the alias kirafollows his wicked sense of justice with the ultimate goal of cleansing the world of all evildoers the meticulous mastermind detective l is already on his trail but as lights brilliance rivals ls the grand chase for kira turns into an intense battle of wits that can only end when one of them is deadwritten by mal rewrite tv fall  vap konami ashi productions nippon television network shueisha madhouse manga supernatural suspense psychological shounen r   violence  profanity 8.621 "
        ],
        [
         "2",
         "fullmetal alchemist brotherhood",
         "fullmetal alchemist brotherhood after a horrific alchemy experiment goes wrong in the elric household brothers edward and alphonse are left in a catastrophic new reality ignoring the alchemical principle banning human transmutation the boys attempted to bring their recently deceased mother back to life instead they suffered brutal personal loss alphonses body disintegrated while edward lost a leg and then sacrificed an arm to keep alphonses soul in the physical realm by binding it to a hulking suit of armorthe brothers are rescued by their neighbor pinako rockbell and her granddaughter winry known as a biomechanical engineering prodigy winry creates prosthetic limbs for edward by utilizing automail a tough versatile metal used in robots and combat armor after years of training the elric brothers set off on a quest to restore their bodies by locating the philosophers stonea powerful gem that allows an alchemist to defy the traditional laws of equivalent exchangeas edward becomes an infamous alchemist and gains the nickname fullmetal the boys journey embroils them in a growing conspiracy that threatens the fate of the worldwritten by mal rewrite tv spring  aniplex square enix mainichi broadcasting system studio moriken bones manga action adventure drama fantasy military shounen r   violence  profanity 9.131 "
        ],
        [
         "3",
         "one punch man",
         "one punch man the seemingly unimpressive saitama has a rather unique hobby being a hero in order to pursue his childhood dream saitama relentlessly trained for three years losing all of his hair in the process now saitama is so powerful he can defeat any enemy with just one punch however having no one capable of matching his strength has led saitama to an unexpected problemhe is no longer able to enjoy the thrill of battling and has become quite boredone day saitama catches the attention of yearold cyborg genos who witnesses his power and wishes to become saitamas disciple genos proposes that the two join the hero association in order to become certified heroes that will be recognized for their positive contributions to society saitama who is shocked that no one knows who he is quickly agrees meeting new allies and taking on new foes saitama embarks on a new journey as a member of the hero association to experience the excitement of battle he once feltwritten by mal rewrite tv fall  tv tokyo bandai visual lantis asatsu dk banpresto good smile company shueisha jr east marketing  communications madhouse web manga action comedy parody super power seinen r   violence  profanity 8.511 "
        ],
        [
         "4",
         "sword art online",
         "sword art online ever since the release of the innovative nervegear gamers from all around the globe have been given the opportunity to experience a completely immersive virtual reality sword art online sao one of the most recent games on the console offers a gateway into the wondrous world of aincrad a vivid medieval landscape where users can do anything within the limits of imagination with the release of this worldwide sensation gaming has never felt more lifelikehowever the idyllic fantasy rapidly becomes a brutal nightmare when saos creator traps thousands of players inside the game the logout function has been removed with the only method of escape involving beating all of aincrads one hundred increasingly difficult levels adding to the struggle any ingame death becomes permanent ending the players life in the real worldwhile kazuto kirito kirigaya was fortunate enough to be a betatester for the game he quickly finds that despite his advantages he cannot overcome saos challenges alone teaming up with asuna yuuki and other talented players kirito makes an effort to face the seemingly insurmountable trials headon but with difficult bosses and threatening dark cults impeding his progress kirito finds that such tasks are much easier said than donewritten by mal rewrite tv summer  aniplex genco dax production ascii media works bandai namco games a-1 pictures light novel action adventure fantasy romance love polygon video game unknown pg  teens  or older 7.201 "
        ]
       ],
       "shape": {
        "columns": 2,
        "rows": 5
       }
      },
      "text/html": [
       "<div>\n",
       "<style scoped>\n",
       "    .dataframe tbody tr th:only-of-type {\n",
       "        vertical-align: middle;\n",
       "    }\n",
       "\n",
       "    .dataframe tbody tr th {\n",
       "        vertical-align: top;\n",
       "    }\n",
       "\n",
       "    .dataframe thead th {\n",
       "        text-align: right;\n",
       "    }\n",
       "</style>\n",
       "<table border=\"1\" class=\"dataframe\">\n",
       "  <thead>\n",
       "    <tr style=\"text-align: right;\">\n",
       "      <th></th>\n",
       "      <th>English</th>\n",
       "      <th>About</th>\n",
       "    </tr>\n",
       "  </thead>\n",
       "  <tbody>\n",
       "    <tr>\n",
       "      <th>0</th>\n",
       "      <td>attack on titan</td>\n",
       "      <td>shingeki no kyojin centuries ago mankind was s...</td>\n",
       "    </tr>\n",
       "    <tr>\n",
       "      <th>1</th>\n",
       "      <td>death note</td>\n",
       "      <td>death note brutal murders petty thefts and sen...</td>\n",
       "    </tr>\n",
       "    <tr>\n",
       "      <th>2</th>\n",
       "      <td>fullmetal alchemist brotherhood</td>\n",
       "      <td>fullmetal alchemist brotherhood after a horrif...</td>\n",
       "    </tr>\n",
       "    <tr>\n",
       "      <th>3</th>\n",
       "      <td>one punch man</td>\n",
       "      <td>one punch man the seemingly unimpressive saita...</td>\n",
       "    </tr>\n",
       "    <tr>\n",
       "      <th>4</th>\n",
       "      <td>sword art online</td>\n",
       "      <td>sword art online ever since the release of the...</td>\n",
       "    </tr>\n",
       "  </tbody>\n",
       "</table>\n",
       "</div>"
      ],
      "text/plain": [
       "                           English  \\\n",
       "0                  attack on titan   \n",
       "1                       death note   \n",
       "2  fullmetal alchemist brotherhood   \n",
       "3                    one punch man   \n",
       "4                 sword art online   \n",
       "\n",
       "                                               About  \n",
       "0  shingeki no kyojin centuries ago mankind was s...  \n",
       "1  death note brutal murders petty thefts and sen...  \n",
       "2  fullmetal alchemist brotherhood after a horrif...  \n",
       "3  one punch man the seemingly unimpressive saita...  \n",
       "4  sword art online ever since the release of the...  "
      ]
     },
     "execution_count": 98,
     "metadata": {},
     "output_type": "execute_result"
    }
   ],
   "source": [
    "df.head(5)"
   ]
  },
  {
   "cell_type": "code",
   "execution_count": 99,
   "metadata": {},
   "outputs": [],
   "source": [
    "from nltk.corpus import stopwords\n",
    "from nltk.stem import PorterStemmer\n",
    "def preprocessing_tex(df:pd.DataFrame,cols='About') -> pd.DataFrame:\n",
    "    st=set(stopwords.words('english'))\n",
    "    stemm=PorterStemmer()\n",
    "    df[cols]=df[cols].apply(lambda x: \" \".join([stemm.stem(i) for i in x.split() if i not in st]))\n",
    "    return df\n",
    "    "
   ]
  },
  {
   "cell_type": "code",
   "execution_count": 100,
   "metadata": {},
   "outputs": [],
   "source": [
    "df=preprocessing_tex(df,cols='About')"
   ]
  },
  {
   "cell_type": "code",
   "execution_count": 101,
   "metadata": {},
   "outputs": [
    {
     "data": {
      "application/vnd.microsoft.datawrangler.viewer.v0+json": {
       "columns": [
        {
         "name": "index",
         "rawType": "int64",
         "type": "integer"
        },
        {
         "name": "English",
         "rawType": "object",
         "type": "string"
        },
        {
         "name": "About",
         "rawType": "object",
         "type": "string"
        }
       ],
       "conversionMethod": "pd.DataFrame",
       "ref": "4b6c5b08-a1d7-42ad-bfe9-643307f70d1d",
       "rows": [
        [
         "0",
         "attack on titan",
         "shingeki kyojin centuri ago mankind slaughter near extinct monstrou humanoid creatur call titan forc human hide fear behind enorm concentr wall make giant truli terrifi tast human flesh born hunger appear pleasur ensur surviv remnant human began live within defens barrier result one hundr year without singl titan encount howev fragil calm soon shatter coloss titan manag breach supposedli impregn outer wall reignit fight surviv maneat abominationsaft wit horrif person loss hand invad creatur eren yeager dedic life erad enlist survey corp elit militari unit combat merciless humanoid outsid protect wall eren adopt sister mikasa ackerman childhood friend armin arlert join brutal war titan race discov way defeat last wall breachedwritten mal rewrit tv spring product ig dentsu mainichi broadcast system poni canyon kodansha mad box poni canyon enterpris wit studio manga action drama gore militari surviv shounen r violenc profan 8.531"
        ],
        [
         "1",
         "death note",
         "death note brutal murder petti theft senseless violenc pollut human world contrast realm death god humdrum unchang gambl den ingeni yearold japanes student light yagami sadist god death ryuk share one belief world rottenfor amus ryuk drop death note human world light stumbl upon deem first rule ridicul human whose name written note shall die howev temptat great light experi write felon name disturbingli enact first murderawar terrifi godlik power fallen hand lightund alia kirafollow wick sens justic ultim goal cleans world evildo meticul mastermind detect l alreadi trail light brillianc rival ls grand chase kira turn intens battl wit end one deadwritten mal rewrit tv fall vap konami ashi product nippon televis network shueisha madhous manga supernatur suspens psycholog shounen r violenc profan 8.621"
        ],
        [
         "2",
         "fullmetal alchemist brotherhood",
         "fullmet alchemist brotherhood horrif alchemi experi goe wrong elric household brother edward alphons left catastroph new realiti ignor alchem principl ban human transmut boy attempt bring recent deceas mother back life instead suffer brutal person loss alphons bodi disintegr edward lost leg sacrif arm keep alphons soul physic realm bind hulk suit armorth brother rescu neighbor pinako rockbel granddaught winri known biomechan engin prodigi winri creat prosthet limb edward util automail tough versatil metal use robot combat armor year train elric brother set quest restor bodi locat philosoph stonea power gem allow alchemist defi tradit law equival exchangea edward becom infam alchemist gain nicknam fullmet boy journey embroil grow conspiraci threaten fate worldwritten mal rewrit tv spring aniplex squar enix mainichi broadcast system studio moriken bone manga action adventur drama fantasi militari shounen r violenc profan 9.131"
        ],
        [
         "3",
         "one punch man",
         "one punch man seemingli unimpress saitama rather uniqu hobbi hero order pursu childhood dream saitama relentlessli train three year lose hair process saitama power defeat enemi one punch howev one capabl match strength led saitama unexpect problemh longer abl enjoy thrill battl becom quit boredon day saitama catch attent yearold cyborg geno wit power wish becom saitama discipl geno propos two join hero associ order becom certifi hero recogn posit contribut societi saitama shock one know quickli agre meet new alli take new foe saitama embark new journey member hero associ experi excit battl feltwritten mal rewrit tv fall tv tokyo bandai visual lanti asatsu dk banpresto good smile compani shueisha jr east market commun madhous web manga action comedi parodi super power seinen r violenc profan 8.511"
        ],
        [
         "4",
         "sword art online",
         "sword art onlin ever sinc releas innov nervegear gamer around globe given opportun experi complet immers virtual realiti sword art onlin sao one recent game consol offer gateway wondrou world aincrad vivid mediev landscap user anyth within limit imagin releas worldwid sensat game never felt lifelikehowev idyl fantasi rapidli becom brutal nightmar sao creator trap thousand player insid game logout function remov method escap involv beat aincrad one hundr increasingli difficult level ad struggl ingam death becom perman end player life real worldwhil kazuto kirito kirigaya fortun enough betatest game quickli find despit advantag cannot overcom sao challeng alon team asuna yuuki talent player kirito make effort face seemingli insurmount trial headon difficult boss threaten dark cult imped progress kirito find task much easier said donewritten mal rewrit tv summer aniplex genco dax product ascii media work bandai namco game a-1 pictur light novel action adventur fantasi romanc love polygon video game unknown pg teen older 7.201"
        ]
       ],
       "shape": {
        "columns": 2,
        "rows": 5
       }
      },
      "text/html": [
       "<div>\n",
       "<style scoped>\n",
       "    .dataframe tbody tr th:only-of-type {\n",
       "        vertical-align: middle;\n",
       "    }\n",
       "\n",
       "    .dataframe tbody tr th {\n",
       "        vertical-align: top;\n",
       "    }\n",
       "\n",
       "    .dataframe thead th {\n",
       "        text-align: right;\n",
       "    }\n",
       "</style>\n",
       "<table border=\"1\" class=\"dataframe\">\n",
       "  <thead>\n",
       "    <tr style=\"text-align: right;\">\n",
       "      <th></th>\n",
       "      <th>English</th>\n",
       "      <th>About</th>\n",
       "    </tr>\n",
       "  </thead>\n",
       "  <tbody>\n",
       "    <tr>\n",
       "      <th>0</th>\n",
       "      <td>attack on titan</td>\n",
       "      <td>shingeki kyojin centuri ago mankind slaughter ...</td>\n",
       "    </tr>\n",
       "    <tr>\n",
       "      <th>1</th>\n",
       "      <td>death note</td>\n",
       "      <td>death note brutal murder petti theft senseless...</td>\n",
       "    </tr>\n",
       "    <tr>\n",
       "      <th>2</th>\n",
       "      <td>fullmetal alchemist brotherhood</td>\n",
       "      <td>fullmet alchemist brotherhood horrif alchemi e...</td>\n",
       "    </tr>\n",
       "    <tr>\n",
       "      <th>3</th>\n",
       "      <td>one punch man</td>\n",
       "      <td>one punch man seemingli unimpress saitama rath...</td>\n",
       "    </tr>\n",
       "    <tr>\n",
       "      <th>4</th>\n",
       "      <td>sword art online</td>\n",
       "      <td>sword art onlin ever sinc releas innov nervege...</td>\n",
       "    </tr>\n",
       "  </tbody>\n",
       "</table>\n",
       "</div>"
      ],
      "text/plain": [
       "                           English  \\\n",
       "0                  attack on titan   \n",
       "1                       death note   \n",
       "2  fullmetal alchemist brotherhood   \n",
       "3                    one punch man   \n",
       "4                 sword art online   \n",
       "\n",
       "                                               About  \n",
       "0  shingeki kyojin centuri ago mankind slaughter ...  \n",
       "1  death note brutal murder petti theft senseless...  \n",
       "2  fullmet alchemist brotherhood horrif alchemi e...  \n",
       "3  one punch man seemingli unimpress saitama rath...  \n",
       "4  sword art onlin ever sinc releas innov nervege...  "
      ]
     },
     "execution_count": 101,
     "metadata": {},
     "output_type": "execute_result"
    }
   ],
   "source": [
    "df.head()"
   ]
  },
  {
   "cell_type": "code",
   "execution_count": 102,
   "metadata": {},
   "outputs": [
    {
     "data": {
      "text/plain": [
       "'sword art onlin ever sinc releas innov nervegear gamer around globe given opportun experi complet immers virtual realiti sword art onlin sao one recent game consol offer gateway wondrou world aincrad vivid mediev landscap user anyth within limit imagin releas worldwid sensat game never felt lifelikehowev idyl fantasi rapidli becom brutal nightmar sao creator trap thousand player insid game logout function remov method escap involv beat aincrad one hundr increasingli difficult level ad struggl ingam death becom perman end player life real worldwhil kazuto kirito kirigaya fortun enough betatest game quickli find despit advantag cannot overcom sao challeng alon team asuna yuuki talent player kirito make effort face seemingli insurmount trial headon difficult boss threaten dark cult imped progress kirito find task much easier said donewritten mal rewrit tv summer aniplex genco dax product ascii media work bandai namco game a-1 pictur light novel action adventur fantasi romanc love polygon video game unknown pg teen older 7.201'"
      ]
     },
     "execution_count": 102,
     "metadata": {},
     "output_type": "execute_result"
    }
   ],
   "source": [
    "df['About'][4]"
   ]
  },
  {
   "cell_type": "code",
   "execution_count": 103,
   "metadata": {},
   "outputs": [
    {
     "data": {
      "text/plain": [
       "(3000, 2)"
      ]
     },
     "execution_count": 103,
     "metadata": {},
     "output_type": "execute_result"
    }
   ],
   "source": [
    "df.shape"
   ]
  },
  {
   "cell_type": "code",
   "execution_count": 104,
   "metadata": {},
   "outputs": [],
   "source": [
    "from sklearn.feature_extraction.text import TfidfVectorizer\n",
    "tf_vect=TfidfVectorizer()\n",
    "vectors=tf_vect.fit_transform(df['About']).toarray()\n",
    "\n",
    "\n"
   ]
  },
  {
   "cell_type": "code",
   "execution_count": 105,
   "metadata": {},
   "outputs": [
    {
     "data": {
      "text/plain": [
       "(3000, 26553)"
      ]
     },
     "execution_count": 105,
     "metadata": {},
     "output_type": "execute_result"
    }
   ],
   "source": [
    "vectors.shape"
   ]
  },
  {
   "cell_type": "code",
   "execution_count": 106,
   "metadata": {},
   "outputs": [
    {
     "data": {
      "text/plain": [
       "array([0., 0., 0., ..., 0., 0., 0.])"
      ]
     },
     "execution_count": 106,
     "metadata": {},
     "output_type": "execute_result"
    }
   ],
   "source": [
    "vectors[7]"
   ]
  },
  {
   "cell_type": "code",
   "execution_count": 107,
   "metadata": {},
   "outputs": [],
   "source": [
    "from sklearn.metrics.pairwise import cosine_similarity\n",
    "sim_relation=cosine_similarity(vectors)"
   ]
  },
  {
   "cell_type": "code",
   "execution_count": 108,
   "metadata": {},
   "outputs": [
    {
     "data": {
      "text/plain": [
       "array([0.04873004, 0.03815518, 0.04089973, ..., 0.0101795 , 0.        ,\n",
       "       0.00339524])"
      ]
     },
     "execution_count": 108,
     "metadata": {},
     "output_type": "execute_result"
    }
   ],
   "source": [
    "sim_relation[7]"
   ]
  },
  {
   "cell_type": "code",
   "execution_count": 109,
   "metadata": {},
   "outputs": [],
   "source": [
    "\n",
    "# import os\n",
    "\n",
    "\n",
    "# df[-100:].to_csv(os.path.join(r\"C:\\Users\\Anurag\\OneDrive\\Desktop\\macine_operation\\Recommendation_CICD\\DATA\", \"mlflow_example_input.csv\"), index=False)\n",
    "\n"
   ]
  },
  {
   "cell_type": "code",
   "execution_count": 110,
   "metadata": {},
   "outputs": [
    {
     "data": {
      "text/plain": [
       "[(0, 1.0000000000000002),\n",
       " (11, 0.539163691113331),\n",
       " (2128, 0.4506533948546281),\n",
       " (17, 0.41848881188501263),\n",
       " (26, 0.3945826135711031)]"
      ]
     },
     "execution_count": 110,
     "metadata": {},
     "output_type": "execute_result"
    }
   ],
   "source": [
    "sorted(list(enumerate(sim_relation[0])),reverse=True,key=lambda x:x[1])[0:5]"
   ]
  },
  {
   "cell_type": "code",
   "execution_count": 111,
   "metadata": {},
   "outputs": [],
   "source": [
    "def recomnd(anime):\n",
    "    ani_index=df[df['English']==anime].index[0]\n",
    "    dis=sim_relation[ani_index]\n",
    "    ani_list=sorted(list(enumerate(dis)),reverse=True,key=lambda x:x[1])[1:6]\n",
    "    \n",
    "    for i in ani_list:\n",
    "     print(df.iloc[i[1]].English)\n",
    "    "
   ]
  },
  {
   "cell_type": "code",
   "execution_count": null,
   "metadata": {},
   "outputs": [],
   "source": []
  },
  {
   "cell_type": "code",
   "execution_count": null,
   "metadata": {},
   "outputs": [],
   "source": []
  },
  {
   "cell_type": "code",
   "execution_count": null,
   "metadata": {},
   "outputs": [],
   "source": []
  },
  {
   "cell_type": "code",
   "execution_count": null,
   "metadata": {},
   "outputs": [],
   "source": []
  },
  {
   "cell_type": "code",
   "execution_count": null,
   "metadata": {},
   "outputs": [],
   "source": []
  },
  {
   "cell_type": "code",
   "execution_count": null,
   "metadata": {},
   "outputs": [],
   "source": []
  },
  {
   "cell_type": "code",
   "execution_count": null,
   "metadata": {},
   "outputs": [],
   "source": []
  },
  {
   "cell_type": "code",
   "execution_count": null,
   "metadata": {},
   "outputs": [],
   "source": []
  },
  {
   "cell_type": "code",
   "execution_count": null,
   "metadata": {},
   "outputs": [],
   "source": []
  },
  {
   "cell_type": "code",
   "execution_count": null,
   "metadata": {},
   "outputs": [],
   "source": []
  },
  {
   "cell_type": "code",
   "execution_count": null,
   "metadata": {},
   "outputs": [],
   "source": []
  }
 ],
 "metadata": {
  "kernelspec": {
   "display_name": "Python 3",
   "language": "python",
   "name": "python3"
  },
  "language_info": {
   "codemirror_mode": {
    "name": "ipython",
    "version": 3
   },
   "file_extension": ".py",
   "mimetype": "text/x-python",
   "name": "python",
   "nbconvert_exporter": "python",
   "pygments_lexer": "ipython3",
   "version": "3.11.4"
  }
 },
 "nbformat": 4,
 "nbformat_minor": 2
}
